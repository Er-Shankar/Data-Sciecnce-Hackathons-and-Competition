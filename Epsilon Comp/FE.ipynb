{
 "cells": [
  {
   "cell_type": "code",
   "execution_count": 377,
   "metadata": {},
   "outputs": [],
   "source": [
    "import pandas as pd\n",
    "import numpy as np\n",
    "import matplotlib.pyplot as plt\n",
    "import seaborn as sns"
   ]
  },
  {
   "cell_type": "code",
   "execution_count": 378,
   "metadata": {},
   "outputs": [],
   "source": [
    "# Imports for better visualization\n",
    "from matplotlib import rcParams\n",
    "#colorbrewer2 Dark2 qualitative color table\n",
    "dark2_colors = [(0.10588235294117647, 0.6196078431372549, 0.4666666666666667),\n",
    "                (0.8509803921568627, 0.37254901960784315, 0.00784313725490196),\n",
    "                (0.4588235294117647, 0.4392156862745098, 0.7019607843137254),\n",
    "                (0.9058823529411765, 0.1607843137254902, 0.5411764705882353),\n",
    "                (0.4, 0.6509803921568628, 0.11764705882352941),\n",
    "                (0.9019607843137255, 0.6705882352941176, 0.00784313725490196),\n",
    "                (0.6509803921568628, 0.4627450980392157, 0.11372549019607843)]\n",
    "\n",
    "rcParams['figure.figsize'] = (10, 4)\n",
    "rcParams['figure.dpi'] = 150\n",
    "#rcParams['axes.color_cycle'] = dark2_colors\n",
    "rcParams['lines.linewidth'] = 2\n",
    "rcParams['font.size'] = 8\n",
    "rcParams['patch.edgecolor'] = 'white'\n",
    "rcParams['patch.facecolor'] = dark2_colors[0]\n",
    "rcParams['font.family'] = 'StixGeneral'\n",
    "rcParams['axes.grid'] = True\n",
    "rcParams['axes.facecolor'] = '#eeeeee'"
   ]
  },
  {
   "cell_type": "code",
   "execution_count": 379,
   "metadata": {},
   "outputs": [],
   "source": [
    "pd.set_option('max_columns',100)\n",
    "pd.set_option('max_rows',100)"
   ]
  },
  {
   "cell_type": "code",
   "execution_count": 380,
   "metadata": {},
   "outputs": [
    {
     "data": {
      "text/plain": [
       "((804, 17), (203, 16))"
      ]
     },
     "execution_count": 380,
     "metadata": {},
     "output_type": "execute_result"
    }
   ],
   "source": [
    "train = pd.read_excel(\"Epsilon'20_dataset.xlsx\", sheet_name = 'train')\n",
    "test = pd.read_excel(\"Epsilon'20_dataset.xlsx\", sheet_name = 'test')\n",
    "train.shape, test.shape"
   ]
  },
  {
   "cell_type": "code",
   "execution_count": 381,
   "metadata": {},
   "outputs": [],
   "source": [
    "train = train.rename(columns={'Marital_status ':'Marital_status', 'Emp_duration ':'Emp_duration'})\n",
    "test = test.rename(columns={'Marital_status ':'Marital_status', 'Emp_duration ':'Emp_duration'})"
   ]
  },
  {
   "cell_type": "code",
   "execution_count": 382,
   "metadata": {},
   "outputs": [
    {
     "data": {
      "text/plain": [
       "(803, 17)"
      ]
     },
     "execution_count": 382,
     "metadata": {},
     "output_type": "execute_result"
    }
   ],
   "source": [
    "train = train.loc[np.where(train['Default'].isnull()==False)].reset_index(drop=True)\n",
    "train.shape"
   ]
  },
  {
   "cell_type": "code",
   "execution_count": 383,
   "metadata": {},
   "outputs": [
    {
     "data": {
      "text/plain": [
       "ID                  0\n",
       "Default             0\n",
       "Checking_amount     0\n",
       "Term                1\n",
       "Credit_score        2\n",
       "Gender              0\n",
       "Marital_status      0\n",
       "Car_loan            1\n",
       "Personal_loan       2\n",
       "Home_loan           2\n",
       "Education_loan      1\n",
       "Emp_status          0\n",
       "Amount              0\n",
       "Saving_amount       0\n",
       "Emp_duration        3\n",
       "Age                 0\n",
       "No_of_credit_acc    1\n",
       "dtype: int64"
      ]
     },
     "execution_count": 383,
     "metadata": {},
     "output_type": "execute_result"
    }
   ],
   "source": [
    "train.isnull().sum()"
   ]
  },
  {
   "cell_type": "code",
   "execution_count": 384,
   "metadata": {},
   "outputs": [
    {
     "data": {
      "text/plain": [
       "<matplotlib.axes._subplots.AxesSubplot at 0x12880653648>"
      ]
     },
     "execution_count": 384,
     "metadata": {},
     "output_type": "execute_result"
    },
    {
     "data": {
      "image/png": "[encoded data removed]",
      "text/plain": [
       "<Figure size 1500x600 with 1 Axes>"
      ]
     },
     "metadata": {
      "needs_background": "light"
     },
     "output_type": "display_data"
    }
   ],
   "source": [
    "sns.countplot(train['Default'])"
   ]
  },
  {
   "cell_type": "code",
   "execution_count": 385,
   "metadata": {},
   "outputs": [],
   "source": [
    "from sklearn.preprocessing import LabelEncoder\n",
    "le = LabelEncoder()\n",
    "train['Default'] = le.fit_transform(train['Default'])"
   ]
  },
  {
   "cell_type": "code",
   "execution_count": 386,
   "metadata": {},
   "outputs": [
    {
     "data": {
      "text/plain": [
       "(7, 9)"
      ]
     },
     "execution_count": 386,
     "metadata": {},
     "output_type": "execute_result"
    }
   ],
   "source": [
    "cat_cols = train.select_dtypes(include='object').columns\n",
    "num_cols = test.select_dtypes(exclude='object').columns\n",
    "len(cat_cols), len(num_cols)"
   ]
  },
  {
   "cell_type": "code",
   "execution_count": 387,
   "metadata": {},
   "outputs": [
    {
     "data": {
      "text/plain": [
       "(1006, 17)"
      ]
     },
     "execution_count": 387,
     "metadata": {},
     "output_type": "execute_result"
    }
   ],
   "source": [
    "data = pd.concat([train, test])\n",
    "data.shape"
   ]
  },
  {
   "cell_type": "code",
   "execution_count": 388,
   "metadata": {},
   "outputs": [
    {
     "data": {
      "text/plain": [
       "ID                    0\n",
       "Default             203\n",
       "Checking_amount       1\n",
       "Term                  1\n",
       "Credit_score          3\n",
       "Gender                0\n",
       "Marital_status        1\n",
       "Car_loan              2\n",
       "Personal_loan         2\n",
       "Home_loan             4\n",
       "Education_loan        3\n",
       "Emp_status            0\n",
       "Amount                1\n",
       "Saving_amount         1\n",
       "Emp_duration          5\n",
       "Age                   0\n",
       "No_of_credit_acc      2\n",
       "dtype: int64"
      ]
     },
     "execution_count": 388,
     "metadata": {},
     "output_type": "execute_result"
    }
   ],
   "source": [
    "data.isnull().sum()"
   ]
  },
  {
   "cell_type": "code",
   "execution_count": null,
   "metadata": {},
   "outputs": [],
   "source": []
  },
  {
   "cell_type": "code",
   "execution_count": 389,
   "metadata": {},
   "outputs": [
    {
     "data": {
      "text/html": [
       "<div>\n",
       "<style scoped>\n",
       "    .dataframe tbody tr th:only-of-type {\n",
       "        vertical-align: middle;\n",
       "    }\n",
       "\n",
       "    .dataframe tbody tr th {\n",
       "        vertical-align: top;\n",
       "    }\n",
       "\n",
       "    .dataframe thead th {\n",
       "        text-align: right;\n",
       "    }\n",
       "</style>\n",
       "<table border=\"1\" class=\"dataframe\">\n",
       "  <thead>\n",
       "    <tr style=\"text-align: right;\">\n",
       "      <th></th>\n",
       "      <th>ID</th>\n",
       "      <th>Default</th>\n",
       "      <th>Checking_amount</th>\n",
       "      <th>Term</th>\n",
       "      <th>Credit_score</th>\n",
       "      <th>Gender</th>\n",
       "      <th>Marital_status</th>\n",
       "      <th>Car_loan</th>\n",
       "      <th>Personal_loan</th>\n",
       "      <th>Home_loan</th>\n",
       "      <th>Education_loan</th>\n",
       "      <th>Emp_status</th>\n",
       "      <th>Amount</th>\n",
       "      <th>Saving_amount</th>\n",
       "      <th>Emp_duration</th>\n",
       "      <th>Age</th>\n",
       "      <th>No_of_credit_acc</th>\n",
       "    </tr>\n",
       "  </thead>\n",
       "  <tbody>\n",
       "    <tr>\n",
       "      <th>182</th>\n",
       "      <td>1183</td>\n",
       "      <td>NaN</td>\n",
       "      <td>NaN</td>\n",
       "      <td>15.0</td>\n",
       "      <td>840.0</td>\n",
       "      <td>Male</td>\n",
       "      <td>Married</td>\n",
       "      <td>No</td>\n",
       "      <td>Yes</td>\n",
       "      <td>NaN</td>\n",
       "      <td>NaN</td>\n",
       "      <td>unemployed</td>\n",
       "      <td>971.0</td>\n",
       "      <td>3105.0</td>\n",
       "      <td>NaN</td>\n",
       "      <td>30.0</td>\n",
       "      <td>2.0</td>\n",
       "    </tr>\n",
       "  </tbody>\n",
       "</table>\n",
       "</div>"
      ],
      "text/plain": [
       "       ID  Default  Checking_amount  Term  Credit_score Gender Marital_status  \\\n",
       "182  1183      NaN              NaN  15.0         840.0   Male        Married   \n",
       "\n",
       "    Car_loan Personal_loan Home_loan Education_loan  Emp_status  Amount  \\\n",
       "182       No           Yes       NaN            NaN  unemployed   971.0   \n",
       "\n",
       "     Saving_amount  Emp_duration   Age  No_of_credit_acc  \n",
       "182         3105.0           NaN  30.0               2.0  "
      ]
     },
     "execution_count": 389,
     "metadata": {},
     "output_type": "execute_result"
    }
   ],
   "source": [
    "data.loc[data['Checking_amount'].isnull()==True]"
   ]
  },
  {
   "cell_type": "code",
   "execution_count": 390,
   "metadata": {},
   "outputs": [
    {
     "data": {
      "text/html": [
       "<div>\n",
       "<style scoped>\n",
       "    .dataframe tbody tr th:only-of-type {\n",
       "        vertical-align: middle;\n",
       "    }\n",
       "\n",
       "    .dataframe tbody tr th {\n",
       "        vertical-align: top;\n",
       "    }\n",
       "\n",
       "    .dataframe thead th {\n",
       "        text-align: right;\n",
       "    }\n",
       "</style>\n",
       "<table border=\"1\" class=\"dataframe\">\n",
       "  <thead>\n",
       "    <tr style=\"text-align: right;\">\n",
       "      <th></th>\n",
       "      <th>ID</th>\n",
       "      <th>Default</th>\n",
       "      <th>Checking_amount</th>\n",
       "      <th>Term</th>\n",
       "      <th>Credit_score</th>\n",
       "      <th>Gender</th>\n",
       "      <th>Marital_status</th>\n",
       "      <th>Car_loan</th>\n",
       "      <th>Personal_loan</th>\n",
       "      <th>Home_loan</th>\n",
       "      <th>Education_loan</th>\n",
       "      <th>Emp_status</th>\n",
       "      <th>Amount</th>\n",
       "      <th>Saving_amount</th>\n",
       "      <th>Emp_duration</th>\n",
       "      <th>Age</th>\n",
       "      <th>No_of_credit_acc</th>\n",
       "    </tr>\n",
       "  </thead>\n",
       "  <tbody>\n",
       "    <tr>\n",
       "      <th>58</th>\n",
       "      <td>1059</td>\n",
       "      <td>NaN</td>\n",
       "      <td>706.0</td>\n",
       "      <td>15.0</td>\n",
       "      <td>842.0</td>\n",
       "      <td>Male</td>\n",
       "      <td>Married</td>\n",
       "      <td>No</td>\n",
       "      <td>Yes</td>\n",
       "      <td>No</td>\n",
       "      <td>No</td>\n",
       "      <td>unemployed</td>\n",
       "      <td>1150.0</td>\n",
       "      <td>3673.0</td>\n",
       "      <td>25.0</td>\n",
       "      <td>30.0</td>\n",
       "      <td>1.0</td>\n",
       "    </tr>\n",
       "    <tr>\n",
       "      <th>100</th>\n",
       "      <td>1101</td>\n",
       "      <td>NaN</td>\n",
       "      <td>72.0</td>\n",
       "      <td>15.0</td>\n",
       "      <td>765.0</td>\n",
       "      <td>Male</td>\n",
       "      <td>Married</td>\n",
       "      <td>No</td>\n",
       "      <td>Yes</td>\n",
       "      <td>No</td>\n",
       "      <td>No</td>\n",
       "      <td>unemployed</td>\n",
       "      <td>1237.0</td>\n",
       "      <td>3111.0</td>\n",
       "      <td>70.0</td>\n",
       "      <td>30.0</td>\n",
       "      <td>9.0</td>\n",
       "    </tr>\n",
       "    <tr>\n",
       "      <th>181</th>\n",
       "      <td>1182</td>\n",
       "      <td>NaN</td>\n",
       "      <td>188.0</td>\n",
       "      <td>15.0</td>\n",
       "      <td>841.0</td>\n",
       "      <td>Male</td>\n",
       "      <td>Married</td>\n",
       "      <td>No</td>\n",
       "      <td>Yes</td>\n",
       "      <td>No</td>\n",
       "      <td>No</td>\n",
       "      <td>unemployed</td>\n",
       "      <td>970.0</td>\n",
       "      <td>3105.0</td>\n",
       "      <td>20.0</td>\n",
       "      <td>30.0</td>\n",
       "      <td>2.0</td>\n",
       "    </tr>\n",
       "    <tr>\n",
       "      <th>182</th>\n",
       "      <td>1183</td>\n",
       "      <td>NaN</td>\n",
       "      <td>NaN</td>\n",
       "      <td>15.0</td>\n",
       "      <td>840.0</td>\n",
       "      <td>Male</td>\n",
       "      <td>Married</td>\n",
       "      <td>No</td>\n",
       "      <td>Yes</td>\n",
       "      <td>NaN</td>\n",
       "      <td>NaN</td>\n",
       "      <td>unemployed</td>\n",
       "      <td>971.0</td>\n",
       "      <td>3105.0</td>\n",
       "      <td>NaN</td>\n",
       "      <td>30.0</td>\n",
       "      <td>2.0</td>\n",
       "    </tr>\n",
       "  </tbody>\n",
       "</table>\n",
       "</div>"
      ],
      "text/plain": [
       "       ID  Default  Checking_amount  Term  Credit_score Gender Marital_status  \\\n",
       "58   1059      NaN            706.0  15.0         842.0   Male        Married   \n",
       "100  1101      NaN             72.0  15.0         765.0   Male        Married   \n",
       "181  1182      NaN            188.0  15.0         841.0   Male        Married   \n",
       "182  1183      NaN              NaN  15.0         840.0   Male        Married   \n",
       "\n",
       "    Car_loan Personal_loan Home_loan Education_loan  Emp_status  Amount  \\\n",
       "58        No           Yes        No             No  unemployed  1150.0   \n",
       "100       No           Yes        No             No  unemployed  1237.0   \n",
       "181       No           Yes        No             No  unemployed   970.0   \n",
       "182       No           Yes       NaN            NaN  unemployed   971.0   \n",
       "\n",
       "     Saving_amount  Emp_duration   Age  No_of_credit_acc  \n",
       "58          3673.0          25.0  30.0               1.0  \n",
       "100         3111.0          70.0  30.0               9.0  \n",
       "181         3105.0          20.0  30.0               2.0  \n",
       "182         3105.0           NaN  30.0               2.0  "
      ]
     },
     "execution_count": 390,
     "metadata": {},
     "output_type": "execute_result"
    }
   ],
   "source": [
    "data.loc[(data['Term']==15)&(data['Gender']=='Male')&(data['Marital_status']=='Married')&(data['Car_loan']=='No')&\\\n",
    "        (data['Personal_loan']=='Yes')&(data['Emp_status']=='unemployed')&(data['Age']==30)]"
   ]
  },
  {
   "cell_type": "code",
   "execution_count": 391,
   "metadata": {},
   "outputs": [],
   "source": [
    "data['Checking_amount'] = data['Checking_amount'].fillna(322.0)"
   ]
  },
  {
   "cell_type": "code",
   "execution_count": 392,
   "metadata": {},
   "outputs": [],
   "source": [
    "mask = (data['Term']==15)&(data['Gender']=='Male')&(data['Marital_status']=='Married')&(data['Car_loan']=='No')&\\\n",
    "        (data['Personal_loan']=='Yes')&(data['Emp_status']=='unemployed')&(data['Age']==30)"
   ]
  },
  {
   "cell_type": "code",
   "execution_count": 393,
   "metadata": {},
   "outputs": [
    {
     "data": {
      "text/plain": [
       "No    4\n",
       "Name: Home_loan, dtype: int64"
      ]
     },
     "execution_count": 393,
     "metadata": {},
     "output_type": "execute_result"
    }
   ],
   "source": [
    "data.loc[mask, 'Home_loan'] = data.loc[mask, 'Home_loan'].fillna('No')\n",
    "data.loc[mask, 'Home_loan'].value_counts()"
   ]
  },
  {
   "cell_type": "code",
   "execution_count": 394,
   "metadata": {},
   "outputs": [
    {
     "data": {
      "text/html": [
       "<div>\n",
       "<style scoped>\n",
       "    .dataframe tbody tr th:only-of-type {\n",
       "        vertical-align: middle;\n",
       "    }\n",
       "\n",
       "    .dataframe tbody tr th {\n",
       "        vertical-align: top;\n",
       "    }\n",
       "\n",
       "    .dataframe thead th {\n",
       "        text-align: right;\n",
       "    }\n",
       "</style>\n",
       "<table border=\"1\" class=\"dataframe\">\n",
       "  <thead>\n",
       "    <tr style=\"text-align: right;\">\n",
       "      <th></th>\n",
       "      <th>ID</th>\n",
       "      <th>Default</th>\n",
       "      <th>Checking_amount</th>\n",
       "      <th>Term</th>\n",
       "      <th>Credit_score</th>\n",
       "      <th>Gender</th>\n",
       "      <th>Marital_status</th>\n",
       "      <th>Car_loan</th>\n",
       "      <th>Personal_loan</th>\n",
       "      <th>Home_loan</th>\n",
       "      <th>Education_loan</th>\n",
       "      <th>Emp_status</th>\n",
       "      <th>Amount</th>\n",
       "      <th>Saving_amount</th>\n",
       "      <th>Emp_duration</th>\n",
       "      <th>Age</th>\n",
       "      <th>No_of_credit_acc</th>\n",
       "    </tr>\n",
       "  </thead>\n",
       "  <tbody>\n",
       "    <tr>\n",
       "      <th>278</th>\n",
       "      <td>379</td>\n",
       "      <td>0.0</td>\n",
       "      <td>476.0</td>\n",
       "      <td>NaN</td>\n",
       "      <td>845.0</td>\n",
       "      <td>Male</td>\n",
       "      <td>Single</td>\n",
       "      <td>No</td>\n",
       "      <td>NaN</td>\n",
       "      <td>No</td>\n",
       "      <td>NaN</td>\n",
       "      <td>employed</td>\n",
       "      <td>1622.0</td>\n",
       "      <td>3331.0</td>\n",
       "      <td>NaN</td>\n",
       "      <td>32.0</td>\n",
       "      <td>1.0</td>\n",
       "    </tr>\n",
       "  </tbody>\n",
       "</table>\n",
       "</div>"
      ],
      "text/plain": [
       "      ID  Default  Checking_amount  Term  Credit_score Gender Marital_status  \\\n",
       "278  379      0.0            476.0   NaN         845.0   Male         Single   \n",
       "\n",
       "    Car_loan Personal_loan Home_loan Education_loan Emp_status  Amount  \\\n",
       "278       No           NaN        No            NaN   employed  1622.0   \n",
       "\n",
       "     Saving_amount  Emp_duration   Age  No_of_credit_acc  \n",
       "278         3331.0           NaN  32.0               1.0  "
      ]
     },
     "execution_count": 394,
     "metadata": {},
     "output_type": "execute_result"
    }
   ],
   "source": [
    "data.loc[np.where(data['Term'].isnull()==True)]"
   ]
  },
  {
   "cell_type": "code",
   "execution_count": 395,
   "metadata": {},
   "outputs": [],
   "source": [
    "mask1 = (data['Gender']=='Male')&(data['Marital_status']=='Single')&(data['Car_loan']=='No')&(data['No_of_credit_acc']==1)\\\n",
    "        &(data['Home_loan']=='No')&(data['Emp_status']=='employed')&(data['Age']==32)\n",
    "data.loc[mask1, 'Term'] = data.loc[mask1, 'Term'].fillna(18)"
   ]
  },
  {
   "cell_type": "code",
   "execution_count": 396,
   "metadata": {},
   "outputs": [
    {
     "data": {
      "text/html": [
       "<div>\n",
       "<style scoped>\n",
       "    .dataframe tbody tr th:only-of-type {\n",
       "        vertical-align: middle;\n",
       "    }\n",
       "\n",
       "    .dataframe tbody tr th {\n",
       "        vertical-align: top;\n",
       "    }\n",
       "\n",
       "    .dataframe thead th {\n",
       "        text-align: right;\n",
       "    }\n",
       "</style>\n",
       "<table border=\"1\" class=\"dataframe\">\n",
       "  <thead>\n",
       "    <tr style=\"text-align: right;\">\n",
       "      <th></th>\n",
       "      <th>ID</th>\n",
       "      <th>Default</th>\n",
       "      <th>Checking_amount</th>\n",
       "      <th>Term</th>\n",
       "      <th>Credit_score</th>\n",
       "      <th>Gender</th>\n",
       "      <th>Marital_status</th>\n",
       "      <th>Car_loan</th>\n",
       "      <th>Personal_loan</th>\n",
       "      <th>Home_loan</th>\n",
       "      <th>Education_loan</th>\n",
       "      <th>Emp_status</th>\n",
       "      <th>Amount</th>\n",
       "      <th>Saving_amount</th>\n",
       "      <th>Emp_duration</th>\n",
       "      <th>Age</th>\n",
       "      <th>No_of_credit_acc</th>\n",
       "    </tr>\n",
       "  </thead>\n",
       "  <tbody>\n",
       "    <tr>\n",
       "      <th>121</th>\n",
       "      <td>1122</td>\n",
       "      <td>NaN</td>\n",
       "      <td>373.0</td>\n",
       "      <td>15.0</td>\n",
       "      <td>NaN</td>\n",
       "      <td>Male</td>\n",
       "      <td>NaN</td>\n",
       "      <td>No</td>\n",
       "      <td>Yes</td>\n",
       "      <td>No</td>\n",
       "      <td>NaN</td>\n",
       "      <td>unemployed</td>\n",
       "      <td>720.0</td>\n",
       "      <td>NaN</td>\n",
       "      <td>47.0</td>\n",
       "      <td>36.0</td>\n",
       "      <td>NaN</td>\n",
       "    </tr>\n",
       "  </tbody>\n",
       "</table>\n",
       "</div>"
      ],
      "text/plain": [
       "       ID  Default  Checking_amount  Term  Credit_score Gender Marital_status  \\\n",
       "121  1122      NaN            373.0  15.0           NaN   Male            NaN   \n",
       "\n",
       "    Car_loan Personal_loan Home_loan Education_loan  Emp_status  Amount  \\\n",
       "121       No           Yes        No            NaN  unemployed   720.0   \n",
       "\n",
       "     Saving_amount  Emp_duration   Age  No_of_credit_acc  \n",
       "121            NaN          47.0  36.0               NaN  "
      ]
     },
     "execution_count": 396,
     "metadata": {},
     "output_type": "execute_result"
    }
   ],
   "source": [
    "data.iloc[np.where(data['Marital_status'].isnull()==True)]"
   ]
  },
  {
   "cell_type": "code",
   "execution_count": 397,
   "metadata": {},
   "outputs": [],
   "source": [
    "# data.loc[(data['Gender']=='Male')&(data['Car_loan']=='No')&(data['Personal_loan']=='Yes')&(data['Home_loan']=='No')\\\n",
    "#         &(data['Emp_status']=='unemployed')&(data['Age']==36)]"
   ]
  },
  {
   "cell_type": "code",
   "execution_count": 398,
   "metadata": {},
   "outputs": [],
   "source": [
    "data['Marital_status'] = data['Marital_status'].fillna('Married')"
   ]
  },
  {
   "cell_type": "code",
   "execution_count": 399,
   "metadata": {},
   "outputs": [
    {
     "data": {
      "text/html": [
       "<div>\n",
       "<style scoped>\n",
       "    .dataframe tbody tr th:only-of-type {\n",
       "        vertical-align: middle;\n",
       "    }\n",
       "\n",
       "    .dataframe tbody tr th {\n",
       "        vertical-align: top;\n",
       "    }\n",
       "\n",
       "    .dataframe thead th {\n",
       "        text-align: right;\n",
       "    }\n",
       "</style>\n",
       "<table border=\"1\" class=\"dataframe\">\n",
       "  <thead>\n",
       "    <tr style=\"text-align: right;\">\n",
       "      <th></th>\n",
       "      <th>ID</th>\n",
       "      <th>Default</th>\n",
       "      <th>Checking_amount</th>\n",
       "      <th>Term</th>\n",
       "      <th>Credit_score</th>\n",
       "      <th>Gender</th>\n",
       "      <th>Marital_status</th>\n",
       "      <th>Car_loan</th>\n",
       "      <th>Personal_loan</th>\n",
       "      <th>Home_loan</th>\n",
       "      <th>Education_loan</th>\n",
       "      <th>Emp_status</th>\n",
       "      <th>Amount</th>\n",
       "      <th>Saving_amount</th>\n",
       "      <th>Emp_duration</th>\n",
       "      <th>Age</th>\n",
       "      <th>No_of_credit_acc</th>\n",
       "    </tr>\n",
       "  </thead>\n",
       "  <tbody>\n",
       "    <tr>\n",
       "      <th>495</th>\n",
       "      <td>596</td>\n",
       "      <td>0.0</td>\n",
       "      <td>824.0</td>\n",
       "      <td>18.0</td>\n",
       "      <td>NaN</td>\n",
       "      <td>Female</td>\n",
       "      <td>Single</td>\n",
       "      <td>NaN</td>\n",
       "      <td>Yes</td>\n",
       "      <td>NaN</td>\n",
       "      <td>0</td>\n",
       "      <td>unemployed</td>\n",
       "      <td>1279.0</td>\n",
       "      <td>3064.0</td>\n",
       "      <td>NaN</td>\n",
       "      <td>33.0</td>\n",
       "      <td>NaN</td>\n",
       "    </tr>\n",
       "    <tr>\n",
       "      <th>53</th>\n",
       "      <td>1054</td>\n",
       "      <td>NaN</td>\n",
       "      <td>273.0</td>\n",
       "      <td>20.0</td>\n",
       "      <td>751.0</td>\n",
       "      <td>Male</td>\n",
       "      <td>Married</td>\n",
       "      <td>NaN</td>\n",
       "      <td>No</td>\n",
       "      <td>NaN</td>\n",
       "      <td>No</td>\n",
       "      <td>unemployed</td>\n",
       "      <td>NaN</td>\n",
       "      <td>2450.0</td>\n",
       "      <td>NaN</td>\n",
       "      <td>33.0</td>\n",
       "      <td>2.0</td>\n",
       "    </tr>\n",
       "  </tbody>\n",
       "</table>\n",
       "</div>"
      ],
      "text/plain": [
       "       ID  Default  Checking_amount  Term  Credit_score  Gender  \\\n",
       "495   596      0.0            824.0  18.0           NaN  Female   \n",
       "53   1054      NaN            273.0  20.0         751.0    Male   \n",
       "\n",
       "    Marital_status Car_loan Personal_loan Home_loan Education_loan  \\\n",
       "495         Single      NaN           Yes       NaN              0   \n",
       "53         Married      NaN            No       NaN             No   \n",
       "\n",
       "     Emp_status  Amount  Saving_amount  Emp_duration   Age  No_of_credit_acc  \n",
       "495  unemployed  1279.0         3064.0           NaN  33.0               NaN  \n",
       "53   unemployed     NaN         2450.0           NaN  33.0               2.0  "
      ]
     },
     "execution_count": 399,
     "metadata": {},
     "output_type": "execute_result"
    }
   ],
   "source": [
    "data.iloc[np.where(data['Car_loan'].isnull()==True)]"
   ]
  },
  {
   "cell_type": "code",
   "execution_count": 400,
   "metadata": {},
   "outputs": [],
   "source": [
    "mask2 = (data['Emp_status']=='unemployed')&(data['Age']==33)&(data['Gender']=='Female')&(data['Marital_status']=='Single')\\\n",
    "        &(data['Personal_loan']=='Yes')"
   ]
  },
  {
   "cell_type": "code",
   "execution_count": 401,
   "metadata": {},
   "outputs": [
    {
     "data": {
      "text/plain": [
       "0      False\n",
       "1      False\n",
       "2      False\n",
       "3      False\n",
       "4      False\n",
       "       ...  \n",
       "198    False\n",
       "199    False\n",
       "200    False\n",
       "201    False\n",
       "202    False\n",
       "Length: 1006, dtype: bool"
      ]
     },
     "execution_count": 401,
     "metadata": {},
     "output_type": "execute_result"
    }
   ],
   "source": [
    "mask2"
   ]
  },
  {
   "cell_type": "code",
   "execution_count": 402,
   "metadata": {},
   "outputs": [],
   "source": [
    "data.loc[mask2, 'Credit_score'] = data.loc[mask2, 'Credit_score'].fillna(783)\n",
    "data.loc[mask2, 'Car_loan'] = data.loc[mask2, 'Car_loan'].fillna('No')\n",
    "data.loc[mask2, 'Home_loan'] = data.loc[mask2, 'Home_loan'].fillna('No')\n",
    "data.loc[mask2, 'Emp_duration'] = data.loc[mask2, 'Emp_duration'].fillna(53)\n",
    "data.loc[mask2, 'No_of_credit_acc'] = data.loc[mask2, 'No_of_credit_acc'].fillna(2)"
   ]
  },
  {
   "cell_type": "code",
   "execution_count": 403,
   "metadata": {},
   "outputs": [
    {
     "data": {
      "text/html": [
       "<div>\n",
       "<style scoped>\n",
       "    .dataframe tbody tr th:only-of-type {\n",
       "        vertical-align: middle;\n",
       "    }\n",
       "\n",
       "    .dataframe tbody tr th {\n",
       "        vertical-align: top;\n",
       "    }\n",
       "\n",
       "    .dataframe thead th {\n",
       "        text-align: right;\n",
       "    }\n",
       "</style>\n",
       "<table border=\"1\" class=\"dataframe\">\n",
       "  <thead>\n",
       "    <tr style=\"text-align: right;\">\n",
       "      <th></th>\n",
       "      <th>ID</th>\n",
       "      <th>Default</th>\n",
       "      <th>Checking_amount</th>\n",
       "      <th>Term</th>\n",
       "      <th>Credit_score</th>\n",
       "      <th>Gender</th>\n",
       "      <th>Marital_status</th>\n",
       "      <th>Car_loan</th>\n",
       "      <th>Personal_loan</th>\n",
       "      <th>Home_loan</th>\n",
       "      <th>Education_loan</th>\n",
       "      <th>Emp_status</th>\n",
       "      <th>Amount</th>\n",
       "      <th>Saving_amount</th>\n",
       "      <th>Emp_duration</th>\n",
       "      <th>Age</th>\n",
       "      <th>No_of_credit_acc</th>\n",
       "    </tr>\n",
       "  </thead>\n",
       "  <tbody>\n",
       "    <tr>\n",
       "      <th>446</th>\n",
       "      <td>547</td>\n",
       "      <td>0.0</td>\n",
       "      <td>245.0</td>\n",
       "      <td>20.0</td>\n",
       "      <td>768.0</td>\n",
       "      <td>Male</td>\n",
       "      <td>Married</td>\n",
       "      <td>Yes</td>\n",
       "      <td>No</td>\n",
       "      <td>No</td>\n",
       "      <td>0</td>\n",
       "      <td>unemployed</td>\n",
       "      <td>1719.0</td>\n",
       "      <td>3388.0</td>\n",
       "      <td>67.0</td>\n",
       "      <td>33.0</td>\n",
       "      <td>2.0</td>\n",
       "    </tr>\n",
       "    <tr>\n",
       "      <th>53</th>\n",
       "      <td>1054</td>\n",
       "      <td>NaN</td>\n",
       "      <td>273.0</td>\n",
       "      <td>20.0</td>\n",
       "      <td>751.0</td>\n",
       "      <td>Male</td>\n",
       "      <td>Married</td>\n",
       "      <td>NaN</td>\n",
       "      <td>No</td>\n",
       "      <td>NaN</td>\n",
       "      <td>No</td>\n",
       "      <td>unemployed</td>\n",
       "      <td>NaN</td>\n",
       "      <td>2450.0</td>\n",
       "      <td>NaN</td>\n",
       "      <td>33.0</td>\n",
       "      <td>2.0</td>\n",
       "    </tr>\n",
       "    <tr>\n",
       "      <th>82</th>\n",
       "      <td>1083</td>\n",
       "      <td>NaN</td>\n",
       "      <td>161.0</td>\n",
       "      <td>20.0</td>\n",
       "      <td>866.0</td>\n",
       "      <td>Male</td>\n",
       "      <td>Married</td>\n",
       "      <td>Yes</td>\n",
       "      <td>No</td>\n",
       "      <td>No</td>\n",
       "      <td>No</td>\n",
       "      <td>unemployed</td>\n",
       "      <td>1305.0</td>\n",
       "      <td>3775.0</td>\n",
       "      <td>6.0</td>\n",
       "      <td>33.0</td>\n",
       "      <td>4.0</td>\n",
       "    </tr>\n",
       "    <tr>\n",
       "      <th>130</th>\n",
       "      <td>1131</td>\n",
       "      <td>NaN</td>\n",
       "      <td>469.0</td>\n",
       "      <td>20.0</td>\n",
       "      <td>818.0</td>\n",
       "      <td>Male</td>\n",
       "      <td>Married</td>\n",
       "      <td>Yes</td>\n",
       "      <td>No</td>\n",
       "      <td>No</td>\n",
       "      <td>No</td>\n",
       "      <td>unemployed</td>\n",
       "      <td>621.0</td>\n",
       "      <td>3699.0</td>\n",
       "      <td>34.0</td>\n",
       "      <td>33.0</td>\n",
       "      <td>2.0</td>\n",
       "    </tr>\n",
       "    <tr>\n",
       "      <th>197</th>\n",
       "      <td>1198</td>\n",
       "      <td>NaN</td>\n",
       "      <td>589.0</td>\n",
       "      <td>20.0</td>\n",
       "      <td>733.0</td>\n",
       "      <td>Male</td>\n",
       "      <td>Married</td>\n",
       "      <td>Yes</td>\n",
       "      <td>No</td>\n",
       "      <td>No</td>\n",
       "      <td>No</td>\n",
       "      <td>unemployed</td>\n",
       "      <td>829.0</td>\n",
       "      <td>3171.0</td>\n",
       "      <td>70.0</td>\n",
       "      <td>33.0</td>\n",
       "      <td>4.0</td>\n",
       "    </tr>\n",
       "  </tbody>\n",
       "</table>\n",
       "</div>"
      ],
      "text/plain": [
       "       ID  Default  Checking_amount  Term  Credit_score Gender Marital_status  \\\n",
       "446   547      0.0            245.0  20.0         768.0   Male        Married   \n",
       "53   1054      NaN            273.0  20.0         751.0   Male        Married   \n",
       "82   1083      NaN            161.0  20.0         866.0   Male        Married   \n",
       "130  1131      NaN            469.0  20.0         818.0   Male        Married   \n",
       "197  1198      NaN            589.0  20.0         733.0   Male        Married   \n",
       "\n",
       "    Car_loan Personal_loan Home_loan Education_loan  Emp_status  Amount  \\\n",
       "446      Yes            No        No              0  unemployed  1719.0   \n",
       "53       NaN            No       NaN             No  unemployed     NaN   \n",
       "82       Yes            No        No             No  unemployed  1305.0   \n",
       "130      Yes            No        No             No  unemployed   621.0   \n",
       "197      Yes            No        No             No  unemployed   829.0   \n",
       "\n",
       "     Saving_amount  Emp_duration   Age  No_of_credit_acc  \n",
       "446         3388.0          67.0  33.0               2.0  \n",
       "53          2450.0           NaN  33.0               2.0  \n",
       "82          3775.0           6.0  33.0               4.0  \n",
       "130         3699.0          34.0  33.0               2.0  \n",
       "197         3171.0          70.0  33.0               4.0  "
      ]
     },
     "execution_count": 403,
     "metadata": {},
     "output_type": "execute_result"
    }
   ],
   "source": [
    "data.loc[(data['Emp_status']=='unemployed')&(data['Age']==33)&(data['Gender']=='Male')&(data['Marital_status']=='Married')\\\n",
    "        &(data['Personal_loan']=='No')&(data['Term']==20)]"
   ]
  },
  {
   "cell_type": "code",
   "execution_count": 404,
   "metadata": {},
   "outputs": [],
   "source": [
    "mask3 = (data['Emp_status']=='unemployed')&(data['Age']==33)&(data['Gender']=='Male')&(data['Marital_status']=='Married')\\\n",
    "        &(data['Personal_loan']=='No')"
   ]
  },
  {
   "cell_type": "code",
   "execution_count": 405,
   "metadata": {},
   "outputs": [],
   "source": [
    "data.loc[mask3, 'Car_loan'] = data.loc[mask3, 'Car_loan'].fillna('Yes')\n",
    "data.loc[mask3, 'Home_loan'] = data.loc[mask3, 'Home_loan'].fillna('No')\n",
    "data.loc[mask3, 'Amount'] = data.loc[mask3, 'Amount'].fillna(1153)\n",
    "data.loc[mask3, 'Emp_duration'] = data.loc[mask3, 'Emp_duration'].fillna(51)"
   ]
  },
  {
   "cell_type": "code",
   "execution_count": 406,
   "metadata": {},
   "outputs": [
    {
     "data": {
      "text/html": [
       "<div>\n",
       "<style scoped>\n",
       "    .dataframe tbody tr th:only-of-type {\n",
       "        vertical-align: middle;\n",
       "    }\n",
       "\n",
       "    .dataframe tbody tr th {\n",
       "        vertical-align: top;\n",
       "    }\n",
       "\n",
       "    .dataframe thead th {\n",
       "        text-align: right;\n",
       "    }\n",
       "</style>\n",
       "<table border=\"1\" class=\"dataframe\">\n",
       "  <thead>\n",
       "    <tr style=\"text-align: right;\">\n",
       "      <th></th>\n",
       "      <th>ID</th>\n",
       "      <th>Default</th>\n",
       "      <th>Checking_amount</th>\n",
       "      <th>Term</th>\n",
       "      <th>Credit_score</th>\n",
       "      <th>Gender</th>\n",
       "      <th>Marital_status</th>\n",
       "      <th>Car_loan</th>\n",
       "      <th>Personal_loan</th>\n",
       "      <th>Home_loan</th>\n",
       "      <th>Education_loan</th>\n",
       "      <th>Emp_status</th>\n",
       "      <th>Amount</th>\n",
       "      <th>Saving_amount</th>\n",
       "      <th>Emp_duration</th>\n",
       "      <th>Age</th>\n",
       "      <th>No_of_credit_acc</th>\n",
       "    </tr>\n",
       "  </thead>\n",
       "  <tbody>\n",
       "    <tr>\n",
       "      <th>64</th>\n",
       "      <td>165</td>\n",
       "      <td>0.0</td>\n",
       "      <td>253.0</td>\n",
       "      <td>20.0</td>\n",
       "      <td>NaN</td>\n",
       "      <td>Male</td>\n",
       "      <td>Single</td>\n",
       "      <td>No</td>\n",
       "      <td>NaN</td>\n",
       "      <td>NaN</td>\n",
       "      <td>No</td>\n",
       "      <td>employed</td>\n",
       "      <td>1058.0</td>\n",
       "      <td>3378.0</td>\n",
       "      <td>NaN</td>\n",
       "      <td>35.0</td>\n",
       "      <td>2.0</td>\n",
       "    </tr>\n",
       "    <tr>\n",
       "      <th>278</th>\n",
       "      <td>379</td>\n",
       "      <td>0.0</td>\n",
       "      <td>476.0</td>\n",
       "      <td>18.0</td>\n",
       "      <td>845.0</td>\n",
       "      <td>Male</td>\n",
       "      <td>Single</td>\n",
       "      <td>No</td>\n",
       "      <td>NaN</td>\n",
       "      <td>No</td>\n",
       "      <td>NaN</td>\n",
       "      <td>employed</td>\n",
       "      <td>1622.0</td>\n",
       "      <td>3331.0</td>\n",
       "      <td>NaN</td>\n",
       "      <td>32.0</td>\n",
       "      <td>1.0</td>\n",
       "    </tr>\n",
       "  </tbody>\n",
       "</table>\n",
       "</div>"
      ],
      "text/plain": [
       "      ID  Default  Checking_amount  Term  Credit_score Gender Marital_status  \\\n",
       "64   165      0.0            253.0  20.0           NaN   Male         Single   \n",
       "278  379      0.0            476.0  18.0         845.0   Male         Single   \n",
       "\n",
       "    Car_loan Personal_loan Home_loan Education_loan Emp_status  Amount  \\\n",
       "64        No           NaN       NaN             No   employed  1058.0   \n",
       "278       No           NaN        No            NaN   employed  1622.0   \n",
       "\n",
       "     Saving_amount  Emp_duration   Age  No_of_credit_acc  \n",
       "64          3378.0           NaN  35.0               2.0  \n",
       "278         3331.0           NaN  32.0               1.0  "
      ]
     },
     "execution_count": 406,
     "metadata": {},
     "output_type": "execute_result"
    }
   ],
   "source": [
    "data.iloc[np.where(data['Personal_loan'].isnull()==True)]"
   ]
  },
  {
   "cell_type": "code",
   "execution_count": 407,
   "metadata": {},
   "outputs": [
    {
     "data": {
      "text/plain": [
       "804.6"
      ]
     },
     "execution_count": 407,
     "metadata": {},
     "output_type": "execute_result"
    }
   ],
   "source": [
    "data.loc[(data['Gender']=='Male')&(data['Car_loan']=='No')&(data['Marital_status']=='Single')&(data['Emp_status']=='employed')\\\n",
    "        &(data['Age']==35)]['Credit_score'].mean()"
   ]
  },
  {
   "cell_type": "code",
   "execution_count": 408,
   "metadata": {},
   "outputs": [],
   "source": [
    "mask4 = (data['Gender']=='Male')&(data['Car_loan']=='No')&(data['Marital_status']=='Single')&(data['Emp_status']=='employed')\\\n",
    "        &(data['Age']==35)&(data['Term']==20)"
   ]
  },
  {
   "cell_type": "code",
   "execution_count": 409,
   "metadata": {},
   "outputs": [],
   "source": [
    "data.loc[mask4, 'Personal_loan'] = data.loc[mask4, 'Personal_loan'].fillna('Yes')\n",
    "data.loc[mask4, 'Home_loan'] = data.loc[mask4, 'Home_loan'].fillna('No')\n",
    "data.loc[mask4, 'Emp_duration'] = data.loc[mask4, 'Emp_duration'].fillna(5)\n",
    "data.loc[mask4, 'Credit_score'] = data.loc[mask4, 'Credit_score'].fillna(805)"
   ]
  },
  {
   "cell_type": "code",
   "execution_count": 410,
   "metadata": {},
   "outputs": [
    {
     "data": {
      "text/plain": [
       "35.285714285714285"
      ]
     },
     "execution_count": 410,
     "metadata": {},
     "output_type": "execute_result"
    }
   ],
   "source": [
    "data.loc[(data['Gender']=='Male')&(data['Car_loan']=='No')&(data['Marital_status']=='Single')&(data['Emp_status']=='employed')\\\n",
    "        &(data['Age']==32)]['Emp_duration'].mean()"
   ]
  },
  {
   "cell_type": "code",
   "execution_count": 411,
   "metadata": {},
   "outputs": [],
   "source": [
    "mask5 = (data['Gender']=='Male')&(data['Car_loan']=='No')&(data['Marital_status']=='Single')&(data['Emp_status']=='employed')\\\n",
    "        &(data['Age']==32)\n",
    "data.loc[mask5, 'Personal_loan'] = data.loc[mask5, 'Personal_loan'].fillna('Yes')\n",
    "data.loc[mask5, 'Education_loan'] = data.loc[mask5, 'Education_loan'].fillna('No')\n",
    "data.loc[mask5, 'Emp_duration'] = data.loc[mask5, 'Emp_duration'].fillna(35)"
   ]
  },
  {
   "cell_type": "code",
   "execution_count": 412,
   "metadata": {},
   "outputs": [
    {
     "data": {
      "text/html": [
       "<div>\n",
       "<style scoped>\n",
       "    .dataframe tbody tr th:only-of-type {\n",
       "        vertical-align: middle;\n",
       "    }\n",
       "\n",
       "    .dataframe tbody tr th {\n",
       "        vertical-align: top;\n",
       "    }\n",
       "\n",
       "    .dataframe thead th {\n",
       "        text-align: right;\n",
       "    }\n",
       "</style>\n",
       "<table border=\"1\" class=\"dataframe\">\n",
       "  <thead>\n",
       "    <tr style=\"text-align: right;\">\n",
       "      <th></th>\n",
       "      <th>ID</th>\n",
       "      <th>Default</th>\n",
       "      <th>Checking_amount</th>\n",
       "      <th>Term</th>\n",
       "      <th>Credit_score</th>\n",
       "      <th>Gender</th>\n",
       "      <th>Marital_status</th>\n",
       "      <th>Car_loan</th>\n",
       "      <th>Personal_loan</th>\n",
       "      <th>Home_loan</th>\n",
       "      <th>Education_loan</th>\n",
       "      <th>Emp_status</th>\n",
       "      <th>Amount</th>\n",
       "      <th>Saving_amount</th>\n",
       "      <th>Emp_duration</th>\n",
       "      <th>Age</th>\n",
       "      <th>No_of_credit_acc</th>\n",
       "    </tr>\n",
       "  </thead>\n",
       "  <tbody>\n",
       "    <tr>\n",
       "      <th>121</th>\n",
       "      <td>1122</td>\n",
       "      <td>NaN</td>\n",
       "      <td>373.0</td>\n",
       "      <td>15.0</td>\n",
       "      <td>NaN</td>\n",
       "      <td>Male</td>\n",
       "      <td>Married</td>\n",
       "      <td>No</td>\n",
       "      <td>Yes</td>\n",
       "      <td>No</td>\n",
       "      <td>NaN</td>\n",
       "      <td>unemployed</td>\n",
       "      <td>720.0</td>\n",
       "      <td>NaN</td>\n",
       "      <td>47.0</td>\n",
       "      <td>36.0</td>\n",
       "      <td>NaN</td>\n",
       "    </tr>\n",
       "    <tr>\n",
       "      <th>182</th>\n",
       "      <td>1183</td>\n",
       "      <td>NaN</td>\n",
       "      <td>322.0</td>\n",
       "      <td>15.0</td>\n",
       "      <td>840.0</td>\n",
       "      <td>Male</td>\n",
       "      <td>Married</td>\n",
       "      <td>No</td>\n",
       "      <td>Yes</td>\n",
       "      <td>No</td>\n",
       "      <td>NaN</td>\n",
       "      <td>unemployed</td>\n",
       "      <td>971.0</td>\n",
       "      <td>3105.0</td>\n",
       "      <td>NaN</td>\n",
       "      <td>30.0</td>\n",
       "      <td>2.0</td>\n",
       "    </tr>\n",
       "  </tbody>\n",
       "</table>\n",
       "</div>"
      ],
      "text/plain": [
       "       ID  Default  Checking_amount  Term  Credit_score Gender Marital_status  \\\n",
       "121  1122      NaN            373.0  15.0           NaN   Male        Married   \n",
       "182  1183      NaN            322.0  15.0         840.0   Male        Married   \n",
       "\n",
       "    Car_loan Personal_loan Home_loan Education_loan  Emp_status  Amount  \\\n",
       "121       No           Yes        No            NaN  unemployed   720.0   \n",
       "182       No           Yes        No            NaN  unemployed   971.0   \n",
       "\n",
       "     Saving_amount  Emp_duration   Age  No_of_credit_acc  \n",
       "121            NaN          47.0  36.0               NaN  \n",
       "182         3105.0           NaN  30.0               2.0  "
      ]
     },
     "execution_count": 412,
     "metadata": {},
     "output_type": "execute_result"
    }
   ],
   "source": [
    "data.iloc[np.where(data['Education_loan'].isnull()==True)]"
   ]
  },
  {
   "cell_type": "code",
   "execution_count": 413,
   "metadata": {},
   "outputs": [
    {
     "data": {
      "text/plain": [
       "752.6"
      ]
     },
     "execution_count": 413,
     "metadata": {},
     "output_type": "execute_result"
    }
   ],
   "source": [
    "data.loc[(data['Gender']=='Male')&(data['Marital_status']=='Married')&(data['Car_loan']=='No')&(data['Personal_loan']=='Yes')\\\n",
    "        &(data['Home_loan']=='No')&(data['Emp_status']=='unemployed')&(data['Age']==36)]['Credit_score'].mean()"
   ]
  },
  {
   "cell_type": "code",
   "execution_count": 414,
   "metadata": {},
   "outputs": [],
   "source": [
    "mask6 = (data['Gender']=='Male')&(data['Marital_status']=='Married')&(data['Car_loan']=='No')&(data['Personal_loan']=='Yes')\\\n",
    "        &(data['Home_loan']=='No')&(data['Emp_status']=='unemployed')&(data['Age']==30)\n",
    "data.loc[mask6, 'Education_loan'] = data.loc[mask6, 'Education_loan'].fillna(0)\n",
    "data.loc[mask6, 'Emp_duration'] = data.loc[mask6, 'Emp_duration'].fillna(20)"
   ]
  },
  {
   "cell_type": "code",
   "execution_count": 415,
   "metadata": {},
   "outputs": [],
   "source": [
    "mask7 = (data['Gender']=='Male')&(data['Marital_status']=='Married')&(data['Car_loan']=='No')&(data['Personal_loan']=='Yes')\\\n",
    "        &(data['Home_loan']=='No')&(data['Emp_status']=='unemployed')&(data['Age']==36)\n",
    "data.loc[mask7, 'Education_loan'] = data.loc[mask7, 'Education_loan'].fillna(0)\n",
    "data.loc[mask7, 'No_of_credit_acc'] = data.loc[mask7, 'No_of_credit_acc'].fillna(2.0)\n",
    "data.loc[mask7, 'Saving_amount'] = data.loc[mask7, 'Saving_amount'].fillna(3300)\n",
    "data.loc[mask7, 'Credit_score'] = data.loc[mask7, 'Credit_score'].fillna(753)"
   ]
  },
  {
   "cell_type": "code",
   "execution_count": 416,
   "metadata": {},
   "outputs": [
    {
     "data": {
      "text/html": [
       "<div>\n",
       "<style scoped>\n",
       "    .dataframe tbody tr th:only-of-type {\n",
       "        vertical-align: middle;\n",
       "    }\n",
       "\n",
       "    .dataframe tbody tr th {\n",
       "        vertical-align: top;\n",
       "    }\n",
       "\n",
       "    .dataframe thead th {\n",
       "        text-align: right;\n",
       "    }\n",
       "</style>\n",
       "<table border=\"1\" class=\"dataframe\">\n",
       "  <thead>\n",
       "    <tr style=\"text-align: right;\">\n",
       "      <th></th>\n",
       "      <th>ID</th>\n",
       "      <th>Default</th>\n",
       "      <th>Checking_amount</th>\n",
       "      <th>Term</th>\n",
       "      <th>Credit_score</th>\n",
       "      <th>Gender</th>\n",
       "      <th>Marital_status</th>\n",
       "      <th>Car_loan</th>\n",
       "      <th>Personal_loan</th>\n",
       "      <th>Home_loan</th>\n",
       "      <th>Education_loan</th>\n",
       "      <th>Emp_status</th>\n",
       "      <th>Amount</th>\n",
       "      <th>Saving_amount</th>\n",
       "      <th>Emp_duration</th>\n",
       "      <th>Age</th>\n",
       "      <th>No_of_credit_acc</th>\n",
       "    </tr>\n",
       "  </thead>\n",
       "  <tbody>\n",
       "    <tr>\n",
       "      <th>0</th>\n",
       "      <td>101</td>\n",
       "      <td>0.0</td>\n",
       "      <td>988.0</td>\n",
       "      <td>15.0</td>\n",
       "      <td>796.0</td>\n",
       "      <td>Female</td>\n",
       "      <td>Single</td>\n",
       "      <td>Yes</td>\n",
       "      <td>No</td>\n",
       "      <td>No</td>\n",
       "      <td>No</td>\n",
       "      <td>employed</td>\n",
       "      <td>1536.0</td>\n",
       "      <td>3455.0</td>\n",
       "      <td>12.0</td>\n",
       "      <td>38.0</td>\n",
       "      <td>1.0</td>\n",
       "    </tr>\n",
       "    <tr>\n",
       "      <th>1</th>\n",
       "      <td>102</td>\n",
       "      <td>0.0</td>\n",
       "      <td>458.0</td>\n",
       "      <td>15.0</td>\n",
       "      <td>813.0</td>\n",
       "      <td>Female</td>\n",
       "      <td>Single</td>\n",
       "      <td>Yes</td>\n",
       "      <td>No</td>\n",
       "      <td>No</td>\n",
       "      <td>No</td>\n",
       "      <td>employed</td>\n",
       "      <td>947.0</td>\n",
       "      <td>3600.0</td>\n",
       "      <td>25.0</td>\n",
       "      <td>36.0</td>\n",
       "      <td>1.0</td>\n",
       "    </tr>\n",
       "    <tr>\n",
       "      <th>2</th>\n",
       "      <td>103</td>\n",
       "      <td>0.0</td>\n",
       "      <td>158.0</td>\n",
       "      <td>14.0</td>\n",
       "      <td>756.0</td>\n",
       "      <td>Female</td>\n",
       "      <td>Single</td>\n",
       "      <td>No</td>\n",
       "      <td>Yes</td>\n",
       "      <td>No</td>\n",
       "      <td>No</td>\n",
       "      <td>employed</td>\n",
       "      <td>1678.0</td>\n",
       "      <td>3093.0</td>\n",
       "      <td>43.0</td>\n",
       "      <td>34.0</td>\n",
       "      <td>1.0</td>\n",
       "    </tr>\n",
       "    <tr>\n",
       "      <th>3</th>\n",
       "      <td>104</td>\n",
       "      <td>1.0</td>\n",
       "      <td>300.0</td>\n",
       "      <td>25.0</td>\n",
       "      <td>737.0</td>\n",
       "      <td>Female</td>\n",
       "      <td>Single</td>\n",
       "      <td>No</td>\n",
       "      <td>No</td>\n",
       "      <td>No</td>\n",
       "      <td>Yes</td>\n",
       "      <td>employed</td>\n",
       "      <td>1804.0</td>\n",
       "      <td>2449.0</td>\n",
       "      <td>0.0</td>\n",
       "      <td>29.0</td>\n",
       "      <td>1.0</td>\n",
       "    </tr>\n",
       "    <tr>\n",
       "      <th>4</th>\n",
       "      <td>105</td>\n",
       "      <td>1.0</td>\n",
       "      <td>63.0</td>\n",
       "      <td>24.0</td>\n",
       "      <td>662.0</td>\n",
       "      <td>Female</td>\n",
       "      <td>Single</td>\n",
       "      <td>No</td>\n",
       "      <td>No</td>\n",
       "      <td>No</td>\n",
       "      <td>Yes</td>\n",
       "      <td>unemployed</td>\n",
       "      <td>1184.0</td>\n",
       "      <td>2867.0</td>\n",
       "      <td>4.0</td>\n",
       "      <td>30.0</td>\n",
       "      <td>1.0</td>\n",
       "    </tr>\n",
       "  </tbody>\n",
       "</table>\n",
       "</div>"
      ],
      "text/plain": [
       "    ID  Default  Checking_amount  Term  Credit_score  Gender Marital_status  \\\n",
       "0  101      0.0            988.0  15.0         796.0  Female         Single   \n",
       "1  102      0.0            458.0  15.0         813.0  Female         Single   \n",
       "2  103      0.0            158.0  14.0         756.0  Female         Single   \n",
       "3  104      1.0            300.0  25.0         737.0  Female         Single   \n",
       "4  105      1.0             63.0  24.0         662.0  Female         Single   \n",
       "\n",
       "  Car_loan Personal_loan Home_loan Education_loan  Emp_status  Amount  \\\n",
       "0      Yes            No        No             No    employed  1536.0   \n",
       "1      Yes            No        No             No    employed   947.0   \n",
       "2       No           Yes        No             No    employed  1678.0   \n",
       "3       No            No        No            Yes    employed  1804.0   \n",
       "4       No            No        No            Yes  unemployed  1184.0   \n",
       "\n",
       "   Saving_amount  Emp_duration   Age  No_of_credit_acc  \n",
       "0         3455.0          12.0  38.0               1.0  \n",
       "1         3600.0          25.0  36.0               1.0  \n",
       "2         3093.0          43.0  34.0               1.0  \n",
       "3         2449.0           0.0  29.0               1.0  \n",
       "4         2867.0           4.0  30.0               1.0  "
      ]
     },
     "execution_count": 416,
     "metadata": {},
     "output_type": "execute_result"
    }
   ],
   "source": [
    "data.head()"
   ]
  },
  {
   "cell_type": "code",
   "execution_count": 417,
   "metadata": {},
   "outputs": [],
   "source": [
    "data['Gender'] = data['Gender'].apply(lambda x: 1 if x=='Male' else 0)\n",
    "data['Marital_status'] = data[data.columns[6]].apply(lambda x: 1 if x=='Married' else 0)\n",
    "data['Car_loan'] = data['Car_loan'].apply(lambda x: 1 if x=='Yes' else 0)\n",
    "data['Personal_loan'] = data['Personal_loan'].apply(lambda x: 1 if x=='Yes' else 0)\n",
    "data['Home_loan'] = data['Home_loan'].apply(lambda x: 1 if x=='Yes' else 0)\n",
    "data['Education_loan'] = data['Education_loan'].replace(['Yes', 'No'], [1, 0])\n",
    "data['Emp_status'] = data['Emp_status'].apply(lambda x: 1 if x=='unemployed' else 0)"
   ]
  },
  {
   "cell_type": "code",
   "execution_count": 418,
   "metadata": {},
   "outputs": [
    {
     "data": {
      "text/html": [
       "<div>\n",
       "<style scoped>\n",
       "    .dataframe tbody tr th:only-of-type {\n",
       "        vertical-align: middle;\n",
       "    }\n",
       "\n",
       "    .dataframe tbody tr th {\n",
       "        vertical-align: top;\n",
       "    }\n",
       "\n",
       "    .dataframe thead th {\n",
       "        text-align: right;\n",
       "    }\n",
       "</style>\n",
       "<table border=\"1\" class=\"dataframe\">\n",
       "  <thead>\n",
       "    <tr style=\"text-align: right;\">\n",
       "      <th></th>\n",
       "      <th>ID</th>\n",
       "      <th>Default</th>\n",
       "      <th>Checking_amount</th>\n",
       "      <th>Term</th>\n",
       "      <th>Credit_score</th>\n",
       "      <th>Gender</th>\n",
       "      <th>Marital_status</th>\n",
       "      <th>Car_loan</th>\n",
       "      <th>Personal_loan</th>\n",
       "      <th>Home_loan</th>\n",
       "      <th>Education_loan</th>\n",
       "      <th>Emp_status</th>\n",
       "      <th>Amount</th>\n",
       "      <th>Saving_amount</th>\n",
       "      <th>Emp_duration</th>\n",
       "      <th>Age</th>\n",
       "      <th>No_of_credit_acc</th>\n",
       "    </tr>\n",
       "  </thead>\n",
       "  <tbody>\n",
       "    <tr>\n",
       "      <th>0</th>\n",
       "      <td>101</td>\n",
       "      <td>0.0</td>\n",
       "      <td>988.0</td>\n",
       "      <td>15.0</td>\n",
       "      <td>796.0</td>\n",
       "      <td>0</td>\n",
       "      <td>0</td>\n",
       "      <td>1</td>\n",
       "      <td>0</td>\n",
       "      <td>0</td>\n",
       "      <td>0</td>\n",
       "      <td>0</td>\n",
       "      <td>1536.0</td>\n",
       "      <td>3455.0</td>\n",
       "      <td>12.0</td>\n",
       "      <td>38.0</td>\n",
       "      <td>1.0</td>\n",
       "    </tr>\n",
       "    <tr>\n",
       "      <th>1</th>\n",
       "      <td>102</td>\n",
       "      <td>0.0</td>\n",
       "      <td>458.0</td>\n",
       "      <td>15.0</td>\n",
       "      <td>813.0</td>\n",
       "      <td>0</td>\n",
       "      <td>0</td>\n",
       "      <td>1</td>\n",
       "      <td>0</td>\n",
       "      <td>0</td>\n",
       "      <td>0</td>\n",
       "      <td>0</td>\n",
       "      <td>947.0</td>\n",
       "      <td>3600.0</td>\n",
       "      <td>25.0</td>\n",
       "      <td>36.0</td>\n",
       "      <td>1.0</td>\n",
       "    </tr>\n",
       "    <tr>\n",
       "      <th>2</th>\n",
       "      <td>103</td>\n",
       "      <td>0.0</td>\n",
       "      <td>158.0</td>\n",
       "      <td>14.0</td>\n",
       "      <td>756.0</td>\n",
       "      <td>0</td>\n",
       "      <td>0</td>\n",
       "      <td>0</td>\n",
       "      <td>1</td>\n",
       "      <td>0</td>\n",
       "      <td>0</td>\n",
       "      <td>0</td>\n",
       "      <td>1678.0</td>\n",
       "      <td>3093.0</td>\n",
       "      <td>43.0</td>\n",
       "      <td>34.0</td>\n",
       "      <td>1.0</td>\n",
       "    </tr>\n",
       "    <tr>\n",
       "      <th>3</th>\n",
       "      <td>104</td>\n",
       "      <td>1.0</td>\n",
       "      <td>300.0</td>\n",
       "      <td>25.0</td>\n",
       "      <td>737.0</td>\n",
       "      <td>0</td>\n",
       "      <td>0</td>\n",
       "      <td>0</td>\n",
       "      <td>0</td>\n",
       "      <td>0</td>\n",
       "      <td>1</td>\n",
       "      <td>0</td>\n",
       "      <td>1804.0</td>\n",
       "      <td>2449.0</td>\n",
       "      <td>0.0</td>\n",
       "      <td>29.0</td>\n",
       "      <td>1.0</td>\n",
       "    </tr>\n",
       "    <tr>\n",
       "      <th>4</th>\n",
       "      <td>105</td>\n",
       "      <td>1.0</td>\n",
       "      <td>63.0</td>\n",
       "      <td>24.0</td>\n",
       "      <td>662.0</td>\n",
       "      <td>0</td>\n",
       "      <td>0</td>\n",
       "      <td>0</td>\n",
       "      <td>0</td>\n",
       "      <td>0</td>\n",
       "      <td>1</td>\n",
       "      <td>1</td>\n",
       "      <td>1184.0</td>\n",
       "      <td>2867.0</td>\n",
       "      <td>4.0</td>\n",
       "      <td>30.0</td>\n",
       "      <td>1.0</td>\n",
       "    </tr>\n",
       "  </tbody>\n",
       "</table>\n",
       "</div>"
      ],
      "text/plain": [
       "    ID  Default  Checking_amount  Term  Credit_score  Gender  Marital_status  \\\n",
       "0  101      0.0            988.0  15.0         796.0       0               0   \n",
       "1  102      0.0            458.0  15.0         813.0       0               0   \n",
       "2  103      0.0            158.0  14.0         756.0       0               0   \n",
       "3  104      1.0            300.0  25.0         737.0       0               0   \n",
       "4  105      1.0             63.0  24.0         662.0       0               0   \n",
       "\n",
       "   Car_loan  Personal_loan  Home_loan  Education_loan  Emp_status  Amount  \\\n",
       "0         1              0          0               0           0  1536.0   \n",
       "1         1              0          0               0           0   947.0   \n",
       "2         0              1          0               0           0  1678.0   \n",
       "3         0              0          0               1           0  1804.0   \n",
       "4         0              0          0               1           1  1184.0   \n",
       "\n",
       "   Saving_amount  Emp_duration   Age  No_of_credit_acc  \n",
       "0         3455.0          12.0  38.0               1.0  \n",
       "1         3600.0          25.0  36.0               1.0  \n",
       "2         3093.0          43.0  34.0               1.0  \n",
       "3         2449.0           0.0  29.0               1.0  \n",
       "4         2867.0           4.0  30.0               1.0  "
      ]
     },
     "execution_count": 418,
     "metadata": {},
     "output_type": "execute_result"
    }
   ],
   "source": [
    "data.head()"
   ]
  },
  {
   "cell_type": "code",
   "execution_count": 419,
   "metadata": {},
   "outputs": [],
   "source": [
    "import seaborn as sns"
   ]
  },
  {
   "cell_type": "code",
   "execution_count": 420,
   "metadata": {},
   "outputs": [],
   "source": [
    "default_0 = train[train['Default']==0]\n",
    "default_1 = train[train['Default']==1]"
   ]
  },
  {
   "cell_type": "code",
   "execution_count": 421,
   "metadata": {},
   "outputs": [
    {
     "name": "stderr",
     "output_type": "stream",
     "text": [
      "C:\\Users\\shankar\\Anaconda3\\envs\\tf\\lib\\site-packages\\statsmodels\\nonparametric\\kde.py:447: RuntimeWarning: invalid value encountered in greater\n",
      "  X = X[np.logical_and(X > clip[0], X < clip[1])] # won't work for two columns.\n",
      "C:\\Users\\shankar\\Anaconda3\\envs\\tf\\lib\\site-packages\\statsmodels\\nonparametric\\kde.py:447: RuntimeWarning: invalid value encountered in less\n",
      "  X = X[np.logical_and(X > clip[0], X < clip[1])] # won't work for two columns.\n"
     ]
    },
    {
     "data": {
      "text/plain": [
       "<matplotlib.axes._subplots.AxesSubplot at 0x1288038eb48>"
      ]
     },
     "execution_count": 421,
     "metadata": {},
     "output_type": "execute_result"
    },
    {
     "data": {
      "image/png": "[encoded data removed]",
      "text/plain": [
       "<Figure size 1500x600 with 1 Axes>"
      ]
     },
     "metadata": {
      "needs_background": "light"
     },
     "output_type": "display_data"
    }
   ],
   "source": [
    "sns.distplot(default_0['Amount']/default_0['Credit_score'], hist=False, rug=True)\n",
    "sns.distplot(default_1['Amount']/default_1['Credit_score'], hist=False, rug=True)"
   ]
  },
  {
   "cell_type": "code",
   "execution_count": 422,
   "metadata": {},
   "outputs": [
    {
     "data": {
      "text/plain": [
       "<matplotlib.axes._subplots.AxesSubplot at 0x12880523948>"
      ]
     },
     "execution_count": 422,
     "metadata": {},
     "output_type": "execute_result"
    },
    {
     "data": {
      "image/png": "[encoded data removed]",
      "text/plain": [
       "<Figure size 1500x600 with 1 Axes>"
      ]
     },
     "metadata": {
      "needs_background": "light"
     },
     "output_type": "display_data"
    }
   ],
   "source": [
    "sns.distplot(default_0['Checking_amount']/default_0['Credit_score'], hist=False, rug=True)\n",
    "sns.distplot(default_1['Checking_amount']/default_1['Credit_score'], hist=False, rug=True)"
   ]
  },
  {
   "cell_type": "code",
   "execution_count": 423,
   "metadata": {},
   "outputs": [
    {
     "data": {
      "text/plain": [
       "<matplotlib.axes._subplots.AxesSubplot at 0x128805e4508>"
      ]
     },
     "execution_count": 423,
     "metadata": {},
     "output_type": "execute_result"
    },
    {
     "data": {
      "image/png": "[encoded data removed]",
      "text/plain": [
       "<Figure size 1500x600 with 1 Axes>"
      ]
     },
     "metadata": {
      "needs_background": "light"
     },
     "output_type": "display_data"
    }
   ],
   "source": [
    "sns.distplot(default_0['Saving_amount']/default_0['Credit_score'], hist=False, rug=True)\n",
    "sns.distplot(default_1['Saving_amount']/default_1['Credit_score'], hist=False, rug=True)"
   ]
  },
  {
   "cell_type": "code",
   "execution_count": 424,
   "metadata": {},
   "outputs": [
    {
     "data": {
      "text/plain": [
       "<matplotlib.axes._subplots.AxesSubplot at 0x1288052b908>"
      ]
     },
     "execution_count": 424,
     "metadata": {},
     "output_type": "execute_result"
    },
    {
     "data": {
      "image/png": "[encoded data removed]",
      "text/plain": [
       "<Figure size 1500x600 with 1 Axes>"
      ]
     },
     "metadata": {
      "needs_background": "light"
     },
     "output_type": "display_data"
    }
   ],
   "source": [
    "sns.distplot(default_0['Amount']*default_0['Term'], hist=False, rug=True)\n",
    "sns.distplot(default_1['Amount']*default_1['Term'], hist=False, rug=True)"
   ]
  },
  {
   "cell_type": "code",
   "execution_count": 425,
   "metadata": {},
   "outputs": [
    {
     "data": {
      "text/plain": [
       "0    905\n",
       "1    101\n",
       "Name: bal_status, dtype: int64"
      ]
     },
     "execution_count": 425,
     "metadata": {},
     "output_type": "execute_result"
    }
   ],
   "source": [
    "data['bal_status'] = data['Checking_amount'].apply(lambda x: 1 if x<=0 else 0)\n",
    "data['bal_status'].value_counts()"
   ]
  },
  {
   "cell_type": "code",
   "execution_count": 426,
   "metadata": {},
   "outputs": [
    {
     "data": {
      "text/html": [
       "<div>\n",
       "<style scoped>\n",
       "    .dataframe tbody tr th:only-of-type {\n",
       "        vertical-align: middle;\n",
       "    }\n",
       "\n",
       "    .dataframe tbody tr th {\n",
       "        vertical-align: top;\n",
       "    }\n",
       "\n",
       "    .dataframe thead th {\n",
       "        text-align: right;\n",
       "    }\n",
       "</style>\n",
       "<table border=\"1\" class=\"dataframe\">\n",
       "  <thead>\n",
       "    <tr style=\"text-align: right;\">\n",
       "      <th>bal_status</th>\n",
       "      <th>0</th>\n",
       "      <th>1</th>\n",
       "    </tr>\n",
       "    <tr>\n",
       "      <th>Default</th>\n",
       "      <th></th>\n",
       "      <th></th>\n",
       "    </tr>\n",
       "  </thead>\n",
       "  <tbody>\n",
       "    <tr>\n",
       "      <th>0.0</th>\n",
       "      <td>94.542254</td>\n",
       "      <td>5.457746</td>\n",
       "    </tr>\n",
       "    <tr>\n",
       "      <th>1.0</th>\n",
       "      <td>80.425532</td>\n",
       "      <td>19.574468</td>\n",
       "    </tr>\n",
       "  </tbody>\n",
       "</table>\n",
       "</div>"
      ],
      "text/plain": [
       "bal_status          0          1\n",
       "Default                         \n",
       "0.0         94.542254   5.457746\n",
       "1.0         80.425532  19.574468"
      ]
     },
     "execution_count": 426,
     "metadata": {},
     "output_type": "execute_result"
    }
   ],
   "source": [
    "bal_ct = pd.crosstab(data['Default'], data['bal_status'], normalize='index')*100\n",
    "bal_ct"
   ]
  },
  {
   "cell_type": "code",
   "execution_count": 427,
   "metadata": {},
   "outputs": [
    {
     "data": {
      "text/plain": [
       "<matplotlib.axes._subplots.AxesSubplot at 0x128814e0188>"
      ]
     },
     "execution_count": 427,
     "metadata": {},
     "output_type": "execute_result"
    },
    {
     "data": {
      "image/png": "[encoded data removed]",
      "text/plain": [
       "<Figure size 1500x600 with 1 Axes>"
      ]
     },
     "metadata": {
      "needs_background": "light"
     },
     "output_type": "display_data"
    }
   ],
   "source": [
    "def crosstab_plot(feature,  target, ct):\n",
    "    stacked = ct.stack().reset_index().rename(columns={0:'value'})\n",
    "    return sns.barplot(x=stacked[feature], y=stacked.value, hue=stacked[target])\n",
    "\n",
    "crosstab_plot('bal_status', 'Default', bal_ct)"
   ]
  },
  {
   "cell_type": "code",
   "execution_count": 428,
   "metadata": {},
   "outputs": [
    {
     "data": {
      "text/plain": [
       "count    1006.000000\n",
       "mean     3541.576541\n",
       "std       496.395745\n",
       "min      2122.000000\n",
       "25%      3180.000000\n",
       "50%      3569.500000\n",
       "75%      3892.750000\n",
       "max      4961.000000\n",
       "Name: total_bal, dtype: float64"
      ]
     },
     "execution_count": 428,
     "metadata": {},
     "output_type": "execute_result"
    }
   ],
   "source": [
    "data['total_bal'] = data['Checking_amount']+data['Saving_amount']\n",
    "data['total_bal'].describe()"
   ]
  },
  {
   "cell_type": "code",
   "execution_count": 429,
   "metadata": {},
   "outputs": [],
   "source": [
    "data['loan_to_tot_bal'] = data['Amount']/data['total_bal']\n",
    "data['loan_to_saving'] = data['Amount']/data['Saving_amount']"
   ]
  },
  {
   "cell_type": "code",
   "execution_count": 430,
   "metadata": {},
   "outputs": [],
   "source": [
    "data['loan_to_score'] = data['Amount']/data['Credit_score']"
   ]
  },
  {
   "cell_type": "code",
   "execution_count": 431,
   "metadata": {},
   "outputs": [
    {
     "data": {
      "text/plain": [
       "1    1001\n",
       "0       5\n",
       "Name: total_loan, dtype: int64"
      ]
     },
     "execution_count": 431,
     "metadata": {},
     "output_type": "execute_result"
    }
   ],
   "source": [
    "data['total_loan'] = (data['Car_loan']+data['Personal_loan']+data['Home_loan']+data['Education_loan'])\n",
    "data['total_loan'].value_counts()"
   ]
  },
  {
   "cell_type": "code",
   "execution_count": 432,
   "metadata": {},
   "outputs": [],
   "source": [
    "data['tot_bal_per_acc'] = data['total_bal']/data['No_of_credit_acc']\n",
    "data['loan_per_acc'] = data['Amount']/data['No_of_credit_acc']\n",
    "data['loan_per_term'] = data['Amount']/data['Term']\n"
   ]
  },
  {
   "cell_type": "code",
   "execution_count": null,
   "metadata": {},
   "outputs": [],
   "source": []
  },
  {
   "cell_type": "code",
   "execution_count": 457,
   "metadata": {},
   "outputs": [
    {
     "data": {
      "text/plain": [
       "(11, 30)"
      ]
     },
     "execution_count": 457,
     "metadata": {},
     "output_type": "execute_result"
    }
   ],
   "source": [
    "emp = data[(data['Emp_duration']==0)&(data['Emp_status']==0)]\n",
    "emp.shape"
   ]
  },
  {
   "cell_type": "code",
   "execution_count": 458,
   "metadata": {},
   "outputs": [
    {
     "data": {
      "text/plain": [
       "1.0    5\n",
       "0.0    3\n",
       "Name: Default, dtype: int64"
      ]
     },
     "execution_count": 458,
     "metadata": {},
     "output_type": "execute_result"
    }
   ],
   "source": [
    "emp['Default'].value_counts()"
   ]
  },
  {
   "cell_type": "code",
   "execution_count": 435,
   "metadata": {},
   "outputs": [
    {
     "data": {
      "text/plain": [
       "<matplotlib.axes._subplots.AxesSubplot at 0x12880407f48>"
      ]
     },
     "execution_count": 435,
     "metadata": {},
     "output_type": "execute_result"
    },
    {
     "data": {
      "image/png": "[encoded data removed]",
      "text/plain": [
       "<Figure size 1500x600 with 1 Axes>"
      ]
     },
     "metadata": {
      "needs_background": "light"
     },
     "output_type": "display_data"
    }
   ],
   "source": [
    "sns.countplot(emp[\"Default\"])"
   ]
  },
  {
   "cell_type": "code",
   "execution_count": 445,
   "metadata": {},
   "outputs": [
    {
     "data": {
      "text/plain": [
       "M    713\n",
       "H    253\n",
       "L     40\n",
       "Name: credit_score_bins, dtype: int64"
      ]
     },
     "execution_count": 445,
     "metadata": {},
     "output_type": "execute_result"
    }
   ],
   "source": [
    "data['credit_score_bins'] = pd.cut(data['Credit_score'], bins=3, labels=['L', 'M', 'H'])\n",
    "data['credit_score_bins'].value_counts()"
   ]
  },
  {
   "cell_type": "code",
   "execution_count": 446,
   "metadata": {},
   "outputs": [
    {
     "data": {
      "text/plain": [
       "(593.667, 811.333]    713\n",
       "(811.333, 1029.0]     253\n",
       "(375.347, 593.667]     40\n",
       "Name: Credit_score, dtype: int64"
      ]
     },
     "execution_count": 446,
     "metadata": {},
     "output_type": "execute_result"
    }
   ],
   "source": [
    "pd.cut(data['Credit_score'], bins=3).value_counts()"
   ]
  },
  {
   "cell_type": "code",
   "execution_count": 437,
   "metadata": {},
   "outputs": [
    {
     "data": {
      "text/html": [
       "<div>\n",
       "<style scoped>\n",
       "    .dataframe tbody tr th:only-of-type {\n",
       "        vertical-align: middle;\n",
       "    }\n",
       "\n",
       "    .dataframe tbody tr th {\n",
       "        vertical-align: top;\n",
       "    }\n",
       "\n",
       "    .dataframe thead th {\n",
       "        text-align: right;\n",
       "    }\n",
       "</style>\n",
       "<table border=\"1\" class=\"dataframe\">\n",
       "  <thead>\n",
       "    <tr style=\"text-align: right;\">\n",
       "      <th>credit_score_bins</th>\n",
       "      <th>L</th>\n",
       "      <th>M</th>\n",
       "      <th>H</th>\n",
       "    </tr>\n",
       "    <tr>\n",
       "      <th>Default</th>\n",
       "      <th></th>\n",
       "      <th></th>\n",
       "      <th></th>\n",
       "    </tr>\n",
       "  </thead>\n",
       "  <tbody>\n",
       "    <tr>\n",
       "      <th>0.0</th>\n",
       "      <td>0.000000</td>\n",
       "      <td>71.302817</td>\n",
       "      <td>28.697183</td>\n",
       "    </tr>\n",
       "    <tr>\n",
       "      <th>1.0</th>\n",
       "      <td>12.765957</td>\n",
       "      <td>71.489362</td>\n",
       "      <td>15.744681</td>\n",
       "    </tr>\n",
       "  </tbody>\n",
       "</table>\n",
       "</div>"
      ],
      "text/plain": [
       "credit_score_bins          L          M          H\n",
       "Default                                           \n",
       "0.0                 0.000000  71.302817  28.697183\n",
       "1.0                12.765957  71.489362  15.744681"
      ]
     },
     "execution_count": 437,
     "metadata": {},
     "output_type": "execute_result"
    }
   ],
   "source": [
    "score_ct = pd.crosstab(data['Default'], data['credit_score_bins'], normalize='index')*100\n",
    "score_ct"
   ]
  },
  {
   "cell_type": "code",
   "execution_count": 447,
   "metadata": {},
   "outputs": [
    {
     "data": {
      "image/png": "[encoded data removed]",
      "text/plain": [
       "<Figure size 1500x600 with 1 Axes>"
      ]
     },
     "metadata": {
      "needs_background": "light"
     },
     "output_type": "display_data"
    }
   ],
   "source": [
    "crosstab_plot('credit_score_bins', 'Default', score_ct)\n",
    "plt.savefig('credit_score_bins_dist.png')"
   ]
  },
  {
   "cell_type": "code",
   "execution_count": 448,
   "metadata": {},
   "outputs": [
    {
     "data": {
      "text/plain": [
       "(26.0, 34.0]      645\n",
       "(34.0, 42.0]      226\n",
       "(17.976, 26.0]    135\n",
       "Name: Age, dtype: int64"
      ]
     },
     "execution_count": 448,
     "metadata": {},
     "output_type": "execute_result"
    }
   ],
   "source": [
    "pd.cut(data['Age'], bins=3).value_counts()"
   ]
  },
  {
   "cell_type": "code",
   "execution_count": 449,
   "metadata": {},
   "outputs": [
    {
     "data": {
      "text/plain": [
       "Y    645\n",
       "S    226\n",
       "A    135\n",
       "Name: age_bins, dtype: int64"
      ]
     },
     "execution_count": 449,
     "metadata": {},
     "output_type": "execute_result"
    }
   ],
   "source": [
    "data['age_bins'] = pd.cut(data['Age'], bins=3, labels=['A', 'Y', 'S'])\n",
    "data['age_bins'].value_counts()"
   ]
  },
  {
   "cell_type": "code",
   "execution_count": 450,
   "metadata": {},
   "outputs": [
    {
     "data": {
      "text/html": [
       "<div>\n",
       "<style scoped>\n",
       "    .dataframe tbody tr th:only-of-type {\n",
       "        vertical-align: middle;\n",
       "    }\n",
       "\n",
       "    .dataframe tbody tr th {\n",
       "        vertical-align: top;\n",
       "    }\n",
       "\n",
       "    .dataframe thead th {\n",
       "        text-align: right;\n",
       "    }\n",
       "</style>\n",
       "<table border=\"1\" class=\"dataframe\">\n",
       "  <thead>\n",
       "    <tr style=\"text-align: right;\">\n",
       "      <th>Default</th>\n",
       "      <th>0.0</th>\n",
       "      <th>1.0</th>\n",
       "    </tr>\n",
       "    <tr>\n",
       "      <th>age_bins</th>\n",
       "      <th></th>\n",
       "      <th></th>\n",
       "    </tr>\n",
       "  </thead>\n",
       "  <tbody>\n",
       "    <tr>\n",
       "      <th>A</th>\n",
       "      <td>5.825243</td>\n",
       "      <td>94.174757</td>\n",
       "    </tr>\n",
       "    <tr>\n",
       "      <th>Y</th>\n",
       "      <td>73.307544</td>\n",
       "      <td>26.692456</td>\n",
       "    </tr>\n",
       "    <tr>\n",
       "      <th>S</th>\n",
       "      <td>100.000000</td>\n",
       "      <td>0.000000</td>\n",
       "    </tr>\n",
       "  </tbody>\n",
       "</table>\n",
       "</div>"
      ],
      "text/plain": [
       "Default          0.0        1.0\n",
       "age_bins                       \n",
       "A           5.825243  94.174757\n",
       "Y          73.307544  26.692456\n",
       "S         100.000000   0.000000"
      ]
     },
     "execution_count": 450,
     "metadata": {},
     "output_type": "execute_result"
    }
   ],
   "source": [
    "age_ct = pd.crosstab(data['age_bins'], data['Default'], normalize='index')*100\n",
    "age_ct"
   ]
  },
  {
   "cell_type": "code",
   "execution_count": 451,
   "metadata": {},
   "outputs": [
    {
     "data": {
      "text/plain": [
       "<matplotlib.axes._subplots.AxesSubplot at 0x128e3ebcf88>"
      ]
     },
     "execution_count": 451,
     "metadata": {},
     "output_type": "execute_result"
    },
    {
     "data": {
      "image/png": "[encoded data removed]",
      "text/plain": [
       "<Figure size 1500x600 with 1 Axes>"
      ]
     },
     "metadata": {
      "needs_background": "light"
     },
     "output_type": "display_data"
    }
   ],
   "source": [
    "crosstab_plot('age_bins', 'Default', age_ct)"
   ]
  },
  {
   "cell_type": "code",
   "execution_count": 452,
   "metadata": {},
   "outputs": [],
   "source": [
    "data['term_diff_emp_duration'] = data['Term']-data['Emp_duration']"
   ]
  },
  {
   "cell_type": "code",
   "execution_count": 453,
   "metadata": {},
   "outputs": [],
   "source": [
    "data['tot_bal_diff_loan_bal'] = - data['Amount']+data['total_bal']"
   ]
  },
  {
   "cell_type": "code",
   "execution_count": 454,
   "metadata": {},
   "outputs": [
    {
     "data": {
      "text/plain": [
       "<matplotlib.axes._subplots.AxesSubplot at 0x128e3d22a88>"
      ]
     },
     "execution_count": 454,
     "metadata": {},
     "output_type": "execute_result"
    },
    {
     "data": {
      "image/png": "[encoded data removed]",
      "text/plain": [
       "<Figure size 1500x600 with 1 Axes>"
      ]
     },
     "metadata": {
      "needs_background": "light"
     },
     "output_type": "display_data"
    }
   ],
   "source": [
    "data.groupby(['Age'])['Amount'].sum().plot(kind='barh')"
   ]
  },
  {
   "cell_type": "code",
   "execution_count": 300,
   "metadata": {},
   "outputs": [
    {
     "data": {
      "text/plain": [
       "<matplotlib.axes._subplots.AxesSubplot at 0x128e6e2af48>"
      ]
     },
     "execution_count": 300,
     "metadata": {},
     "output_type": "execute_result"
    },
    {
     "data": {
      "image/png": "[encoded data removed]",
      "text/plain": [
       "<Figure size 1500x600 with 1 Axes>"
      ]
     },
     "metadata": {
      "needs_background": "light"
     },
     "output_type": "display_data"
    }
   ],
   "source": [
    "data.groupby(['Age'])['Saving_amount'].sum().plot(kind='barh')"
   ]
  },
  {
   "cell_type": "code",
   "execution_count": 313,
   "metadata": {},
   "outputs": [
    {
     "data": {
      "text/plain": [
       "<matplotlib.axes._subplots.AxesSubplot at 0x128ea2786c8>"
      ]
     },
     "execution_count": 313,
     "metadata": {},
     "output_type": "execute_result"
    },
    {
     "data": {
      "image/png": "[encoded data removed]",
      "text/plain": [
       "<Figure size 1500x600 with 1 Axes>"
      ]
     },
     "metadata": {
      "needs_background": "light"
     },
     "output_type": "display_data"
    }
   ],
   "source": [
    "data.groupby(['Age'])['Default'].mean().plot(kind='barh')"
   ]
  },
  {
   "cell_type": "code",
   "execution_count": 315,
   "metadata": {},
   "outputs": [
    {
     "data": {
      "text/plain": [
       "<matplotlib.axes._subplots.AxesSubplot at 0x128ea3f6d88>"
      ]
     },
     "execution_count": 315,
     "metadata": {},
     "output_type": "execute_result"
    },
    {
     "data": {
      "image/png": "[encoded data removed]",
      "text/plain": [
       "<Figure size 1500x600 with 1 Axes>"
      ]
     },
     "metadata": {
      "needs_background": "light"
     },
     "output_type": "display_data"
    }
   ],
   "source": [
    "data.groupby(['credit_score_bins'])['Default'].mean().plot(kind='bar')"
   ]
  },
  {
   "cell_type": "code",
   "execution_count": 316,
   "metadata": {},
   "outputs": [
    {
     "data": {
      "text/plain": [
       "<matplotlib.axes._subplots.AxesSubplot at 0x128ea467648>"
      ]
     },
     "execution_count": 316,
     "metadata": {},
     "output_type": "execute_result"
    },
    {
     "data": {
      "image/png": "[encoded data removed]",
      "text/plain": [
       "<Figure size 1500x600 with 1 Axes>"
      ]
     },
     "metadata": {
      "needs_background": "light"
     },
     "output_type": "display_data"
    }
   ],
   "source": [
    "data.groupby(['age_bins'])['Default'].mean().plot(kind='bar')"
   ]
  },
  {
   "cell_type": "code",
   "execution_count": null,
   "metadata": {},
   "outputs": [],
   "source": []
  },
  {
   "cell_type": "code",
   "execution_count": 308,
   "metadata": {},
   "outputs": [],
   "source": [
    "data['Age_count'] = data.groupby(['Age'])['ID'].transform('count')\n",
    "data['Age_tot_loan'] = data.groupby(['Age'])['Amount'].transform('sum')\n",
    "data['Age_mean_loan'] = data.groupby(['Age'])['Amount'].transform('mean')\n",
    "data['Age_tot_saving_bal'] = data.groupby(['Age'])['Saving_amount'].transform('sum')\n",
    "data['Age_mean_saving_bal'] = data.groupby(['Age'])['Saving_amount'].transform('mean')\n",
    "data['Age_flag_mean'] = data.groupby(['Age'])['Default'].transform('mean')"
   ]
  },
  {
   "cell_type": "code",
   "execution_count": 309,
   "metadata": {},
   "outputs": [
    {
     "data": {
      "text/plain": [
       "(1006, 34)"
      ]
     },
     "execution_count": 309,
     "metadata": {},
     "output_type": "execute_result"
    }
   ],
   "source": [
    "data.shape"
   ]
  },
  {
   "cell_type": "code",
   "execution_count": 312,
   "metadata": {},
   "outputs": [
    {
     "data": {
      "text/plain": [
       "Index(['credit_score_bins', 'age_bins'], dtype='object')"
      ]
     },
     "execution_count": 312,
     "metadata": {},
     "output_type": "execute_result"
    }
   ],
   "source": [
    "cat_cols = data.select_dtypes(include='category').columns\n",
    "cat_cols"
   ]
  },
  {
   "cell_type": "code",
   "execution_count": 339,
   "metadata": {},
   "outputs": [
    {
     "data": {
      "text/plain": [
       "0.266925    645\n",
       "0.000000    226\n",
       "0.941748    135\n",
       "Name: age_bins, dtype: int64"
      ]
     },
     "execution_count": 339,
     "metadata": {},
     "output_type": "execute_result"
    }
   ],
   "source": [
    "age = data.groupby(['age_bins'])['Default'].mean()\n",
    "data['age_bins'] = data['age_bins'].map(age).astype(float)\n",
    "data['age_bins'].value_counts()"
   ]
  },
  {
   "cell_type": "code",
   "execution_count": 340,
   "metadata": {},
   "outputs": [
    {
     "data": {
      "text/plain": [
       "0.293194    713\n",
       "0.185000    253\n",
       "1.000000     40\n",
       "Name: credit_score_bins, dtype: int64"
      ]
     },
     "execution_count": 340,
     "metadata": {},
     "output_type": "execute_result"
    }
   ],
   "source": [
    "score = data.groupby(['credit_score_bins'])['Default'].mean()\n",
    "data['credit_score_bins'] = data['credit_score_bins'].map(score).astype(float)\n",
    "data['credit_score_bins'].value_counts()"
   ]
  },
  {
   "cell_type": "code",
   "execution_count": 341,
   "metadata": {},
   "outputs": [
    {
     "data": {
      "text/html": [
       "<div>\n",
       "<style scoped>\n",
       "    .dataframe tbody tr th:only-of-type {\n",
       "        vertical-align: middle;\n",
       "    }\n",
       "\n",
       "    .dataframe tbody tr th {\n",
       "        vertical-align: top;\n",
       "    }\n",
       "\n",
       "    .dataframe thead th {\n",
       "        text-align: right;\n",
       "    }\n",
       "</style>\n",
       "<table border=\"1\" class=\"dataframe\">\n",
       "  <thead>\n",
       "    <tr style=\"text-align: right;\">\n",
       "      <th></th>\n",
       "      <th>ID</th>\n",
       "      <th>Default</th>\n",
       "      <th>Checking_amount</th>\n",
       "      <th>Term</th>\n",
       "      <th>Credit_score</th>\n",
       "      <th>Gender</th>\n",
       "      <th>Marital_status</th>\n",
       "      <th>Car_loan</th>\n",
       "      <th>Personal_loan</th>\n",
       "      <th>Home_loan</th>\n",
       "      <th>Education_loan</th>\n",
       "      <th>Emp_status</th>\n",
       "      <th>Amount</th>\n",
       "      <th>Saving_amount</th>\n",
       "      <th>Emp_duration</th>\n",
       "      <th>Age</th>\n",
       "      <th>No_of_credit_acc</th>\n",
       "      <th>bal_status</th>\n",
       "      <th>total_bal</th>\n",
       "      <th>loan_to_tot_bal</th>\n",
       "      <th>loan_to_saving</th>\n",
       "      <th>loan_to_score</th>\n",
       "      <th>total_loan</th>\n",
       "      <th>credit_score_bins</th>\n",
       "      <th>age_bins</th>\n",
       "      <th>term_diff_emp_duration</th>\n",
       "      <th>loan_bal_diff_tot_bal</th>\n",
       "      <th>tot_bal_diff_loan_bal</th>\n",
       "      <th>Age_count</th>\n",
       "      <th>Age_tot_loan</th>\n",
       "      <th>Age_mean_loan</th>\n",
       "      <th>Age_tot_saving_bal</th>\n",
       "      <th>Age_tot_mean_bal</th>\n",
       "      <th>Age_flag_mean</th>\n",
       "    </tr>\n",
       "  </thead>\n",
       "  <tbody>\n",
       "    <tr>\n",
       "      <th>0</th>\n",
       "      <td>101</td>\n",
       "      <td>0.0</td>\n",
       "      <td>988.0</td>\n",
       "      <td>15.0</td>\n",
       "      <td>796.0</td>\n",
       "      <td>0</td>\n",
       "      <td>0</td>\n",
       "      <td>1</td>\n",
       "      <td>0</td>\n",
       "      <td>0</td>\n",
       "      <td>0</td>\n",
       "      <td>0</td>\n",
       "      <td>1536.0</td>\n",
       "      <td>3455.0</td>\n",
       "      <td>12.0</td>\n",
       "      <td>38.0</td>\n",
       "      <td>1.0</td>\n",
       "      <td>0</td>\n",
       "      <td>4443.0</td>\n",
       "      <td>0.345712</td>\n",
       "      <td>0.444573</td>\n",
       "      <td>1.929648</td>\n",
       "      <td>1</td>\n",
       "      <td>0.293194</td>\n",
       "      <td>0.000000</td>\n",
       "      <td>3.0</td>\n",
       "      <td>-2907.0</td>\n",
       "      <td>2907.0</td>\n",
       "      <td>25</td>\n",
       "      <td>29013.0</td>\n",
       "      <td>1160.520000</td>\n",
       "      <td>84550.0</td>\n",
       "      <td>3382.000000</td>\n",
       "      <td>0.000000</td>\n",
       "    </tr>\n",
       "    <tr>\n",
       "      <th>1</th>\n",
       "      <td>102</td>\n",
       "      <td>0.0</td>\n",
       "      <td>458.0</td>\n",
       "      <td>15.0</td>\n",
       "      <td>813.0</td>\n",
       "      <td>0</td>\n",
       "      <td>0</td>\n",
       "      <td>1</td>\n",
       "      <td>0</td>\n",
       "      <td>0</td>\n",
       "      <td>0</td>\n",
       "      <td>0</td>\n",
       "      <td>947.0</td>\n",
       "      <td>3600.0</td>\n",
       "      <td>25.0</td>\n",
       "      <td>36.0</td>\n",
       "      <td>1.0</td>\n",
       "      <td>0</td>\n",
       "      <td>4058.0</td>\n",
       "      <td>0.233366</td>\n",
       "      <td>0.263056</td>\n",
       "      <td>1.164822</td>\n",
       "      <td>1</td>\n",
       "      <td>0.185000</td>\n",
       "      <td>0.000000</td>\n",
       "      <td>-10.0</td>\n",
       "      <td>-3111.0</td>\n",
       "      <td>3111.0</td>\n",
       "      <td>61</td>\n",
       "      <td>74891.0</td>\n",
       "      <td>1227.721311</td>\n",
       "      <td>200035.0</td>\n",
       "      <td>3279.262295</td>\n",
       "      <td>0.000000</td>\n",
       "    </tr>\n",
       "    <tr>\n",
       "      <th>2</th>\n",
       "      <td>103</td>\n",
       "      <td>0.0</td>\n",
       "      <td>158.0</td>\n",
       "      <td>14.0</td>\n",
       "      <td>756.0</td>\n",
       "      <td>0</td>\n",
       "      <td>0</td>\n",
       "      <td>0</td>\n",
       "      <td>1</td>\n",
       "      <td>0</td>\n",
       "      <td>0</td>\n",
       "      <td>0</td>\n",
       "      <td>1678.0</td>\n",
       "      <td>3093.0</td>\n",
       "      <td>43.0</td>\n",
       "      <td>34.0</td>\n",
       "      <td>1.0</td>\n",
       "      <td>0</td>\n",
       "      <td>3251.0</td>\n",
       "      <td>0.516149</td>\n",
       "      <td>0.542515</td>\n",
       "      <td>2.219577</td>\n",
       "      <td>1</td>\n",
       "      <td>0.293194</td>\n",
       "      <td>0.266925</td>\n",
       "      <td>-29.0</td>\n",
       "      <td>-1573.0</td>\n",
       "      <td>1573.0</td>\n",
       "      <td>75</td>\n",
       "      <td>89144.0</td>\n",
       "      <td>1188.586667</td>\n",
       "      <td>247193.0</td>\n",
       "      <td>3295.906667</td>\n",
       "      <td>0.072727</td>\n",
       "    </tr>\n",
       "    <tr>\n",
       "      <th>3</th>\n",
       "      <td>104</td>\n",
       "      <td>1.0</td>\n",
       "      <td>300.0</td>\n",
       "      <td>25.0</td>\n",
       "      <td>737.0</td>\n",
       "      <td>0</td>\n",
       "      <td>0</td>\n",
       "      <td>0</td>\n",
       "      <td>0</td>\n",
       "      <td>0</td>\n",
       "      <td>1</td>\n",
       "      <td>0</td>\n",
       "      <td>1804.0</td>\n",
       "      <td>2449.0</td>\n",
       "      <td>0.0</td>\n",
       "      <td>29.0</td>\n",
       "      <td>1.0</td>\n",
       "      <td>0</td>\n",
       "      <td>2749.0</td>\n",
       "      <td>0.656239</td>\n",
       "      <td>0.736627</td>\n",
       "      <td>2.447761</td>\n",
       "      <td>1</td>\n",
       "      <td>0.293194</td>\n",
       "      <td>0.266925</td>\n",
       "      <td>25.0</td>\n",
       "      <td>-945.0</td>\n",
       "      <td>945.0</td>\n",
       "      <td>78</td>\n",
       "      <td>97245.0</td>\n",
       "      <td>1246.730769</td>\n",
       "      <td>238899.0</td>\n",
       "      <td>3062.807692</td>\n",
       "      <td>0.539683</td>\n",
       "    </tr>\n",
       "    <tr>\n",
       "      <th>4</th>\n",
       "      <td>105</td>\n",
       "      <td>1.0</td>\n",
       "      <td>63.0</td>\n",
       "      <td>24.0</td>\n",
       "      <td>662.0</td>\n",
       "      <td>0</td>\n",
       "      <td>0</td>\n",
       "      <td>0</td>\n",
       "      <td>0</td>\n",
       "      <td>0</td>\n",
       "      <td>1</td>\n",
       "      <td>1</td>\n",
       "      <td>1184.0</td>\n",
       "      <td>2867.0</td>\n",
       "      <td>4.0</td>\n",
       "      <td>30.0</td>\n",
       "      <td>1.0</td>\n",
       "      <td>0</td>\n",
       "      <td>2930.0</td>\n",
       "      <td>0.404096</td>\n",
       "      <td>0.412975</td>\n",
       "      <td>1.788520</td>\n",
       "      <td>1</td>\n",
       "      <td>0.293194</td>\n",
       "      <td>0.266925</td>\n",
       "      <td>20.0</td>\n",
       "      <td>-1746.0</td>\n",
       "      <td>1746.0</td>\n",
       "      <td>89</td>\n",
       "      <td>108573.0</td>\n",
       "      <td>1219.921348</td>\n",
       "      <td>281221.0</td>\n",
       "      <td>3159.786517</td>\n",
       "      <td>0.267606</td>\n",
       "    </tr>\n",
       "  </tbody>\n",
       "</table>\n",
       "</div>"
      ],
      "text/plain": [
       "    ID  Default  Checking_amount  Term  Credit_score  Gender  Marital_status  \\\n",
       "0  101      0.0            988.0  15.0         796.0       0               0   \n",
       "1  102      0.0            458.0  15.0         813.0       0               0   \n",
       "2  103      0.0            158.0  14.0         756.0       0               0   \n",
       "3  104      1.0            300.0  25.0         737.0       0               0   \n",
       "4  105      1.0             63.0  24.0         662.0       0               0   \n",
       "\n",
       "   Car_loan  Personal_loan  Home_loan  Education_loan  Emp_status  Amount  \\\n",
       "0         1              0          0               0           0  1536.0   \n",
       "1         1              0          0               0           0   947.0   \n",
       "2         0              1          0               0           0  1678.0   \n",
       "3         0              0          0               1           0  1804.0   \n",
       "4         0              0          0               1           1  1184.0   \n",
       "\n",
       "   Saving_amount  Emp_duration   Age  No_of_credit_acc  bal_status  total_bal  \\\n",
       "0         3455.0          12.0  38.0               1.0           0     4443.0   \n",
       "1         3600.0          25.0  36.0               1.0           0     4058.0   \n",
       "2         3093.0          43.0  34.0               1.0           0     3251.0   \n",
       "3         2449.0           0.0  29.0               1.0           0     2749.0   \n",
       "4         2867.0           4.0  30.0               1.0           0     2930.0   \n",
       "\n",
       "   loan_to_tot_bal  loan_to_saving  loan_to_score  total_loan  \\\n",
       "0         0.345712        0.444573       1.929648           1   \n",
       "1         0.233366        0.263056       1.164822           1   \n",
       "2         0.516149        0.542515       2.219577           1   \n",
       "3         0.656239        0.736627       2.447761           1   \n",
       "4         0.404096        0.412975       1.788520           1   \n",
       "\n",
       "   credit_score_bins  age_bins  term_diff_emp_duration  loan_bal_diff_tot_bal  \\\n",
       "0           0.293194  0.000000                     3.0                -2907.0   \n",
       "1           0.185000  0.000000                   -10.0                -3111.0   \n",
       "2           0.293194  0.266925                   -29.0                -1573.0   \n",
       "3           0.293194  0.266925                    25.0                 -945.0   \n",
       "4           0.293194  0.266925                    20.0                -1746.0   \n",
       "\n",
       "   tot_bal_diff_loan_bal  Age_count  Age_tot_loan  Age_mean_loan  \\\n",
       "0                 2907.0         25       29013.0    1160.520000   \n",
       "1                 3111.0         61       74891.0    1227.721311   \n",
       "2                 1573.0         75       89144.0    1188.586667   \n",
       "3                  945.0         78       97245.0    1246.730769   \n",
       "4                 1746.0         89      108573.0    1219.921348   \n",
       "\n",
       "   Age_tot_saving_bal  Age_tot_mean_bal  Age_flag_mean  \n",
       "0             84550.0       3382.000000       0.000000  \n",
       "1            200035.0       3279.262295       0.000000  \n",
       "2            247193.0       3295.906667       0.072727  \n",
       "3            238899.0       3062.807692       0.539683  \n",
       "4            281221.0       3159.786517       0.267606  "
      ]
     },
     "execution_count": 341,
     "metadata": {},
     "output_type": "execute_result"
    }
   ],
   "source": [
    "data.head()"
   ]
  },
  {
   "cell_type": "code",
   "execution_count": 342,
   "metadata": {},
   "outputs": [
    {
     "data": {
      "text/plain": [
       "(1006, 34)"
      ]
     },
     "execution_count": 342,
     "metadata": {},
     "output_type": "execute_result"
    }
   ],
   "source": [
    "data.shape"
   ]
  },
  {
   "cell_type": "code",
   "execution_count": 343,
   "metadata": {},
   "outputs": [
    {
     "name": "stdout",
     "output_type": "stream",
     "text": [
      "<class 'pandas.core.frame.DataFrame'>\n",
      "Int64Index: 1006 entries, 0 to 202\n",
      "Data columns (total 34 columns):\n",
      " #   Column                  Non-Null Count  Dtype  \n",
      "---  ------                  --------------  -----  \n",
      " 0   ID                      1006 non-null   int64  \n",
      " 1   Default                 803 non-null    float64\n",
      " 2   Checking_amount         1006 non-null   float64\n",
      " 3   Term                    1006 non-null   float64\n",
      " 4   Credit_score            1006 non-null   float64\n",
      " 5   Gender                  1006 non-null   int64  \n",
      " 6   Marital_status          1006 non-null   int64  \n",
      " 7   Car_loan                1006 non-null   int64  \n",
      " 8   Personal_loan           1006 non-null   int64  \n",
      " 9   Home_loan               1006 non-null   int64  \n",
      " 10  Education_loan          1006 non-null   int64  \n",
      " 11  Emp_status              1006 non-null   int64  \n",
      " 12  Amount                  1006 non-null   float64\n",
      " 13  Saving_amount           1006 non-null   float64\n",
      " 14  Emp_duration            1006 non-null   float64\n",
      " 15  Age                     1006 non-null   float64\n",
      " 16  No_of_credit_acc        1006 non-null   float64\n",
      " 17  bal_status              1006 non-null   int64  \n",
      " 18  total_bal               1006 non-null   float64\n",
      " 19  loan_to_tot_bal         1006 non-null   float64\n",
      " 20  loan_to_saving          1006 non-null   float64\n",
      " 21  loan_to_score           1006 non-null   float64\n",
      " 22  total_loan              1006 non-null   int64  \n",
      " 23  credit_score_bins       1006 non-null   float64\n",
      " 24  age_bins                1006 non-null   float64\n",
      " 25  term_diff_emp_duration  1006 non-null   float64\n",
      " 26  loan_bal_diff_tot_bal   1006 non-null   float64\n",
      " 27  tot_bal_diff_loan_bal   1006 non-null   float64\n",
      " 28  Age_count               1006 non-null   int64  \n",
      " 29  Age_tot_loan            1006 non-null   float64\n",
      " 30  Age_mean_loan           1006 non-null   float64\n",
      " 31  Age_tot_saving_bal      1006 non-null   float64\n",
      " 32  Age_tot_mean_bal        1006 non-null   float64\n",
      " 33  Age_flag_mean           1006 non-null   float64\n",
      "dtypes: float64(23), int64(11)\n",
      "memory usage: 315.1 KB\n"
     ]
    }
   ],
   "source": [
    "data.info()"
   ]
  },
  {
   "cell_type": "code",
   "execution_count": 344,
   "metadata": {},
   "outputs": [
    {
     "data": {
      "text/plain": [
       "((803, 34), (203, 34))"
      ]
     },
     "execution_count": 344,
     "metadata": {},
     "output_type": "execute_result"
    }
   ],
   "source": [
    "final_train = data[data['Default'].isnull()==False].reset_index(drop=True)\n",
    "final_test = data[data['Default'].isnull()==True].reset_index(drop=True)\n",
    "final_train.shape, final_test.shape"
   ]
  },
  {
   "cell_type": "code",
   "execution_count": 345,
   "metadata": {},
   "outputs": [],
   "source": [
    "drop_cols = ['ID', 'Default']\n",
    "train_X = final_train[:int(0.9*final_train.shape[0])]\n",
    "test_X = final_train[int(0.9*final_train.shape[0]):]"
   ]
  },
  {
   "cell_type": "code",
   "execution_count": 346,
   "metadata": {},
   "outputs": [
    {
     "data": {
      "text/plain": [
       "((722, 32), (81, 32))"
      ]
     },
     "execution_count": 346,
     "metadata": {},
     "output_type": "execute_result"
    }
   ],
   "source": [
    "X = train_X.drop(drop_cols, axis=1)\n",
    "y = train_X['Default']\n",
    "Xtest = test_X.drop(drop_cols, axis=1)\n",
    "X.shape, Xtest.shape"
   ]
  },
  {
   "cell_type": "code",
   "execution_count": 347,
   "metadata": {},
   "outputs": [
    {
     "data": {
      "text/plain": [
       "((541, 32), (541,), (181, 32), (181,))"
      ]
     },
     "execution_count": 347,
     "metadata": {},
     "output_type": "execute_result"
    }
   ],
   "source": [
    "from sklearn.model_selection import train_test_split\n",
    "X_train, X_cv, y_train, y_cv = train_test_split(X, y, test_size=0.25, random_state=1)\n",
    "X_train.shape, y_train.shape, X_cv.shape, y_cv.shape"
   ]
  },
  {
   "cell_type": "code",
   "execution_count": 348,
   "metadata": {},
   "outputs": [],
   "source": [
    "from sklearn.metrics import accuracy_score, f1_score, roc_auc_score, confusion_matrix, classification_report\n",
    "from sklearn.metrics import recall_score, precision_score, log_loss"
   ]
  },
  {
   "cell_type": "code",
   "execution_count": 349,
   "metadata": {},
   "outputs": [
    {
     "name": "stdout",
     "output_type": "stream",
     "text": [
      "Training until validation scores don't improve for 200 rounds\n",
      "[200]\tvalid_0's auc: 0.979196\tvalid_0's binary_logloss: 0.193468\n",
      "Early stopping, best iteration is:\n",
      "[89]\tvalid_0's auc: 0.983125\tvalid_0's binary_logloss: 0.212146\n",
      "Fold: 1\n",
      "Accuracy: 0.9172413793103448\n",
      "F1 Score: 0.9144325525382906\n",
      "Precision Score: 0.9189664309339766\n",
      "Recall Score: 0.9172413793103448\n",
      "AUC Score: 0.9831252889505316\n",
      "\n",
      "\n",
      "Training until validation scores don't improve for 200 rounds\n",
      "[200]\tvalid_0's auc: 0.982222\tvalid_0's binary_logloss: 0.181442\n",
      "[400]\tvalid_0's auc: 0.981778\tvalid_0's binary_logloss: 0.197399\n",
      "Early stopping, best iteration is:\n",
      "[202]\tvalid_0's auc: 0.982889\tvalid_0's binary_logloss: 0.180587\n",
      "Fold: 2\n",
      "Accuracy: 0.9103448275862069\n",
      "F1 Score: 0.9106121741713493\n",
      "Precision Score: 0.9109763300168097\n",
      "Recall Score: 0.9103448275862069\n",
      "AUC Score: 0.9828888888888889\n",
      "\n",
      "\n",
      "Training until validation scores don't improve for 200 rounds\n",
      "[200]\tvalid_0's auc: 0.968174\tvalid_0's binary_logloss: 0.196613\n",
      "Early stopping, best iteration is:\n",
      "[193]\tvalid_0's auc: 0.968932\tvalid_0's binary_logloss: 0.194987\n",
      "Fold: 3\n",
      "Accuracy: 0.9027777777777778\n",
      "F1 Score: 0.9035984221560189\n",
      "Precision Score: 0.9048331298331299\n",
      "Recall Score: 0.9027777777777778\n",
      "AUC Score: 0.9689315483708006\n",
      "\n",
      "\n",
      "Training until validation scores don't improve for 200 rounds\n",
      "[200]\tvalid_0's auc: 0.980626\tvalid_0's binary_logloss: 0.172487\n",
      "[400]\tvalid_0's auc: 0.979458\tvalid_0's binary_logloss: 0.187581\n",
      "Early stopping, best iteration is:\n",
      "[279]\tvalid_0's auc: 0.98226\tvalid_0's binary_logloss: 0.166102\n",
      "Fold: 4\n",
      "Accuracy: 0.9444444444444444\n",
      "F1 Score: 0.9431013431013433\n",
      "Precision Score: 0.9459876543209877\n",
      "Recall Score: 0.9444444444444444\n",
      "AUC Score: 0.9822595704948647\n",
      "\n",
      "\n",
      "Training until validation scores don't improve for 200 rounds\n",
      "[200]\tvalid_0's auc: 0.985994\tvalid_0's binary_logloss: 0.140116\n",
      "[400]\tvalid_0's auc: 0.985994\tvalid_0's binary_logloss: 0.155985\n",
      "Early stopping, best iteration is:\n",
      "[249]\tvalid_0's auc: 0.986228\tvalid_0's binary_logloss: 0.137924\n",
      "Fold: 5\n",
      "Accuracy: 0.9513888888888888\n",
      "F1 Score: 0.9518642420083488\n",
      "Precision Score: 0.9532828282828282\n",
      "Recall Score: 0.9513888888888888\n",
      "AUC Score: 0.9862278244631186\n",
      "\n",
      "\n"
     ]
    }
   ],
   "source": [
    "from sklearn.model_selection import KFold, StratifiedKFold\n",
    "from sklearn.ensemble import AdaBoostClassifier\n",
    "from lightgbm import LGBMClassifier\n",
    "\n",
    "err_lgb_ac = []\n",
    "err_lgb_f1 = []\n",
    "err_lgb_prec = []\n",
    "err_lgb_rec = []\n",
    "err_lgb_auc = []\n",
    "\n",
    "y_pred_tot_lgb = []\n",
    "y_pred_tot_lgb_prob = []\n",
    "\n",
    "\n",
    "fold = KFold(n_splits=5, shuffle=True, random_state=42)\n",
    "f = 0\n",
    "for train_index, test_index in fold.split(X):\n",
    "    X_train, X_test = X.loc[train_index], X.loc[test_index]\n",
    "    y_train, y_test = y[train_index], y[test_index]\n",
    "    \n",
    "    m=LGBMClassifier(n_estimators=1000,random_state=1994,learning_rate=0.03,colsample_bytree=0.2,objective='binary',\n",
    "                     scale_pos_weight=1)\n",
    "    m.fit(X_train,y_train,eval_set=[(X_test, y_test)],eval_metric='auc', early_stopping_rounds=200,verbose=200)\n",
    "    \n",
    "    y_pred = m.predict(X_test)\n",
    "    y_pred_prob = m.predict_proba(X_test)[:,1]\n",
    "    \n",
    "    test_pred = m.predict(Xtest)\n",
    "    test_pred_proba = m.predict_proba(Xtest)[:,1]\n",
    "    \n",
    "    err_ac = accuracy_score(y_test, y_pred)\n",
    "    err_f1 = f1_score(y_test, y_pred, average='weighted')\n",
    "    err_prec = precision_score(y_test, y_pred, average='weighted')\n",
    "    err_rec = recall_score(y_test, y_pred, average='weighted')\n",
    "    err_auc = roc_auc_score(y_test, y_pred_prob)\n",
    "    \n",
    "    f += 1\n",
    "    print(\"Fold:\", f)\n",
    "    print(\"Accuracy:\", err_ac)\n",
    "    print('F1 Score:', err_f1)\n",
    "    print(\"Precision Score:\", err_prec)\n",
    "    print(\"Recall Score:\", err_rec)\n",
    "    print(\"AUC Score:\", err_auc)\n",
    "    print('\\n')\n",
    "    \n",
    "    err_lgb_ac.append(err_ac)\n",
    "    err_lgb_f1.append(err_f1)\n",
    "    err_lgb_prec.append(err_prec)\n",
    "    err_lgb_rec.append(err_rec)\n",
    "    err_lgb_auc.append(err_auc)\n",
    "    \n",
    "    y_pred_tot_lgb.append(test_pred)\n",
    "    y_pred_tot_lgb_prob.append(test_pred_proba)\n",
    "    "
   ]
  },
  {
   "cell_type": "code",
   "execution_count": 350,
   "metadata": {},
   "outputs": [
    {
     "name": "stdout",
     "output_type": "stream",
     "text": [
      "0.9252394636015324\n",
      "0.9247217467950701\n",
      "0.9268092746775464\n",
      "0.9252394636015324\n",
      "0.9806866242336408\n"
     ]
    }
   ],
   "source": [
    "print(np.mean(err_lgb_ac))\n",
    "print(np.mean(err_lgb_f1))\n",
    "print(np.mean(err_lgb_prec))\n",
    "print(np.mean(err_lgb_rec))\n",
    "print(np.mean(err_lgb_auc))"
   ]
  },
  {
   "cell_type": "code",
   "execution_count": 351,
   "metadata": {},
   "outputs": [
    {
     "name": "stdout",
     "output_type": "stream",
     "text": [
      "0    59\n",
      "1    22\n",
      "dtype: int64\n",
      "0.9135802469135802\n",
      "0.9110830172777076\n",
      "0.9170518746789934\n",
      "0.9135802469135802\n",
      "0.9746227709190672\n",
      "              precision    recall  f1-score   support\n",
      "\n",
      "         0.0       0.90      0.98      0.94        54\n",
      "         1.0       0.95      0.78      0.86        27\n",
      "\n",
      "    accuracy                           0.91        81\n",
      "   macro avg       0.93      0.88      0.90        81\n",
      "weighted avg       0.92      0.91      0.91        81\n",
      "\n",
      "[[53  1]\n",
      " [ 6 21]]\n"
     ]
    }
   ],
   "source": [
    "p = pd.Series(np.mean(y_pred_tot_lgb, 0)).round().astype(int)\n",
    "p_p = np.mean(y_pred_tot_lgb_prob, axis=0)\n",
    "print(p.value_counts())\n",
    "print(accuracy_score(test_X['Default'], p))\n",
    "print(f1_score(test_X['Default'], p, average='weighted'))\n",
    "print(precision_score(test_X['Default'], p, average='weighted'))\n",
    "print(recall_score(test_X['Default'], p, average='weighted'))\n",
    "print(roc_auc_score(test_X['Default'], p_p))\n",
    "print(classification_report(test_X['Default'], p))\n",
    "print(confusion_matrix(test_X['Default'], p))"
   ]
  },
  {
   "cell_type": "code",
   "execution_count": 352,
   "metadata": {},
   "outputs": [
    {
     "data": {
      "text/plain": [
       "<matplotlib.axes._subplots.AxesSubplot at 0x128ecb1d988>"
      ]
     },
     "execution_count": 352,
     "metadata": {},
     "output_type": "execute_result"
    },
    {
     "data": {
      "image/png": "[encoded data removed]",
      "text/plain": [
       "<Figure size 1500x600 with 1 Axes>"
      ]
     },
     "metadata": {
      "needs_background": "light"
     },
     "output_type": "display_data"
    }
   ],
   "source": [
    "from lightgbm import plot_importance\n",
    "plot_importance(m, max_num_features=40)"
   ]
  },
  {
   "cell_type": "code",
   "execution_count": 353,
   "metadata": {},
   "outputs": [
    {
     "name": "stdout",
     "output_type": "stream",
     "text": [
      "[0]\tvalidation_0-auc:0.945717\tvalidation_1-auc:0.897134\n",
      "Multiple eval metrics have been passed: 'validation_1-auc' will be used for early stopping.\n",
      "\n",
      "Will train until validation_1-auc hasn't improved in 200 rounds.\n",
      "[200]\tvalidation_0-auc:1\tvalidation_1-auc:0.973648\n",
      "[400]\tvalidation_0-auc:1\tvalidation_1-auc:0.972954\n",
      "Stopping. Best iteration:\n",
      "[226]\tvalidation_0-auc:1\tvalidation_1-auc:0.974804\n",
      "\n",
      "Fold: 1\n",
      "Accuracy: 0.9103448275862069\n",
      "F1 Score: 0.9085699036617633\n",
      "Precision Score: 0.9094905250077663\n",
      "Recall Score: 0.9103448275862069\n",
      "AUC Score: 0.9748035136384651\n",
      "\n",
      "\n",
      "[0]\tvalidation_0-auc:0.96425\tvalidation_1-auc:0.928\n",
      "Multiple eval metrics have been passed: 'validation_1-auc' will be used for early stopping.\n",
      "\n",
      "Will train until validation_1-auc hasn't improved in 200 rounds.\n",
      "[200]\tvalidation_0-auc:1\tvalidation_1-auc:0.985333\n",
      "Stopping. Best iteration:\n",
      "[165]\tvalidation_0-auc:1\tvalidation_1-auc:0.985778\n",
      "\n",
      "Fold: 2\n",
      "Accuracy: 0.9310344827586207\n",
      "F1 Score: 0.9305921971507495\n",
      "Precision Score: 0.9305627623944526\n",
      "Recall Score: 0.9310344827586207\n",
      "AUC Score: 0.9857777777777778\n",
      "\n",
      "\n",
      "[0]\tvalidation_0-auc:0.952534\tvalidation_1-auc:0.913741\n",
      "Multiple eval metrics have been passed: 'validation_1-auc' will be used for early stopping.\n",
      "\n",
      "Will train until validation_1-auc hasn't improved in 200 rounds.\n",
      "[200]\tvalidation_0-auc:1\tvalidation_1-auc:0.967416\n",
      "Stopping. Best iteration:\n",
      "[155]\tvalidation_0-auc:1\tvalidation_1-auc:0.969942\n",
      "\n",
      "Fold: 3\n",
      "Accuracy: 0.9166666666666666\n",
      "F1 Score: 0.9173700761337304\n",
      "Precision Score: 0.9184981684981685\n",
      "Recall Score: 0.9166666666666666\n",
      "AUC Score: 0.9699419045213438\n",
      "\n",
      "\n",
      "[0]\tvalidation_0-auc:0.969624\tvalidation_1-auc:0.93359\n",
      "Multiple eval metrics have been passed: 'validation_1-auc' will be used for early stopping.\n",
      "\n",
      "Will train until validation_1-auc hasn't improved in 200 rounds.\n",
      "[200]\tvalidation_0-auc:1\tvalidation_1-auc:0.981326\n",
      "Stopping. Best iteration:\n",
      "[58]\tvalidation_0-auc:0.997807\tvalidation_1-auc:0.989262\n",
      "\n",
      "Fold: 4\n",
      "Accuracy: 0.9444444444444444\n",
      "F1 Score: 0.9431013431013433\n",
      "Precision Score: 0.9459876543209877\n",
      "Recall Score: 0.9444444444444444\n",
      "AUC Score: 0.9892623716153127\n",
      "\n",
      "\n",
      "[0]\tvalidation_0-auc:0.956398\tvalidation_1-auc:0.954365\n",
      "Multiple eval metrics have been passed: 'validation_1-auc' will be used for early stopping.\n",
      "\n",
      "Will train until validation_1-auc hasn't improved in 200 rounds.\n",
      "[200]\tvalidation_0-auc:1\tvalidation_1-auc:0.983894\n",
      "Stopping. Best iteration:\n",
      "[138]\tvalidation_0-auc:0.999985\tvalidation_1-auc:0.985761\n",
      "\n",
      "Fold: 5\n",
      "Accuracy: 0.9583333333333334\n",
      "F1 Score: 0.9588636363636365\n",
      "Precision Score: 0.9610692102928127\n",
      "Recall Score: 0.9583333333333334\n",
      "AUC Score: 0.9857609710550888\n",
      "\n",
      "\n"
     ]
    }
   ],
   "source": [
    "from xgboost import XGBClassifier\n",
    "\n",
    "err_xgb_ac = []\n",
    "err_xgb_f1 = []\n",
    "err_xgb_prec = []\n",
    "err_xgb_rec = []\n",
    "err_xgb_auc = []\n",
    "\n",
    "y_pred_tot_xgb = []\n",
    "y_pred_tot_xgb_prob = []\n",
    "\n",
    "\n",
    "fold = KFold(n_splits=5, shuffle=True, random_state=42)\n",
    "f = 0\n",
    "for train_index, test_index in fold.split(X):\n",
    "    X_train, X_test = X.loc[train_index], X.loc[test_index]\n",
    "    y_train, y_test = y[train_index], y[test_index]\n",
    "    \n",
    "    m=XGBClassifier(n_estimators=1000,random_state=1994,eval_metric='auc',learning_rate=0.1)\n",
    "    m.fit(X_train,y_train,eval_set=[(X_train,y_train),(X_test, y_test)], early_stopping_rounds=200,verbose=200)\n",
    "    \n",
    "    y_pred = m.predict(X_test)\n",
    "    y_pred_prob = m.predict_proba(X_test)[:,1]\n",
    "    \n",
    "    test_pred = m.predict(Xtest)\n",
    "    test_pred_proba = m.predict_proba(Xtest)[:,1]\n",
    "    \n",
    "    err_ac = accuracy_score(y_test, y_pred)\n",
    "    err_f1 = f1_score(y_test, y_pred, average='weighted')\n",
    "    err_prec = precision_score(y_test, y_pred, average='weighted')\n",
    "    err_rec = recall_score(y_test, y_pred, average='weighted')\n",
    "    err_auc = roc_auc_score(y_test, y_pred_prob)\n",
    "    \n",
    "    f += 1\n",
    "    print(\"Fold:\", f)\n",
    "    print(\"Accuracy:\", err_ac)\n",
    "    print('F1 Score:', err_f1)\n",
    "    print(\"Precision Score:\", err_prec)\n",
    "    print(\"Recall Score:\", err_rec)\n",
    "    print(\"AUC Score:\", err_auc)\n",
    "    print('\\n')\n",
    "    \n",
    "    err_xgb_ac.append(err_ac)\n",
    "    err_xgb_f1.append(err_f1)\n",
    "    err_xgb_prec.append(err_prec)\n",
    "    err_xgb_rec.append(err_rec)\n",
    "    err_xgb_auc.append(err_auc)\n",
    "    \n",
    "    y_pred_tot_xgb.append(test_pred)\n",
    "    y_pred_tot_xgb_prob.append(test_pred_proba)\n",
    "    "
   ]
  },
  {
   "cell_type": "code",
   "execution_count": 354,
   "metadata": {},
   "outputs": [
    {
     "name": "stdout",
     "output_type": "stream",
     "text": [
      "0.9321647509578543\n",
      "0.9316994312822446\n",
      "0.9331216641028377\n",
      "0.9321647509578543\n",
      "0.9811093077215975\n"
     ]
    }
   ],
   "source": [
    "print(np.mean(err_xgb_ac))\n",
    "print(np.mean(err_xgb_f1))\n",
    "print(np.mean(err_xgb_prec))\n",
    "print(np.mean(err_xgb_rec))\n",
    "print(np.mean(err_xgb_auc))"
   ]
  },
  {
   "cell_type": "code",
   "execution_count": 355,
   "metadata": {},
   "outputs": [
    {
     "name": "stdout",
     "output_type": "stream",
     "text": [
      "0    58\n",
      "1    23\n",
      "dtype: int64\n",
      "0.9259259259259259\n",
      "0.9242857142857143\n",
      "0.9280359820089955\n",
      "0.9259259259259259\n",
      "0.9794238683127572\n",
      "              precision    recall  f1-score   support\n",
      "\n",
      "         0.0       0.91      0.98      0.95        54\n",
      "         1.0       0.96      0.81      0.88        27\n",
      "\n",
      "    accuracy                           0.93        81\n",
      "   macro avg       0.94      0.90      0.91        81\n",
      "weighted avg       0.93      0.93      0.92        81\n",
      "\n",
      "[[53  1]\n",
      " [ 5 22]]\n"
     ]
    }
   ],
   "source": [
    "p = pd.Series(np.mean(y_pred_tot_xgb, 0)).round().astype(int)\n",
    "p_p = np.mean(y_pred_tot_xgb_prob, axis=0)\n",
    "print(p.value_counts())\n",
    "print(accuracy_score(test_X['Default'], p))\n",
    "print(f1_score(test_X['Default'], p, average='weighted'))\n",
    "print(precision_score(test_X['Default'], p, average='weighted'))\n",
    "print(recall_score(test_X['Default'], p, average='weighted'))\n",
    "print(roc_auc_score(test_X['Default'], p_p))\n",
    "print(classification_report(test_X['Default'], p))\n",
    "print(confusion_matrix(test_X['Default'], p))"
   ]
  },
  {
   "cell_type": "code",
   "execution_count": 356,
   "metadata": {},
   "outputs": [
    {
     "data": {
      "text/plain": [
       "<matplotlib.axes._subplots.AxesSubplot at 0x128ecca9548>"
      ]
     },
     "execution_count": 356,
     "metadata": {},
     "output_type": "execute_result"
    },
    {
     "data": {
      "image/png": "[encoded data removed]",
      "text/plain": [
       "<Figure size 1500x600 with 1 Axes>"
      ]
     },
     "metadata": {
      "needs_background": "light"
     },
     "output_type": "display_data"
    }
   ],
   "source": [
    "from xgboost import plot_importance\n",
    "plot_importance(m, max_num_features=40)"
   ]
  },
  {
   "cell_type": "code",
   "execution_count": 357,
   "metadata": {},
   "outputs": [
    {
     "data": {
      "text/plain": [
       "array([], dtype=int64)"
      ]
     },
     "execution_count": 357,
     "metadata": {},
     "output_type": "execute_result"
    }
   ],
   "source": [
    "categorical_features_indices = np.where(X.dtypes == 'object')[0]\n",
    "categorical_features_indices"
   ]
  },
  {
   "cell_type": "code",
   "execution_count": 359,
   "metadata": {},
   "outputs": [
    {
     "name": "stdout",
     "output_type": "stream",
     "text": [
      "Fold: 1\n",
      "Accuracy: 0.9103448275862069\n",
      "F1 Score: 0.9077427995349316\n",
      "Precision Score: 0.9105956112852664\n",
      "Recall Score: 0.9103448275862069\n",
      "AUC Score: 0.9754969949144706\n",
      "\n",
      "\n",
      "Fold: 2\n",
      "Accuracy: 0.9172413793103448\n",
      "F1 Score: 0.9167106365808995\n",
      "Precision Score: 0.9165841156029373\n",
      "Recall Score: 0.9172413793103448\n",
      "AUC Score: 0.9704444444444444\n",
      "\n",
      "\n",
      "Fold: 3\n",
      "Accuracy: 0.9444444444444444\n",
      "F1 Score: 0.9449133840891536\n",
      "Precision Score: 0.9458282458282459\n",
      "Recall Score: 0.9444444444444444\n",
      "AUC Score: 0.9772669866127811\n",
      "\n",
      "\n",
      "Fold: 4\n",
      "Accuracy: 0.9375\n",
      "F1 Score: 0.9356958207669108\n",
      "Precision Score: 0.9396788990825686\n",
      "Recall Score: 0.9375\n",
      "AUC Score: 0.9864612511671335\n",
      "\n",
      "\n",
      "Fold: 5\n",
      "Accuracy: 0.9652777777777778\n",
      "F1 Score: 0.9653965034289578\n",
      "Precision Score: 0.9656247601504337\n",
      "Recall Score: 0.9652777777777778\n",
      "AUC Score: 0.9880952380952381\n",
      "\n",
      "\n"
     ]
    }
   ],
   "source": [
    "from sklearn.model_selection import KFold, StratifiedKFold\n",
    "from sklearn.ensemble import AdaBoostClassifier\n",
    "from lightgbm import LGBMClassifier\n",
    "# from catoost import catClassifier\n",
    "from catboost import CatBoostClassifier\n",
    "\n",
    "err_cat_ac = []\n",
    "err_cat_f1 = []\n",
    "err_cat_prec = []\n",
    "err_cat_rec = []\n",
    "err_cat_auc = []\n",
    "\n",
    "y_pred_tot_cat = []\n",
    "y_pred_tot_cat_prob = []\n",
    "\n",
    "\n",
    "fold = KFold(n_splits=5, shuffle=True, random_state=42)\n",
    "f = 0\n",
    "for train_index, test_index in fold.split(X):\n",
    "    X_train, X_test = X.loc[train_index], X.loc[test_index]\n",
    "    y_train, y_test = y[train_index], y[test_index]\n",
    "    \n",
    "    cat = CatBoostClassifier( \n",
    "                         eval_metric='AUC', \n",
    "                         depth=6,\n",
    "                         random_seed=42, \n",
    "                         iterations=1000, \n",
    "                         learning_rate=0.07,\n",
    "                         leaf_estimation_iterations=1,\n",
    "                         l2_leaf_reg=1, \n",
    "                         bootstrap_type='Bayesian', \n",
    "                         bagging_temperature=1, \n",
    "                         random_strength=1,\n",
    "                         od_type='Iter', \n",
    "                         od_wait=50)\n",
    "    cat.fit(X_train, y_train, eval_set=[(X_test, y_test)], verbose=0, early_stopping_rounds=50, cat_features=categorical_features_indices)\n",
    "    y_pred = cat.predict(X_test)\n",
    "    y_pred_prob = cat.predict_proba(X_test)[:,1]\n",
    "    \n",
    "    err_ac = accuracy_score(y_test, y_pred)\n",
    "    err_f1 = f1_score(y_test, y_pred, average='weighted')\n",
    "    err_prec = precision_score(y_test, y_pred, average='weighted')\n",
    "    err_rec = recall_score(y_test, y_pred, average='weighted')\n",
    "    err_auc = roc_auc_score(y_test, y_pred_prob)\n",
    "    \n",
    "    f += 1\n",
    "    print(\"Fold:\", f)\n",
    "    print(\"Accuracy:\", err_ac)\n",
    "    print('F1 Score:', err_f1)\n",
    "    print(\"Precision Score:\", err_prec)\n",
    "    print(\"Recall Score:\", err_rec)\n",
    "    print(\"AUC Score:\", err_auc)\n",
    "    print('\\n')\n",
    "    \n",
    "    test_pred = cat.predict(Xtest)\n",
    "    test_pred_proba = cat.predict_proba(Xtest)[:,1]\n",
    "    \n",
    "    err_cat_ac.append(err_ac)\n",
    "    err_cat_f1.append(err_f1)\n",
    "    err_cat_prec.append(err_prec)\n",
    "    err_cat_rec.append(err_rec)\n",
    "    err_cat_auc.append(err_auc)\n",
    "    \n",
    "    y_pred_tot_cat.append(test_pred)\n",
    "    y_pred_tot_cat_prob.append(test_pred_proba)\n",
    "    "
   ]
  },
  {
   "cell_type": "code",
   "execution_count": 360,
   "metadata": {},
   "outputs": [
    {
     "name": "stdout",
     "output_type": "stream",
     "text": [
      "0.9349616858237548\n",
      "0.9340918288801706\n",
      "0.9356623263898903\n",
      "0.9349616858237548\n",
      "0.9795529830468135\n"
     ]
    }
   ],
   "source": [
    "print(np.mean(err_cat_ac))\n",
    "print(np.mean(err_cat_f1))\n",
    "print(np.mean(err_cat_prec))\n",
    "print(np.mean(err_cat_rec))\n",
    "print(np.mean(err_cat_auc))"
   ]
  },
  {
   "cell_type": "code",
   "execution_count": 361,
   "metadata": {},
   "outputs": [
    {
     "name": "stdout",
     "output_type": "stream",
     "text": [
      "0    58\n",
      "1    23\n",
      "dtype: int64\n",
      "0.9012345679012346\n",
      "0.8990476190476191\n",
      "0.9020489755122438\n",
      "0.9012345679012346\n",
      "0.98079561042524\n",
      "              precision    recall  f1-score   support\n",
      "\n",
      "         0.0       0.90      0.96      0.93        54\n",
      "         1.0       0.91      0.78      0.84        27\n",
      "\n",
      "    accuracy                           0.90        81\n",
      "   macro avg       0.90      0.87      0.88        81\n",
      "weighted avg       0.90      0.90      0.90        81\n",
      "\n",
      "[[52  2]\n",
      " [ 6 21]]\n"
     ]
    }
   ],
   "source": [
    "p = pd.Series(np.mean(y_pred_tot_cat, 0)).round().astype(int)\n",
    "p_p = np.mean(y_pred_tot_cat_prob, axis=0)\n",
    "print(p.value_counts())\n",
    "print(accuracy_score(test_X['Default'], p))\n",
    "print(f1_score(test_X['Default'], p, average='weighted'))\n",
    "print(precision_score(test_X['Default'], p, average='weighted'))\n",
    "print(recall_score(test_X['Default'], p, average='weighted'))\n",
    "print(roc_auc_score(test_X['Default'], p_p))\n",
    "print(classification_report(test_X['Default'], p))\n",
    "print(confusion_matrix(test_X['Default'], p))"
   ]
  },
  {
   "cell_type": "code",
   "execution_count": 362,
   "metadata": {},
   "outputs": [
    {
     "data": {
      "image/png": "[encoded data removed]",
      "text/plain": [
       "<Figure size 2250x2250 with 1 Axes>"
      ]
     },
     "metadata": {
      "needs_background": "light"
     },
     "output_type": "display_data"
    }
   ],
   "source": [
    "feature_imp = pd.DataFrame(sorted(zip(cat.feature_importances_, X.columns), reverse=True)[:50], \n",
    "                           columns=['Value','Feature'])\n",
    "plt.figure(figsize=(15,15))\n",
    "sns.barplot(x=\"Value\", y=\"Feature\", data=feature_imp.sort_values(by=\"Value\", ascending=False))\n",
    "plt.title('Catboost Features')\n",
    "plt.tight_layout()\n",
    "plt.show()"
   ]
  },
  {
   "cell_type": "code",
   "execution_count": 363,
   "metadata": {},
   "outputs": [
    {
     "name": "stdout",
     "output_type": "stream",
     "text": [
      "******************************Fold 1******************************\n",
      "Accuracy: 0.896551724137931\n",
      "F1 Score: 0.8935493840787672\n",
      "Precision Score: 0.8958620689655172\n",
      "Recall Score: 0.896551724137931\n",
      "AUC Score: 0.9880952380952381\n",
      "******************************Fold 2******************************\n",
      "Accuracy: 0.903448275862069\n",
      "F1 Score: 0.9028290760110494\n",
      "Precision Score: 0.902605468811422\n",
      "Recall Score: 0.903448275862069\n",
      "AUC Score: 0.9880952380952381\n",
      "******************************Fold 3******************************\n",
      "Accuracy: 0.875\n",
      "F1 Score: 0.877014652014652\n",
      "Precision Score: 0.8805647643855079\n",
      "Recall Score: 0.875\n",
      "AUC Score: 0.9880952380952381\n",
      "******************************Fold 4******************************\n",
      "Accuracy: 0.875\n",
      "F1 Score: 0.8740824058726023\n",
      "Precision Score: 0.8735576923076924\n",
      "Recall Score: 0.875\n",
      "AUC Score: 0.9880952380952381\n",
      "******************************Fold 5******************************\n",
      "Accuracy: 0.9027777777777778\n",
      "F1 Score: 0.9020640934564685\n",
      "Precision Score: 0.9017628205128205\n",
      "Recall Score: 0.9027777777777778\n",
      "AUC Score: 0.9880952380952381\n"
     ]
    },
    {
     "name": "stderr",
     "output_type": "stream",
     "text": [
      "C:\\Users\\shankar\\Anaconda3\\envs\\tf\\lib\\site-packages\\sklearn\\linear_model\\_logistic.py:939: ConvergenceWarning: lbfgs failed to converge (status=1):\n",
      "STOP: TOTAL NO. of ITERATIONS REACHED LIMIT.\n",
      "\n",
      "Increase the number of iterations (max_iter) or scale the data as shown in:\n",
      "    https://scikit-learn.org/stable/modules/preprocessing.html.\n",
      "Please also refer to the documentation for alternative solver options:\n",
      "    https://scikit-learn.org/stable/modules/linear_model.html#logistic-regression\n",
      "  extra_warning_msg=_LOGISTIC_SOLVER_CONVERGENCE_MSG)\n",
      "C:\\Users\\shankar\\Anaconda3\\envs\\tf\\lib\\site-packages\\sklearn\\linear_model\\_logistic.py:939: ConvergenceWarning: lbfgs failed to converge (status=1):\n",
      "STOP: TOTAL NO. of ITERATIONS REACHED LIMIT.\n",
      "\n",
      "Increase the number of iterations (max_iter) or scale the data as shown in:\n",
      "    https://scikit-learn.org/stable/modules/preprocessing.html.\n",
      "Please also refer to the documentation for alternative solver options:\n",
      "    https://scikit-learn.org/stable/modules/linear_model.html#logistic-regression\n",
      "  extra_warning_msg=_LOGISTIC_SOLVER_CONVERGENCE_MSG)\n",
      "C:\\Users\\shankar\\Anaconda3\\envs\\tf\\lib\\site-packages\\sklearn\\linear_model\\_logistic.py:939: ConvergenceWarning: lbfgs failed to converge (status=1):\n",
      "STOP: TOTAL NO. of ITERATIONS REACHED LIMIT.\n",
      "\n",
      "Increase the number of iterations (max_iter) or scale the data as shown in:\n",
      "    https://scikit-learn.org/stable/modules/preprocessing.html.\n",
      "Please also refer to the documentation for alternative solver options:\n",
      "    https://scikit-learn.org/stable/modules/linear_model.html#logistic-regression\n",
      "  extra_warning_msg=_LOGISTIC_SOLVER_CONVERGENCE_MSG)\n",
      "C:\\Users\\shankar\\Anaconda3\\envs\\tf\\lib\\site-packages\\sklearn\\linear_model\\_logistic.py:939: ConvergenceWarning: lbfgs failed to converge (status=1):\n",
      "STOP: TOTAL NO. of ITERATIONS REACHED LIMIT.\n",
      "\n",
      "Increase the number of iterations (max_iter) or scale the data as shown in:\n",
      "    https://scikit-learn.org/stable/modules/preprocessing.html.\n",
      "Please also refer to the documentation for alternative solver options:\n",
      "    https://scikit-learn.org/stable/modules/linear_model.html#logistic-regression\n",
      "  extra_warning_msg=_LOGISTIC_SOLVER_CONVERGENCE_MSG)\n",
      "C:\\Users\\shankar\\Anaconda3\\envs\\tf\\lib\\site-packages\\sklearn\\linear_model\\_logistic.py:939: ConvergenceWarning: lbfgs failed to converge (status=1):\n",
      "STOP: TOTAL NO. of ITERATIONS REACHED LIMIT.\n",
      "\n",
      "Increase the number of iterations (max_iter) or scale the data as shown in:\n",
      "    https://scikit-learn.org/stable/modules/preprocessing.html.\n",
      "Please also refer to the documentation for alternative solver options:\n",
      "    https://scikit-learn.org/stable/modules/linear_model.html#logistic-regression\n",
      "  extra_warning_msg=_LOGISTIC_SOLVER_CONVERGENCE_MSG)\n"
     ]
    }
   ],
   "source": [
    "from sklearn.model_selection import KFold, StratifiedKFold\n",
    "from sklearn.linear_model import LogisticRegression\n",
    "\n",
    "err_lr_ac = []\n",
    "err_lr_f1 = []\n",
    "err_lr_prec = []\n",
    "err_lr_rec = []\n",
    "err_lr_auc = []\n",
    "\n",
    "y_pred_tot_lr = []\n",
    "y_pred_tot_lr_prob = []\n",
    "\n",
    "\n",
    "fold = KFold(n_splits=5, shuffle=True, random_state=42)\n",
    "f = 0\n",
    "for train_index, test_index in fold.split(X):\n",
    "    f += 1\n",
    "    print('*'*30+'Fold '+str(f)+'*'*30)\n",
    "    X_train, X_test = X.loc[train_index], X.loc[test_index]\n",
    "    y_train, y_test = y[train_index], y[test_index]\n",
    "    lr = LogisticRegression()\n",
    "    lr.fit(X_train, y_train)\n",
    "    \n",
    "    y_pred = lr.predict(X_test)\n",
    "    y_pred_prob = lr.predict_proba(X_test)[:,1]\n",
    "    \n",
    "    err_ac = accuracy_score(y_test, y_pred)\n",
    "    err_f1 = f1_score(y_test, y_pred, average='weighted')\n",
    "    err_prec = precision_score(y_test, y_pred, average='weighted')\n",
    "    err_rec = recall_score(y_test, y_pred, average='weighted')\n",
    "    err_log = roc_auc_score(y_test, y_pred_prob)\n",
    "    print(\"Accuracy:\", err_ac)\n",
    "    print('F1 Score:', err_f1)\n",
    "    print(\"Precision Score:\", err_prec)\n",
    "    print(\"Recall Score:\", err_rec)\n",
    "    print(\"AUC Score:\", err_auc)\n",
    "    \n",
    "    test_pred = lr.predict(Xtest)\n",
    "    test_pred_proba = lr.predict_proba(Xtest)[:,1]\n",
    "    \n",
    "    err_lr_ac.append(err_ac)\n",
    "    err_lr_f1.append(err_f1)\n",
    "    err_lr_prec.append(err_prec)\n",
    "    err_lr_rec.append(err_rec)\n",
    "    err_lr_auc.append(err_auc)\n",
    "    \n",
    "    y_pred_tot_lr.append(test_pred)\n",
    "    y_pred_tot_lr_prob.append(test_pred_proba)\n",
    "    "
   ]
  },
  {
   "cell_type": "code",
   "execution_count": 364,
   "metadata": {},
   "outputs": [
    {
     "name": "stdout",
     "output_type": "stream",
     "text": [
      "0.8905555555555555\n",
      "0.889907922286708\n",
      "0.8908705629965921\n",
      "0.8905555555555555\n",
      "0.9880952380952381\n"
     ]
    }
   ],
   "source": [
    "print(np.mean(err_lr_ac))\n",
    "print(np.mean(err_lr_f1))\n",
    "print(np.mean(err_lr_prec))\n",
    "print(np.mean(err_lr_rec))\n",
    "print(np.mean(err_lr_auc))"
   ]
  },
  {
   "cell_type": "code",
   "execution_count": 365,
   "metadata": {},
   "outputs": [
    {
     "name": "stdout",
     "output_type": "stream",
     "text": [
      "0    56\n",
      "1    25\n",
      "dtype: int64\n",
      "0.9012345679012346\n",
      "0.9002331002331\n",
      "0.9004761904761905\n",
      "0.9012345679012346\n",
      "0.9492455418381344\n",
      "              precision    recall  f1-score   support\n",
      "\n",
      "         0.0       0.91      0.94      0.93        54\n",
      "         1.0       0.88      0.81      0.85        27\n",
      "\n",
      "    accuracy                           0.90        81\n",
      "   macro avg       0.90      0.88      0.89        81\n",
      "weighted avg       0.90      0.90      0.90        81\n",
      "\n",
      "[[51  3]\n",
      " [ 5 22]]\n"
     ]
    }
   ],
   "source": [
    "p = pd.Series(np.mean(y_pred_tot_lr, 0)).round().astype(int)\n",
    "p_p = np.mean(y_pred_tot_lr_prob, axis=0)\n",
    "print(p.value_counts())\n",
    "print(accuracy_score(test_X['Default'], p))\n",
    "print(f1_score(test_X['Default'], p, average='weighted'))\n",
    "print(precision_score(test_X['Default'], p, average='weighted'))\n",
    "print(recall_score(test_X['Default'], p, average='weighted'))\n",
    "print(roc_auc_score(test_X['Default'], p_p))\n",
    "print(classification_report(test_X['Default'], p))\n",
    "print(confusion_matrix(test_X['Default'], p))"
   ]
  },
  {
   "cell_type": "code",
   "execution_count": 366,
   "metadata": {},
   "outputs": [
    {
     "name": "stdout",
     "output_type": "stream",
     "text": [
      "******************************Fold 1******************************\n",
      "Accuracy: 0.9103448275862069\n",
      "F1 Score: 0.9077427995349316\n",
      "Precision Score: 0.9105956112852664\n",
      "Recall Score: 0.9103448275862069\n",
      "AUC Score: 0.9640545538603792\n",
      "******************************Fold 2******************************\n",
      "Accuracy: 0.9241379310344827\n",
      "F1 Score: 0.923900451250142\n",
      "Precision Score: 0.9237639281169495\n",
      "Recall Score: 0.9241379310344827\n",
      "AUC Score: 0.9722222222222223\n",
      "******************************Fold 3******************************\n",
      "Accuracy: 0.8958333333333334\n",
      "F1 Score: 0.8978837340762724\n",
      "Precision Score: 0.9023984593837535\n",
      "Recall Score: 0.8958333333333334\n",
      "AUC Score: 0.9667845415508968\n",
      "******************************Fold 4******************************\n",
      "Accuracy: 0.9166666666666666\n",
      "F1 Score: 0.9138530287984111\n",
      "Precision Score: 0.9184491978609626\n",
      "Recall Score: 0.9166666666666666\n",
      "AUC Score: 0.9864612511671335\n",
      "******************************Fold 5******************************\n",
      "Accuracy: 0.9583333333333334\n",
      "F1 Score: 0.9586115588303016\n",
      "Precision Score: 0.9593181818181817\n",
      "Recall Score: 0.9583333333333334\n",
      "AUC Score: 0.9815592903828197\n"
     ]
    }
   ],
   "source": [
    "from sklearn.model_selection import KFold, StratifiedKFold\n",
    "from sklearn.ensemble import RandomForestClassifier\n",
    "\n",
    "err_rf_ac = []\n",
    "err_rf_f1 = []\n",
    "err_rf_prec = []\n",
    "err_rf_rec = []\n",
    "err_rf_auc = []\n",
    "\n",
    "y_pred_tot_rf = []\n",
    "y_pred_tot_rf_prob = []\n",
    "\n",
    "\n",
    "fold = KFold(n_splits=5, shuffle=True, random_state=42)\n",
    "f = 0\n",
    "\n",
    "for train_index, test_index in fold.split(X):\n",
    "    f += 1\n",
    "    print('*'*30+'Fold '+str(f)+'*'*30)\n",
    "    \n",
    "    X_train, X_test = X.loc[train_index], X.loc[test_index]\n",
    "    y_train, y_test = y[train_index], y[test_index]\n",
    "    rf = RandomForestClassifier()\n",
    "    rf.fit(X_train, y_train)\n",
    "    \n",
    "    y_pred = rf.predict(X_test)\n",
    "    y_pred_prob = rf.predict_proba(X_test)[:,1]\n",
    "    \n",
    "    err_ac = accuracy_score(y_test, y_pred)\n",
    "    err_f1 = f1_score(y_test, y_pred, average='weighted')\n",
    "    err_prec = precision_score(y_test, y_pred, average='weighted')\n",
    "    err_rec = recall_score(y_test, y_pred, average='weighted')\n",
    "    err_auc = roc_auc_score(y_test, y_pred_prob)\n",
    "    \n",
    "    print(\"Accuracy:\", err_ac)\n",
    "    print('F1 Score:', err_f1)\n",
    "    print(\"Precision Score:\", err_prec)\n",
    "    print(\"Recall Score:\", err_rec)\n",
    "    print(\"AUC Score:\", err_auc)\n",
    "    \n",
    "    test_pred = rf.predict(Xtest)\n",
    "    test_pred_proba = rf.predict_proba(Xtest)[:,1]\n",
    "    \n",
    "    err_rf_ac.append(err_ac)\n",
    "    err_rf_f1.append(err_f1)\n",
    "    err_rf_prec.append(err_prec)\n",
    "    err_rf_rec.append(err_rec)\n",
    "    err_rf_auc.append(err_auc)\n",
    "    \n",
    "    y_pred_tot_rf.append(test_pred)\n",
    "    y_pred_tot_rf_prob.append(test_pred_proba)\n",
    "    "
   ]
  },
  {
   "cell_type": "code",
   "execution_count": 367,
   "metadata": {},
   "outputs": [
    {
     "name": "stdout",
     "output_type": "stream",
     "text": [
      "0.9210632183908046\n",
      "0.9203983144980118\n",
      "0.9229050756930228\n",
      "0.9210632183908046\n",
      "0.9742163718366903\n"
     ]
    }
   ],
   "source": [
    "print(np.mean(err_rf_ac))\n",
    "print(np.mean(err_rf_f1))\n",
    "print(np.mean(err_rf_prec))\n",
    "print(np.mean(err_rf_rec))\n",
    "print(np.mean(err_rf_auc))"
   ]
  },
  {
   "cell_type": "code",
   "execution_count": 368,
   "metadata": {},
   "outputs": [
    {
     "name": "stdout",
     "output_type": "stream",
     "text": [
      "0    59\n",
      "1    22\n",
      "dtype: int64\n",
      "0.9135802469135802\n",
      "0.9110830172777076\n",
      "0.9170518746789934\n",
      "0.9135802469135802\n",
      "0.9708504801097393\n",
      "              precision    recall  f1-score   support\n",
      "\n",
      "         0.0       0.90      0.98      0.94        54\n",
      "         1.0       0.95      0.78      0.86        27\n",
      "\n",
      "    accuracy                           0.91        81\n",
      "   macro avg       0.93      0.88      0.90        81\n",
      "weighted avg       0.92      0.91      0.91        81\n",
      "\n",
      "[[53  1]\n",
      " [ 6 21]]\n"
     ]
    }
   ],
   "source": [
    "p = pd.Series(np.mean(y_pred_tot_rf, 0)).round().astype(int)\n",
    "p_p = np.mean(y_pred_tot_rf_prob, axis=0)\n",
    "print(p.value_counts())\n",
    "print(accuracy_score(test_X['Default'], p))\n",
    "print(f1_score(test_X['Default'], p, average='weighted'))\n",
    "print(precision_score(test_X['Default'], p, average='weighted'))\n",
    "print(recall_score(test_X['Default'], p, average='weighted'))\n",
    "print(roc_auc_score(test_X['Default'], p_p))\n",
    "print(classification_report(test_X['Default'], p))\n",
    "print(confusion_matrix(test_X['Default'], p))"
   ]
  },
  {
   "cell_type": "code",
   "execution_count": 369,
   "metadata": {},
   "outputs": [
    {
     "data": {
      "text/plain": [
       "<matplotlib.axes._subplots.AxesSubplot at 0x12880219688>"
      ]
     },
     "execution_count": 369,
     "metadata": {},
     "output_type": "execute_result"
    },
    {
     "data": {
      "image/png": "[encoded data removed]",
      "text/plain": [
       "<Figure size 1500x600 with 1 Axes>"
      ]
     },
     "metadata": {
      "needs_background": "light"
     },
     "output_type": "display_data"
    }
   ],
   "source": [
    "feat_importances = pd.Series(rf.feature_importances_, index=X.columns)\n",
    "feat_importances.nlargest(20).plot(kind='barh')"
   ]
  },
  {
   "cell_type": "code",
   "execution_count": 373,
   "metadata": {},
   "outputs": [
    {
     "data": {
      "text/plain": [
       "((803, 34), (203, 34))"
      ]
     },
     "execution_count": 373,
     "metadata": {},
     "output_type": "execute_result"
    }
   ],
   "source": [
    "final_train.shape, final_test.shape"
   ]
  },
  {
   "cell_type": "code",
   "execution_count": 375,
   "metadata": {},
   "outputs": [
    {
     "data": {
      "text/html": [
       "<div>\n",
       "<style scoped>\n",
       "    .dataframe tbody tr th:only-of-type {\n",
       "        vertical-align: middle;\n",
       "    }\n",
       "\n",
       "    .dataframe tbody tr th {\n",
       "        vertical-align: top;\n",
       "    }\n",
       "\n",
       "    .dataframe thead th {\n",
       "        text-align: right;\n",
       "    }\n",
       "</style>\n",
       "<table border=\"1\" class=\"dataframe\">\n",
       "  <thead>\n",
       "    <tr style=\"text-align: right;\">\n",
       "      <th></th>\n",
       "      <th>ID</th>\n",
       "      <th>Default</th>\n",
       "      <th>Checking_amount</th>\n",
       "      <th>Term</th>\n",
       "      <th>Credit_score</th>\n",
       "      <th>Gender</th>\n",
       "      <th>Marital_status</th>\n",
       "      <th>Car_loan</th>\n",
       "      <th>Personal_loan</th>\n",
       "      <th>Home_loan</th>\n",
       "      <th>Education_loan</th>\n",
       "      <th>Emp_status</th>\n",
       "      <th>Amount</th>\n",
       "      <th>Saving_amount</th>\n",
       "      <th>Emp_duration</th>\n",
       "      <th>Age</th>\n",
       "      <th>No_of_credit_acc</th>\n",
       "      <th>bal_status</th>\n",
       "      <th>total_bal</th>\n",
       "      <th>loan_to_tot_bal</th>\n",
       "      <th>loan_to_saving</th>\n",
       "      <th>loan_to_score</th>\n",
       "      <th>total_loan</th>\n",
       "      <th>credit_score_bins</th>\n",
       "      <th>age_bins</th>\n",
       "      <th>term_diff_emp_duration</th>\n",
       "      <th>loan_bal_diff_tot_bal</th>\n",
       "      <th>tot_bal_diff_loan_bal</th>\n",
       "      <th>Age_count</th>\n",
       "      <th>Age_tot_loan</th>\n",
       "      <th>Age_mean_loan</th>\n",
       "      <th>Age_tot_saving_bal</th>\n",
       "      <th>Age_tot_mean_bal</th>\n",
       "      <th>Age_flag_mean</th>\n",
       "    </tr>\n",
       "  </thead>\n",
       "  <tbody>\n",
       "    <tr>\n",
       "      <th>0</th>\n",
       "      <td>101</td>\n",
       "      <td>0.0</td>\n",
       "      <td>988.0</td>\n",
       "      <td>15.0</td>\n",
       "      <td>796.0</td>\n",
       "      <td>0</td>\n",
       "      <td>0</td>\n",
       "      <td>1</td>\n",
       "      <td>0</td>\n",
       "      <td>0</td>\n",
       "      <td>0</td>\n",
       "      <td>0</td>\n",
       "      <td>1536.0</td>\n",
       "      <td>3455.0</td>\n",
       "      <td>12.0</td>\n",
       "      <td>38.0</td>\n",
       "      <td>1.0</td>\n",
       "      <td>0</td>\n",
       "      <td>4443.0</td>\n",
       "      <td>0.345712</td>\n",
       "      <td>0.444573</td>\n",
       "      <td>1.929648</td>\n",
       "      <td>1</td>\n",
       "      <td>0.293194</td>\n",
       "      <td>0.000000</td>\n",
       "      <td>3.0</td>\n",
       "      <td>-2907.0</td>\n",
       "      <td>2907.0</td>\n",
       "      <td>25</td>\n",
       "      <td>29013.0</td>\n",
       "      <td>1160.520000</td>\n",
       "      <td>84550.0</td>\n",
       "      <td>3382.000000</td>\n",
       "      <td>0.000000</td>\n",
       "    </tr>\n",
       "    <tr>\n",
       "      <th>1</th>\n",
       "      <td>102</td>\n",
       "      <td>0.0</td>\n",
       "      <td>458.0</td>\n",
       "      <td>15.0</td>\n",
       "      <td>813.0</td>\n",
       "      <td>0</td>\n",
       "      <td>0</td>\n",
       "      <td>1</td>\n",
       "      <td>0</td>\n",
       "      <td>0</td>\n",
       "      <td>0</td>\n",
       "      <td>0</td>\n",
       "      <td>947.0</td>\n",
       "      <td>3600.0</td>\n",
       "      <td>25.0</td>\n",
       "      <td>36.0</td>\n",
       "      <td>1.0</td>\n",
       "      <td>0</td>\n",
       "      <td>4058.0</td>\n",
       "      <td>0.233366</td>\n",
       "      <td>0.263056</td>\n",
       "      <td>1.164822</td>\n",
       "      <td>1</td>\n",
       "      <td>0.185000</td>\n",
       "      <td>0.000000</td>\n",
       "      <td>-10.0</td>\n",
       "      <td>-3111.0</td>\n",
       "      <td>3111.0</td>\n",
       "      <td>61</td>\n",
       "      <td>74891.0</td>\n",
       "      <td>1227.721311</td>\n",
       "      <td>200035.0</td>\n",
       "      <td>3279.262295</td>\n",
       "      <td>0.000000</td>\n",
       "    </tr>\n",
       "    <tr>\n",
       "      <th>2</th>\n",
       "      <td>103</td>\n",
       "      <td>0.0</td>\n",
       "      <td>158.0</td>\n",
       "      <td>14.0</td>\n",
       "      <td>756.0</td>\n",
       "      <td>0</td>\n",
       "      <td>0</td>\n",
       "      <td>0</td>\n",
       "      <td>1</td>\n",
       "      <td>0</td>\n",
       "      <td>0</td>\n",
       "      <td>0</td>\n",
       "      <td>1678.0</td>\n",
       "      <td>3093.0</td>\n",
       "      <td>43.0</td>\n",
       "      <td>34.0</td>\n",
       "      <td>1.0</td>\n",
       "      <td>0</td>\n",
       "      <td>3251.0</td>\n",
       "      <td>0.516149</td>\n",
       "      <td>0.542515</td>\n",
       "      <td>2.219577</td>\n",
       "      <td>1</td>\n",
       "      <td>0.293194</td>\n",
       "      <td>0.266925</td>\n",
       "      <td>-29.0</td>\n",
       "      <td>-1573.0</td>\n",
       "      <td>1573.0</td>\n",
       "      <td>75</td>\n",
       "      <td>89144.0</td>\n",
       "      <td>1188.586667</td>\n",
       "      <td>247193.0</td>\n",
       "      <td>3295.906667</td>\n",
       "      <td>0.072727</td>\n",
       "    </tr>\n",
       "  </tbody>\n",
       "</table>\n",
       "</div>"
      ],
      "text/plain": [
       "    ID  Default  Checking_amount  Term  Credit_score  Gender  Marital_status  \\\n",
       "0  101      0.0            988.0  15.0         796.0       0               0   \n",
       "1  102      0.0            458.0  15.0         813.0       0               0   \n",
       "2  103      0.0            158.0  14.0         756.0       0               0   \n",
       "\n",
       "   Car_loan  Personal_loan  Home_loan  Education_loan  Emp_status  Amount  \\\n",
       "0         1              0          0               0           0  1536.0   \n",
       "1         1              0          0               0           0   947.0   \n",
       "2         0              1          0               0           0  1678.0   \n",
       "\n",
       "   Saving_amount  Emp_duration   Age  No_of_credit_acc  bal_status  total_bal  \\\n",
       "0         3455.0          12.0  38.0               1.0           0     4443.0   \n",
       "1         3600.0          25.0  36.0               1.0           0     4058.0   \n",
       "2         3093.0          43.0  34.0               1.0           0     3251.0   \n",
       "\n",
       "   loan_to_tot_bal  loan_to_saving  loan_to_score  total_loan  \\\n",
       "0         0.345712        0.444573       1.929648           1   \n",
       "1         0.233366        0.263056       1.164822           1   \n",
       "2         0.516149        0.542515       2.219577           1   \n",
       "\n",
       "   credit_score_bins  age_bins  term_diff_emp_duration  loan_bal_diff_tot_bal  \\\n",
       "0           0.293194  0.000000                     3.0                -2907.0   \n",
       "1           0.185000  0.000000                   -10.0                -3111.0   \n",
       "2           0.293194  0.266925                   -29.0                -1573.0   \n",
       "\n",
       "   tot_bal_diff_loan_bal  Age_count  Age_tot_loan  Age_mean_loan  \\\n",
       "0                 2907.0         25       29013.0    1160.520000   \n",
       "1                 3111.0         61       74891.0    1227.721311   \n",
       "2                 1573.0         75       89144.0    1188.586667   \n",
       "\n",
       "   Age_tot_saving_bal  Age_tot_mean_bal  Age_flag_mean  \n",
       "0             84550.0       3382.000000       0.000000  \n",
       "1            200035.0       3279.262295       0.000000  \n",
       "2            247193.0       3295.906667       0.072727  "
      ]
     },
     "execution_count": 375,
     "metadata": {},
     "output_type": "execute_result"
    }
   ],
   "source": [
    "final_train.head(3)"
   ]
  },
  {
   "cell_type": "code",
   "execution_count": 376,
   "metadata": {},
   "outputs": [],
   "source": [
    "final_train.to_csv('Final_train_fe.csv', index=False)\n",
    "final_test.to_csv('Final_test_fe.csv', index=False)"
   ]
  },
  {
   "cell_type": "code",
   "execution_count": null,
   "metadata": {},
   "outputs": [],
   "source": []
  },
  {
   "cell_type": "code",
   "execution_count": null,
   "metadata": {},
   "outputs": [],
   "source": []
  },
  {
   "cell_type": "code",
   "execution_count": null,
   "metadata": {},
   "outputs": [],
   "source": []
  },
  {
   "cell_type": "code",
   "execution_count": null,
   "metadata": {},
   "outputs": [],
   "source": []
  },
  {
   "cell_type": "code",
   "execution_count": null,
   "metadata": {},
   "outputs": [],
   "source": []
  },
  {
   "cell_type": "code",
   "execution_count": null,
   "metadata": {},
   "outputs": [],
   "source": []
  },
  {
   "cell_type": "code",
   "execution_count": null,
   "metadata": {},
   "outputs": [],
   "source": []
  },
  {
   "cell_type": "code",
   "execution_count": null,
   "metadata": {},
   "outputs": [],
   "source": []
  },
  {
   "cell_type": "code",
   "execution_count": null,
   "metadata": {},
   "outputs": [],
   "source": []
  },
  {
   "cell_type": "code",
   "execution_count": null,
   "metadata": {},
   "outputs": [],
   "source": []
  },
  {
   "cell_type": "code",
   "execution_count": null,
   "metadata": {},
   "outputs": [],
   "source": []
  },
  {
   "cell_type": "code",
   "execution_count": null,
   "metadata": {},
   "outputs": [],
   "source": []
  },
  {
   "cell_type": "code",
   "execution_count": null,
   "metadata": {},
   "outputs": [],
   "source": []
  },
  {
   "cell_type": "code",
   "execution_count": null,
   "metadata": {},
   "outputs": [],
   "source": []
  },
  {
   "cell_type": "code",
   "execution_count": null,
   "metadata": {},
   "outputs": [],
   "source": []
  },
  {
   "cell_type": "code",
   "execution_count": null,
   "metadata": {},
   "outputs": [],
   "source": []
  },
  {
   "cell_type": "code",
   "execution_count": null,
   "metadata": {},
   "outputs": [],
   "source": []
  },
  {
   "cell_type": "code",
   "execution_count": null,
   "metadata": {},
   "outputs": [],
   "source": []
  },
  {
   "cell_type": "code",
   "execution_count": null,
   "metadata": {},
   "outputs": [],
   "source": []
  },
  {
   "cell_type": "code",
   "execution_count": null,
   "metadata": {},
   "outputs": [],
   "source": []
  }
 ],
 "metadata": {
  "kernelspec": {
   "display_name": "Tensorflow-GPU",
   "language": "python",
   "name": "tf"
  },
  "language_info": {
   "codemirror_mode": {
    "name": "ipython",
    "version": 3
   },
   "file_extension": ".py",
   "mimetype": "text/x-python",
   "name": "python",
   "nbconvert_exporter": "python",
   "pygments_lexer": "ipython3",
   "version": "3.7.6"
  }
 },
 "nbformat": 4,
 "nbformat_minor": 4
}
