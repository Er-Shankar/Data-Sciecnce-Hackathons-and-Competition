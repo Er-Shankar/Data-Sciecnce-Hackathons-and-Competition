{
 "cells": [
  {
   "cell_type": "markdown",
   "metadata": {
    "colab_type": "text",
    "id": "HH6XzkdVhWOw"
   },
   "source": [
    "# Import Libraries\n"
   ]
  },
  {
   "cell_type": "code",
   "execution_count": 1,
   "metadata": {
    "colab": {
     "base_uri": "https://localhost:8080/",
     "height": 72
    },
    "colab_type": "code",
    "id": "jW-dR0QASVmJ",
    "outputId": "cada544d-4758-4457-c3c9-534d3e7cc390"
   },
   "outputs": [
    {
     "name": "stderr",
     "output_type": "stream",
     "text": [
      "C:\\Users\\Shankar\\Anaconda3\\lib\\site-packages\\sklearn\\ensemble\\weight_boosting.py:29: DeprecationWarning: numpy.core.umath_tests is an internal NumPy module and should not be imported. It will be removed in a future NumPy release.\n",
      "  from numpy.core.umath_tests import inner1d\n"
     ]
    }
   ],
   "source": [
    "import pandas as pd\n",
    "import numpy as np\n",
    "import re             #regular expressions\n",
    "import seaborn as sns #data visualization\n",
    "import numpy as np    #array processing\n",
    "import matplotlib.pyplot as plt  #data visualization\n",
    "from bs4 import BeautifulSoup    #handling HTML \n",
    "from collections import Counter  #container datatypes\n",
    "#from wordcloud import WordCloud  #data visualization\n",
    "from nltk.corpus import stopwords# Natural Language toolkit\n",
    "from sklearn.feature_extraction.text import TfidfTransformer #TF-IDF\n",
    "from sklearn.metrics import classification_report, confusion_matrix, accuracy_score\n",
    "from sklearn.linear_model import LogisticRegression\n",
    "from sklearn.model_selection import train_test_split\n",
    "from sklearn.feature_extraction.text import TfidfVectorizer\n",
    "from sklearn.ensemble import RandomForestClassifier \n",
    "from imblearn.over_sampling import SMOTE     #Oversampling\n",
    "from imblearn.pipeline import make_pipeline  #Pipeline is just an abstract notion for performing sequence of different transformations\n",
    "from sklearn.model_selection import GridSearchCV,RandomizedSearchCV, StratifiedKFold\n",
    "from nltk.stem import WordNetLemmatizer      #Lemmatization\n",
    "from nltk.tokenize import WordPunctTokenizer #Tokenizer\n",
    "import nltk\n",
    "#nltk.download('all') \n",
    "\n",
    "import warnings\n",
    "\n",
    "pd.set_option(\"display.max_colwidth\", 200)\n",
    "warnings.filterwarnings(\"ignore\")"
   ]
  },
  {
   "cell_type": "code",
   "execution_count": 3,
   "metadata": {
    "colab": {
     "base_uri": "https://localhost:8080/",
     "height": 34
    },
    "colab_type": "code",
    "id": "CUhcxgo-SiAB",
    "outputId": "10fdd301-1646-41d6-c59a-db6888a9ff8c"
   },
   "outputs": [
    {
     "name": "stdout",
     "output_type": "stream",
     "text": [
      "Drive already mounted at /content/gdrive/; to attempt to forcibly remount, call drive.mount(\"/content/gdrive/\", force_remount=True).\n"
     ]
    }
   ],
   "source": [
    "from google.colab import drive\n",
    "drive.mount('/content/gdrive/')"
   ]
  },
  {
   "cell_type": "markdown",
   "metadata": {
    "colab_type": "text",
    "id": "5rwLcl9XhbYn"
   },
   "source": [
    "# Data \n"
   ]
  },
  {
   "cell_type": "code",
   "execution_count": 0,
   "metadata": {
    "colab": {},
    "colab_type": "code",
    "id": "ZcGGgwwTSnJs"
   },
   "outputs": [],
   "source": [
    "path = '/content/gdrive/My Drive/GS Quantify/'"
   ]
  },
  {
   "cell_type": "code",
   "execution_count": 2,
   "metadata": {
    "colab": {
     "base_uri": "https://localhost:8080/",
     "height": 197
    },
    "colab_type": "code",
    "id": "_tg-uvqqSVmP",
    "outputId": "e3d77c2c-b7d5-474b-ecb4-2d395ae9fdac"
   },
   "outputs": [
    {
     "data": {
      "text/html": [
       "<div>\n",
       "<style scoped>\n",
       "    .dataframe tbody tr th:only-of-type {\n",
       "        vertical-align: middle;\n",
       "    }\n",
       "\n",
       "    .dataframe tbody tr th {\n",
       "        vertical-align: top;\n",
       "    }\n",
       "\n",
       "    .dataframe thead th {\n",
       "        text-align: right;\n",
       "    }\n",
       "</style>\n",
       "<table border=\"1\" class=\"dataframe\">\n",
       "  <thead>\n",
       "    <tr style=\"text-align: right;\">\n",
       "      <th></th>\n",
       "      <th>LineNumber</th>\n",
       "      <th>Text</th>\n",
       "    </tr>\n",
       "  </thead>\n",
       "  <tbody>\n",
       "    <tr>\n",
       "      <th>0</th>\n",
       "      <td>L0</td>\n",
       "      <td>gs.api.log.57_13-09-2019_06:59 34703 INFO gs.openstack.wsgi.server [ req-y9mjwk-n1yj-6wl35r-nhwlbg ] HTTP exception thrown: No entry found for any event</td>\n",
       "    </tr>\n",
       "    <tr>\n",
       "      <th>1</th>\n",
       "      <td>L1</td>\n",
       "      <td>gs.compute.log.30_2019-09-12_07:04:00 39946 INFO gs.openapi.server [ req-0fpkx-6purm-vpog-enwlc-a32lk ] Creating event network-vif-plugged: for instance</td>\n",
       "    </tr>\n",
       "    <tr>\n",
       "      <th>2</th>\n",
       "      <td>L2</td>\n",
       "      <td>gs.compute.log.77_2019-09-11_10:53:00 94359 INFO gs.api.openstack.compute.wsgi [ req-ufxz-lctxos-ogc53-l89bg ] Creating event network-vif-plugged: for instance</td>\n",
       "    </tr>\n",
       "    <tr>\n",
       "      <th>3</th>\n",
       "      <td>L3</td>\n",
       "      <td>gs.compute.log.38_2019-09-01_13:31:00 80828 INFO gs.resource.claims [ req-j1yt-0n37-nji3-xkf8 ] Creating event network-vif-plugged: for instance</td>\n",
       "    </tr>\n",
       "    <tr>\n",
       "      <th>4</th>\n",
       "      <td>L4</td>\n",
       "      <td>gs.api.log.38_Sep 01, 2019_13:20:00 44944 INFO gs.resource.claims [ req-fcvp-2m85w-bdsu2p-voi178 ] \"DELETE /v2/lw7jq0tyfi3n1pxu/servers/details HTTP/1.1\" status: 204 len: 2713 time: 0.1205121</td>\n",
       "    </tr>\n",
       "  </tbody>\n",
       "</table>\n",
       "</div>"
      ],
      "text/plain": [
       "  LineNumber  \\\n",
       "0         L0   \n",
       "1         L1   \n",
       "2         L2   \n",
       "3         L3   \n",
       "4         L4   \n",
       "\n",
       "                                                                                                                                                                                              Text  \n",
       "0                                         gs.api.log.57_13-09-2019_06:59 34703 INFO gs.openstack.wsgi.server [ req-y9mjwk-n1yj-6wl35r-nhwlbg ] HTTP exception thrown: No entry found for any event  \n",
       "1                                         gs.compute.log.30_2019-09-12_07:04:00 39946 INFO gs.openapi.server [ req-0fpkx-6purm-vpog-enwlc-a32lk ] Creating event network-vif-plugged: for instance  \n",
       "2                                  gs.compute.log.77_2019-09-11_10:53:00 94359 INFO gs.api.openstack.compute.wsgi [ req-ufxz-lctxos-ogc53-l89bg ] Creating event network-vif-plugged: for instance  \n",
       "3                                                 gs.compute.log.38_2019-09-01_13:31:00 80828 INFO gs.resource.claims [ req-j1yt-0n37-nji3-xkf8 ] Creating event network-vif-plugged: for instance  \n",
       "4  gs.api.log.38_Sep 01, 2019_13:20:00 44944 INFO gs.resource.claims [ req-fcvp-2m85w-bdsu2p-voi178 ] \"DELETE /v2/lw7jq0tyfi3n1pxu/servers/details HTTP/1.1\" status: 204 len: 2713 time: 0.1205121  "
      ]
     },
     "execution_count": 2,
     "metadata": {},
     "output_type": "execute_result"
    }
   ],
   "source": [
    "\n",
    "train = [line.strip() for line in open(path+\"train_set.txt\", \"r\").readlines()]\n",
    "train = [{\"LineNumber\": line.split(\"~\")[0], \"Text\": line.split(\"~\")[1]} for line in train]\n",
    "train = pd.DataFrame(train)\n",
    "train.head()"
   ]
  },
  {
   "cell_type": "code",
   "execution_count": 6,
   "metadata": {
    "colab": {
     "base_uri": "https://localhost:8080/",
     "height": 214
    },
    "colab_type": "code",
    "id": "NU89UigdSVmW",
    "outputId": "d095ce6c-efd1-44de-a3ff-f844fb441a30"
   },
   "outputs": [
    {
     "data": {
      "text/html": [
       "<div>\n",
       "<style scoped>\n",
       "    .dataframe tbody tr th:only-of-type {\n",
       "        vertical-align: middle;\n",
       "    }\n",
       "\n",
       "    .dataframe tbody tr th {\n",
       "        vertical-align: top;\n",
       "    }\n",
       "\n",
       "    .dataframe thead th {\n",
       "        text-align: right;\n",
       "    }\n",
       "</style>\n",
       "<table border=\"1\" class=\"dataframe\">\n",
       "  <thead>\n",
       "    <tr style=\"text-align: right;\">\n",
       "      <th></th>\n",
       "      <th>LineNumber</th>\n",
       "      <th>Text</th>\n",
       "    </tr>\n",
       "  </thead>\n",
       "  <tbody>\n",
       "    <tr>\n",
       "      <th>0</th>\n",
       "      <td>L0</td>\n",
       "      <td>gs.api.log.69_Sep 14, 2019_13:20:00 58233 INFO gs.openapi.server [ req-qvrlz-kqijyd-easb2-l89bg-460fp ] [ instance: rq1a-vla0s-57sy1o ] vcpu limit not specified, default to unlimited</td>\n",
       "    </tr>\n",
       "    <tr>\n",
       "      <th>1</th>\n",
       "      <td>L1</td>\n",
       "      <td>gs.compute.log.56.10-09-2019_04:18 PM 60109 INFO gs.openstack.server [ req-n7w9u-tn296-gmw3 ] [ instance: jlb62-8vpj-a8eyko-znf6p1 ] Took 3049 seconds to spawn the instance on the hypervisor</td>\n",
       "    </tr>\n",
       "    <tr>\n",
       "      <th>2</th>\n",
       "      <td>L2</td>\n",
       "      <td>gs.api.log.84_11-09-2019_09:30 80226 INFO gs.compute.manager [ req-6od5mc-e6ba-xd16 ] HTTP exception thrown: No instances found for any event</td>\n",
       "    </tr>\n",
       "    <tr>\n",
       "      <th>3</th>\n",
       "      <td>L3</td>\n",
       "      <td>gs.compute.log.94.Sep 07, 2019_13:04 57889 INFO gs.openstack.server [ req-kyum-oi5g-w4q2-e8uxd ] \"GET /v2/2019-09-14 vendor_data.json HTTP/1.1\" status: 404 len: 7393 time: 0.1665167</td>\n",
       "    </tr>\n",
       "    <tr>\n",
       "      <th>4</th>\n",
       "      <td>L4</td>\n",
       "      <td>gs.api.log.40_Sep 11, 2019_23:18:00 61822 INFO gs.api.openapi.compute.wsgi [ req-y9mjwk-6do12x-5eva8-gqds-64ugji ] [ instance: y5tj-ufwp-34nme6-6do12x ] Total memory limit not specified, defaultin...</td>\n",
       "    </tr>\n",
       "  </tbody>\n",
       "</table>\n",
       "</div>"
      ],
      "text/plain": [
       "  LineNumber                                                                                                                                                                                                     Text\n",
       "0         L0                   gs.api.log.69_Sep 14, 2019_13:20:00 58233 INFO gs.openapi.server [ req-qvrlz-kqijyd-easb2-l89bg-460fp ] [ instance: rq1a-vla0s-57sy1o ] vcpu limit not specified, default to unlimited\n",
       "1         L1           gs.compute.log.56.10-09-2019_04:18 PM 60109 INFO gs.openstack.server [ req-n7w9u-tn296-gmw3 ] [ instance: jlb62-8vpj-a8eyko-znf6p1 ] Took 3049 seconds to spawn the instance on the hypervisor\n",
       "2         L2                                                            gs.api.log.84_11-09-2019_09:30 80226 INFO gs.compute.manager [ req-6od5mc-e6ba-xd16 ] HTTP exception thrown: No instances found for any event\n",
       "3         L3                    gs.compute.log.94.Sep 07, 2019_13:04 57889 INFO gs.openstack.server [ req-kyum-oi5g-w4q2-e8uxd ] \"GET /v2/2019-09-14 vendor_data.json HTTP/1.1\" status: 404 len: 7393 time: 0.1665167\n",
       "4         L4  gs.api.log.40_Sep 11, 2019_23:18:00 61822 INFO gs.api.openapi.compute.wsgi [ req-y9mjwk-6do12x-5eva8-gqds-64ugji ] [ instance: y5tj-ufwp-34nme6-6do12x ] Total memory limit not specified, defaultin..."
      ]
     },
     "execution_count": 6,
     "metadata": {
      "tags": []
     },
     "output_type": "execute_result"
    }
   ],
   "source": [
    "test = [line.strip() for line in open(path+\"public_test_set.txt\", \"r\").readlines()]\n",
    "test = [{\"LineNumber\": line.split(\"~\")[0], \"Text\": line.split(\"~\")[1]} for line in test]\n",
    "test = pd.DataFrame(test)\n",
    "test.head()"
   ]
  },
  {
   "cell_type": "code",
   "execution_count": 7,
   "metadata": {
    "colab": {
     "base_uri": "https://localhost:8080/",
     "height": 197
    },
    "colab_type": "code",
    "id": "CAEHgeomYQRh",
    "outputId": "4d4a127a-cef4-439d-d4c8-57c1053933e0"
   },
   "outputs": [
    {
     "data": {
      "text/html": [
       "<div>\n",
       "<style scoped>\n",
       "    .dataframe tbody tr th:only-of-type {\n",
       "        vertical-align: middle;\n",
       "    }\n",
       "\n",
       "    .dataframe tbody tr th {\n",
       "        vertical-align: top;\n",
       "    }\n",
       "\n",
       "    .dataframe thead th {\n",
       "        text-align: right;\n",
       "    }\n",
       "</style>\n",
       "<table border=\"1\" class=\"dataframe\">\n",
       "  <thead>\n",
       "    <tr style=\"text-align: right;\">\n",
       "      <th></th>\n",
       "      <th>LineNumber</th>\n",
       "      <th>Text</th>\n",
       "    </tr>\n",
       "  </thead>\n",
       "  <tbody>\n",
       "    <tr>\n",
       "      <th>0</th>\n",
       "      <td>L0</td>\n",
       "      <td>gs.api.log.60.Sep 09, 2019_10:45 17162 INFO gs.resource.resource_tracker [ req-vleiy-st19-07b8k3-h4bjn-r60qt4 ] Active base files: /var/lib/gs/instances/_base/vleiy-st19-07b8k3-h4bjn-r60qt4</td>\n",
       "    </tr>\n",
       "    <tr>\n",
       "      <th>1</th>\n",
       "      <td>L1</td>\n",
       "      <td>gs.api.log.14.2019-09-02_07:57 AM 60858 INFO gs.resource.manager [ req-vz2nx-rj0zcy-lem3a-hg2m1-j6zsi ] [ instance: 8ohnb-1gbn-0eyq-1m82u-jvlt ] Instance Destroyed Successfully</td>\n",
       "    </tr>\n",
       "    <tr>\n",
       "      <th>2</th>\n",
       "      <td>L2</td>\n",
       "      <td>gs.api.compute.log.65.11-09-2019_04:57 AM 72310 INFO gs.api.openstack.compute.wsgi [ req-seht-hxfm7-znf6p1-f1zgu ] [ instance: 9y6vnd-0n37-x3fz-a7s4-e1ajgn ] VM Resumed (Lifecycle Event)</td>\n",
       "    </tr>\n",
       "    <tr>\n",
       "      <th>3</th>\n",
       "      <td>L3</td>\n",
       "      <td>gs.compute.log.82.07-09-2019_05:17 PM 5534 INFO gs.openapi.server [ req-xms9j-g0zcrh-kd5eu ] \"GET /latest/meta-data/block-device-mapping/ami HTTP/1.1\" status: 200 len: 5204 time: 0.1012101</td>\n",
       "    </tr>\n",
       "    <tr>\n",
       "      <th>4</th>\n",
       "      <td>L4</td>\n",
       "      <td>gs.api.log.15.2019-09-14_16:27 39946 INFO gs.openstack.server [ req-ioxmw-6nub-4yrq2 ] Removing base or swap file: /var/lib/gs/instances/_base/9y6vnd-7vse1y-8qoj-uxnq</td>\n",
       "    </tr>\n",
       "  </tbody>\n",
       "</table>\n",
       "</div>"
      ],
      "text/plain": [
       "  LineNumber                                                                                                                                                                                           Text\n",
       "0         L0  gs.api.log.60.Sep 09, 2019_10:45 17162 INFO gs.resource.resource_tracker [ req-vleiy-st19-07b8k3-h4bjn-r60qt4 ] Active base files: /var/lib/gs/instances/_base/vleiy-st19-07b8k3-h4bjn-r60qt4\n",
       "1         L1               gs.api.log.14.2019-09-02_07:57 AM 60858 INFO gs.resource.manager [ req-vz2nx-rj0zcy-lem3a-hg2m1-j6zsi ] [ instance: 8ohnb-1gbn-0eyq-1m82u-jvlt ] Instance Destroyed Successfully\n",
       "2         L2     gs.api.compute.log.65.11-09-2019_04:57 AM 72310 INFO gs.api.openstack.compute.wsgi [ req-seht-hxfm7-znf6p1-f1zgu ] [ instance: 9y6vnd-0n37-x3fz-a7s4-e1ajgn ] VM Resumed (Lifecycle Event)\n",
       "3         L3   gs.compute.log.82.07-09-2019_05:17 PM 5534 INFO gs.openapi.server [ req-xms9j-g0zcrh-kd5eu ] \"GET /latest/meta-data/block-device-mapping/ami HTTP/1.1\" status: 200 len: 5204 time: 0.1012101\n",
       "4         L4                         gs.api.log.15.2019-09-14_16:27 39946 INFO gs.openstack.server [ req-ioxmw-6nub-4yrq2 ] Removing base or swap file: /var/lib/gs/instances/_base/9y6vnd-7vse1y-8qoj-uxnq"
      ]
     },
     "execution_count": 7,
     "metadata": {
      "tags": []
     },
     "output_type": "execute_result"
    }
   ],
   "source": [
    "final = [line.strip() for line in open(path+\"private_test_set.txt\", \"r\").readlines()]\n",
    "final = [{\"LineNumber\": line.split(\"~\")[0], \"Text\": line.split(\"~\")[1]} for line in final]\n",
    "final = pd.DataFrame(final)\n",
    "final.head()"
   ]
  },
  {
   "cell_type": "markdown",
   "metadata": {
    "colab_type": "text",
    "id": "51ZB0NH5hiUR"
   },
   "source": [
    "# Data Preprocessing\n"
   ]
  },
  {
   "cell_type": "code",
   "execution_count": 3,
   "metadata": {
    "colab": {
     "base_uri": "https://localhost:8080/",
     "height": 70
    },
    "colab_type": "code",
    "id": "OxSGY_S1SVmh",
    "outputId": "b21cec5a-e1b1-4fd9-cfef-6518fe8e75b9"
   },
   "outputs": [
    {
     "name": "stderr",
     "output_type": "stream",
     "text": [
      "[nltk_data] Downloading package wordnet to\n",
      "[nltk_data]     C:\\Users\\Shankar\\AppData\\Roaming\\nltk_data...\n",
      "[nltk_data]   Package wordnet is already up-to-date!\n"
     ]
    },
    {
     "data": {
      "text/plain": [
       "True"
      ]
     },
     "execution_count": 3,
     "metadata": {},
     "output_type": "execute_result"
    }
   ],
   "source": [
    "nltk.download('wordnet')"
   ]
  },
  {
   "cell_type": "code",
   "execution_count": 4,
   "metadata": {
    "colab": {},
    "colab_type": "code",
    "id": "0IJXDOcDSVml"
   },
   "outputs": [],
   "source": [
    "tok = WordPunctTokenizer()\n",
    "lemmatizer = WordNetLemmatizer() \n",
    "\n",
    "def text_cleaner(text):\n",
    "    soup = BeautifulSoup(text, 'lxml')                             #decode html\n",
    "    souped = soup.get_text()                                       #get text\n",
    "    newString = (souped.encode('ascii', 'ignore')).decode(\"utf-8\") #encode to ascii\n",
    "    newString=re.sub(r'@[A-Za-z0-9]+','',newString)                #removing user mentions\n",
    "    letters_only = re.sub(\"[^a-zA-Z]\", \" \", newString)             #Fetching out only ascii characters\n",
    "    lower_case = letters_only.lower()                              #converting everything to lowercase\n",
    "    words = tok.tokenize(lower_case)                               #tokenize and join together to remove white spaces between words\n",
    "    long_words=[]\n",
    "    for i in words:\n",
    "      if len(i)>2:                                                 #removing short words\n",
    "        long_words.append(lemmatizer.lemmatize(i))                 #converting words to lemma\n",
    "    return (\" \".join(long_words)).strip()                          #combining to form sentence\n"
   ]
  },
  {
   "cell_type": "code",
   "execution_count": 5,
   "metadata": {
    "colab": {},
    "colab_type": "code",
    "id": "FO2o7S8fSVmq"
   },
   "outputs": [],
   "source": [
    "cleaned_text = []\n",
    "for t in train.Text:\n",
    "    cleaned_text.append(text_cleaner(t))\n",
    "\n",
    "# cleaned_text_t = []\n",
    "# for t in test.Text:\n",
    "#     cleaned_text_t.append(text_cleaner(t))\n",
    "\n",
    "# cleaned_text_final = []\n",
    "# for t in final.Text:\n",
    "#     cleaned_text_final.append(text_cleaner(t))"
   ]
  },
  {
   "cell_type": "code",
   "execution_count": 6,
   "metadata": {
    "colab": {},
    "colab_type": "code",
    "id": "3lcwE6a5SVm6"
   },
   "outputs": [],
   "source": [
    "train['cleaned_text'] = cleaned_text\n",
    "# test['cleaned_text'] = cleaned_text_t\n",
    "# final['cleaned_text_final'] = cleaned_text_final"
   ]
  },
  {
   "cell_type": "markdown",
   "metadata": {
    "colab_type": "text",
    "id": "4uRPbiwFhm4q"
   },
   "source": [
    "## Vectorization\n"
   ]
  },
  {
   "cell_type": "markdown",
   "metadata": {
    "colab_type": "text",
    "id": "imQ0uX9Dh7on"
   },
   "source": [
    "### Bag of Words\n"
   ]
  },
  {
   "cell_type": "code",
   "execution_count": 0,
   "metadata": {
    "colab": {},
    "colab_type": "code",
    "id": "3da3iW4xSVnA"
   },
   "outputs": [],
   "source": [
    "from sklearn.feature_extraction.text import CountVectorizer\n",
    "count_vect = CountVectorizer()\n",
    "bow = count_vect.fit_transform(train['cleaned_text'].values)\n",
    "bow_t = count_vect.transform(test['cleaned_text'].values)\n",
    "bow_final = count_vect.transform(final['cleaned_text_final'].values)"
   ]
  },
  {
   "cell_type": "markdown",
   "metadata": {
    "colab_type": "text",
    "id": "To_P2ZR9h_E9"
   },
   "source": [
    "### Term frequency and Inverse document frequency"
   ]
  },
  {
   "cell_type": "code",
   "execution_count": 0,
   "metadata": {
    "colab": {},
    "colab_type": "code",
    "id": "l8FS0ZWpgcCv"
   },
   "outputs": [],
   "source": [
    "from sklearn.feature_extraction.text import TfidfVectorizer\n",
    "tfidf_vect = TfidfVectorizer()\n",
    "tfidf = tfidf_vect.fit_transform(train['cleaned_text'].values)\n",
    "tfidf_t = tfidf_vect.transform(test['cleaned_text'].values)\n",
    "tfidf_final = tfidf_vect.transform(final['cleaned_text_final'].values)"
   ]
  },
  {
   "cell_type": "markdown",
   "metadata": {
    "colab_type": "text",
    "id": "CUiPTViBiICR"
   },
   "source": [
    "# Elbow Method\n",
    "\n",
    "To find optimal number of cluster from 5 to 20\n"
   ]
  },
  {
   "cell_type": "code",
   "execution_count": 0,
   "metadata": {
    "colab": {},
    "colab_type": "code",
    "id": "b-6-9Uk0TsFs"
   },
   "outputs": [],
   "source": [
    "from sklearn.cluster import KMeans\n",
    "wcss = []\n",
    "for i in range(5,20):\n",
    "    kmeans = KMeans(n_clusters=i,init='k-means++',max_iter=300,n_init=10,random_state=0)\n",
    "    kmeans.fit(bow)\n",
    "    #kmeans.fit(tfidf)\n",
    "    #kmeans.fit(tfidf)\n",
    "    wcss.append(kmeans.inertia_)\n"
   ]
  },
  {
   "cell_type": "code",
   "execution_count": 18,
   "metadata": {
    "colab": {
     "base_uri": "https://localhost:8080/",
     "height": 294
    },
    "colab_type": "code",
    "id": "xhJFCGadTt0w",
    "outputId": "a256211e-60e3-4f63-d0b7-780d633c8349"
   },
   "outputs": [
    {
     "data": {
      "image/png": "[encoded data removed]",
      "text/plain": [
       "<Figure size 432x288 with 1 Axes>"
      ]
     },
     "metadata": {
      "tags": []
     },
     "output_type": "display_data"
    }
   ],
   "source": [
    "plt.plot(range(5, 20),wcss)\n",
    "plt.title('The Elbow Method')\n",
    "plt.xlabel('Number of clusters')\n",
    "plt.ylabel('WCSS')\n",
    "plt.savefig('elbow.png')\n",
    "\n",
    "plt.show()"
   ]
  },
  {
   "cell_type": "code",
   "execution_count": 0,
   "metadata": {
    "colab": {},
    "colab_type": "code",
    "id": "Y8a5K3TXbUJC"
   },
   "outputs": [],
   "source": []
  },
  {
   "cell_type": "markdown",
   "metadata": {
    "colab_type": "text",
    "id": "phHXZIlniUUa"
   },
   "source": [
    "# Clustering"
   ]
  },
  {
   "cell_type": "code",
   "execution_count": 15,
   "metadata": {
    "colab": {
     "base_uri": "https://localhost:8080/",
     "height": 70
    },
    "colab_type": "code",
    "id": "2P8JRJEHSVnL",
    "outputId": "f6b8fb03-eab3-4baf-91eb-288b786cc579"
   },
   "outputs": [
    {
     "data": {
      "text/plain": [
       "KMeans(algorithm='auto', copy_x=True, init='k-means++', max_iter=300,\n",
       "       n_clusters=17, n_init=10, n_jobs=-1, precompute_distances='auto',\n",
       "       random_state=99, tol=0.0001, verbose=0)"
      ]
     },
     "execution_count": 15,
     "metadata": {
      "tags": []
     },
     "output_type": "execute_result"
    }
   ],
   "source": [
    "from sklearn.cluster import KMeans\n",
    "model = KMeans(n_clusters = 17,init='k-means++', n_jobs = -1,random_state=99)\n",
    "#model.fit(bow)\n",
    "model.fit(tfidf)"
   ]
  },
  {
   "cell_type": "code",
   "execution_count": 0,
   "metadata": {
    "colab": {},
    "colab_type": "code",
    "id": "tGfgjvdtSVnO"
   },
   "outputs": [],
   "source": [
    "labels = model.labels_\n",
    "cluster_center=model.cluster_centers_"
   ]
  },
  {
   "cell_type": "code",
   "execution_count": 0,
   "metadata": {
    "colab": {},
    "colab_type": "code",
    "id": "8vbF3kVqSVnW"
   },
   "outputs": [],
   "source": [
    "from sklearn import metrics\n",
    "silhouette_score = metrics.silhouette_score(bow, labels, metric='euclidean')"
   ]
  },
  {
   "cell_type": "code",
   "execution_count": 45,
   "metadata": {
    "colab": {
     "base_uri": "https://localhost:8080/",
     "height": 34
    },
    "colab_type": "code",
    "id": "VjXUBxYQSVna",
    "outputId": "bbca7693-79f2-459d-e22d-5189ab46a89a"
   },
   "outputs": [
    {
     "data": {
      "text/plain": [
       "0.13974297448202713"
      ]
     },
     "execution_count": 45,
     "metadata": {
      "tags": []
     },
     "output_type": "execute_result"
    }
   ],
   "source": [
    "# which tells us that clusters are far away from each other \n",
    "silhouette_score #0.15778461601531468 #0.13974297448202713"
   ]
  },
  {
   "cell_type": "code",
   "execution_count": 16,
   "metadata": {
    "colab": {
     "base_uri": "https://localhost:8080/",
     "height": 141
    },
    "colab_type": "code",
    "id": "m19NasoSSVnf",
    "outputId": "9dbf91e5-4812-46b4-8000-8e5b5cee608b"
   },
   "outputs": [
    {
     "data": {
      "text/html": [
       "<div>\n",
       "<style scoped>\n",
       "    .dataframe tbody tr th:only-of-type {\n",
       "        vertical-align: middle;\n",
       "    }\n",
       "\n",
       "    .dataframe tbody tr th {\n",
       "        vertical-align: top;\n",
       "    }\n",
       "\n",
       "    .dataframe thead th {\n",
       "        text-align: right;\n",
       "    }\n",
       "</style>\n",
       "<table border=\"1\" class=\"dataframe\">\n",
       "  <thead>\n",
       "    <tr style=\"text-align: right;\">\n",
       "      <th></th>\n",
       "      <th>LineNumber</th>\n",
       "      <th>Text</th>\n",
       "      <th>cleaned_text</th>\n",
       "      <th>Tfidf_Clus_Label_17</th>\n",
       "    </tr>\n",
       "  </thead>\n",
       "  <tbody>\n",
       "    <tr>\n",
       "      <th>0</th>\n",
       "      <td>L0</td>\n",
       "      <td>gs.api.log.57_13-09-2019_06:59 34703 INFO gs.openstack.wsgi.server [ req-y9mjwk-n1yj-6wl35r-nhwlbg ] HTTP exception thrown: No entry found for any event</td>\n",
       "      <td>api log info openstack wsgi server req mjwk nhwlbg http exception thrown entry found for any event</td>\n",
       "      <td>3</td>\n",
       "    </tr>\n",
       "    <tr>\n",
       "      <th>1</th>\n",
       "      <td>L1</td>\n",
       "      <td>gs.compute.log.30_2019-09-12_07:04:00 39946 INFO gs.openapi.server [ req-0fpkx-6purm-vpog-enwlc-a32lk ] Creating event network-vif-plugged: for instance</td>\n",
       "      <td>compute log info openapi server req fpkx purm vpog enwlc creating event network vif plugged for instance</td>\n",
       "      <td>1</td>\n",
       "    </tr>\n",
       "  </tbody>\n",
       "</table>\n",
       "</div>"
      ],
      "text/plain": [
       "  LineNumber  ... Tfidf_Clus_Label_17\n",
       "0         L0  ...                   3\n",
       "1         L1  ...                   1\n",
       "\n",
       "[2 rows x 4 columns]"
      ]
     },
     "execution_count": 16,
     "metadata": {
      "tags": []
     },
     "output_type": "execute_result"
    }
   ],
   "source": [
    "df = train\n",
    "#df['Bow Clus Label'] = model.labels_ \n",
    "df['Tfidf_Clus_Label_17'] = model.labels_ # the last column you can see the label numebers\n",
    "df.head(2)"
   ]
  },
  {
   "cell_type": "code",
   "execution_count": 17,
   "metadata": {
    "colab": {
     "base_uri": "https://localhost:8080/",
     "height": 1000
    },
    "colab_type": "code",
    "id": "B9MOHpOvSVnl",
    "outputId": "2bf8217b-2a0e-4a84-f780-5b567fc7dfbc"
   },
   "outputs": [
    {
     "name": "stdout",
     "output_type": "stream",
     "text": [
      "Top terms per cluster:\n",
      "Cluster 0: json\n",
      " meta\n",
      " data\n",
      " get\n",
      " status\n",
      " len\n",
      " time\n",
      " http\n",
      " compute\n",
      " sep\n",
      "Cluster 1: plugged\n",
      " vif\n",
      " creating\n",
      " network\n",
      " for\n",
      " event\n",
      " compute\n",
      " instance\n",
      " info\n",
      " req\n",
      "Cluster 2: total\n",
      " vgpus\n",
      " disk\n",
      " allocated\n",
      " usable\n",
      " compute\n",
      " log\n",
      " req\n",
      " info\n",
      " resource\n",
      "Cluster 3: exception\n",
      " found\n",
      " any\n",
      " thrown\n",
      " for\n",
      " event\n",
      " http\n",
      " entry\n",
      " api\n",
      " req\n",
      "Cluster 4: latest\n",
      " mapping\n",
      " device\n",
      " block\n",
      " meta\n",
      " data\n",
      " get\n",
      " time\n",
      " status\n",
      " len\n",
      "Cluster 5: ovjcx\n",
      " hxfm\n",
      " qri\n",
      " ejk\n",
      " instance\n",
      " api\n",
      " compute\n",
      " req\n",
      " info\n",
      " log\n",
      "Cluster 6: base\n",
      " file\n",
      " var\n",
      " lib\n",
      " unknown\n",
      " api\n",
      " active\n",
      " instance\n",
      " swap\n",
      " sep\n",
      "Cluster 7: memory\n",
      " total\n",
      " usable\n",
      " allocated\n",
      " compute\n",
      " info\n",
      " req\n",
      " log\n",
      " resource\n",
      " wsgi\n",
      "Cluster 8: detail\n",
      " server\n",
      " sep\n",
      " len\n",
      " time\n",
      " status\n",
      " http\n",
      " api\n",
      " delete\n",
      " post\n",
      "Cluster 9: lifecycle\n",
      " compute\n",
      " event\n",
      " api\n",
      " instance\n",
      " req\n",
      " log\n",
      " info\n",
      " stopped\n",
      " started\n"
     ]
    }
   ],
   "source": [
    "print(\"Top terms per cluster:\")\n",
    "order_centroids = model.cluster_centers_.argsort()[:, ::-1]\n",
    "terms = count_vect.get_feature_names()\n",
    "for i in range(10):\n",
    "    print(\"Cluster %d:\" % i, end='')\n",
    "    for ind in order_centroids[i, :10]:\n",
    "        print(' %s' % terms[ind], end='')\n",
    "        print()"
   ]
  },
  {
   "cell_type": "code",
   "execution_count": 0,
   "metadata": {
    "colab": {},
    "colab_type": "code",
    "id": "-HMNQCxNSVns"
   },
   "outputs": [],
   "source": [
    "# for i in range(10):\n",
    "#     print(\"A review of assigned to cluster \", i)\n",
    "#     print(\"-\" * 70)\n",
    "#     print(df.iloc[df.groupby(['Tfidf_Cluse_Label_17']).groups[i][0]]['Text'])\n",
    "#     print('\\n')\n",
    "#     print(\"_\" * 70)"
   ]
  },
  {
   "cell_type": "markdown",
   "metadata": {
    "colab_type": "text",
    "id": "dZ_O22OTkRml"
   },
   "source": [
    "# Splitting the data"
   ]
  },
  {
   "cell_type": "code",
   "execution_count": 0,
   "metadata": {
    "colab": {},
    "colab_type": "code",
    "id": "wstTsv58SVnv"
   },
   "outputs": [],
   "source": [
    "from sklearn.model_selection import train_test_split\n",
    "x_train,x_test,y_train,y_test = train_test_split(bow, df['Tfidf_Clus_Label_17'],test_size=0.2,random_state=101)"
   ]
  },
  {
   "cell_type": "markdown",
   "metadata": {
    "colab_type": "text",
    "id": "Xd5w1Z2CkWQR"
   },
   "source": [
    "# Model\n"
   ]
  },
  {
   "cell_type": "code",
   "execution_count": 27,
   "metadata": {
    "colab": {
     "base_uri": "https://localhost:8080/",
     "height": 1000
    },
    "colab_type": "code",
    "id": "mJHLTPsuUMrd",
    "outputId": "abd2f206-8de2-4093-d484-bc563e39a263"
   },
   "outputs": [
    {
     "name": "stdout",
     "output_type": "stream",
     "text": [
      "Confusion Matrix for K Neighbors Classifier:\n",
      "[[ 528    0    0    0    0    0    0    0    0    0    0    0    0    0\n",
      "     0    0    0]\n",
      " [   0 1998    0    0    0    0    0    0    0    0    0    0    0    0\n",
      "     0    0    0]\n",
      " [   0    0  548    0    0    0    0    0    0    0    0    0    0    0\n",
      "     0    0    0]\n",
      " [   0    0    0 2017    0    0    0    0    0    0    0    0    0    0\n",
      "     0    0    0]\n",
      " [   0    0    0    0 1971    0    0    0    0    0    0    0    0    0\n",
      "     0    0    0]\n",
      " [   0    2    0    5    3   16    3    0    2   11    2    1    4    4\n",
      "     1    0    2]\n",
      " [   0    0    0    0    0    0 1172    0    0    0    0    0    0    0\n",
      "     0    0   13]\n",
      " [   0    0    0    0    0    0    0  284    0    0    0    0    0    0\n",
      "     0    0    0]\n",
      " [   0    0    0    0    0    0    0    0 1665    0    0    0    0    0\n",
      "     0    0    0]\n",
      " [   0    0    0    0    0    0    0    0    0 2189    0    0    0    0\n",
      "     0    0    0]\n",
      " [   0    0    0    0    0    0    0    0    0    0  757    0    0    0\n",
      "     0    0    0]\n",
      " [   0    0    0    0    0    0    0    0    0    0    0 1093    0    0\n",
      "     0    0    0]\n",
      " [   0    0    0    0    0    0    0    0    0    0    0    0 1160    0\n",
      "     0    0    0]\n",
      " [   0    0    0    0    0    0    0    0    0    0    0    0    0  587\n",
      "     0    0    0]\n",
      " [   0    0    0    0    0    0    0    0    0    0    0    0    0    0\n",
      "   383    0    0]\n",
      " [   0    0    0    0    0    0    0    0    0    0    0    0    0    0\n",
      "     0  270    0]\n",
      " [   0    0    0    0    0    0   58    0    0    0    0    0   10    1\n",
      "     0    0  775]]\n",
      "Score:  99.3\n",
      "Classification Report:\n",
      "              precision    recall  f1-score   support\n",
      "\n",
      "           0       1.00      1.00      1.00       528\n",
      "           1       1.00      1.00      1.00      1998\n",
      "           2       1.00      1.00      1.00       548\n",
      "           3       1.00      1.00      1.00      2017\n",
      "           4       1.00      1.00      1.00      1971\n",
      "           5       1.00      0.29      0.44        56\n",
      "           6       0.95      0.99      0.97      1185\n",
      "           7       1.00      1.00      1.00       284\n",
      "           8       1.00      1.00      1.00      1665\n",
      "           9       0.99      1.00      1.00      2189\n",
      "          10       1.00      1.00      1.00       757\n",
      "          11       1.00      1.00      1.00      1093\n",
      "          12       0.99      1.00      0.99      1160\n",
      "          13       0.99      1.00      1.00       587\n",
      "          14       1.00      1.00      1.00       383\n",
      "          15       1.00      1.00      1.00       270\n",
      "          16       0.98      0.92      0.95       844\n",
      "\n",
      "    accuracy                           0.99     17535\n",
      "   macro avg       0.99      0.95      0.96     17535\n",
      "weighted avg       0.99      0.99      0.99     17535\n",
      "\n"
     ]
    }
   ],
   "source": [
    "from sklearn.neighbors import KNeighborsClassifier\n",
    "knn = KNeighborsClassifier(n_neighbors=10)\n",
    "knn.fit(x_train,y_train)\n",
    "predknn = knn.predict(x_test)\n",
    "print(\"Confusion Matrix for K Neighbors Classifier:\")\n",
    "print(confusion_matrix(y_test,predknn))\n",
    "print(\"Score: \",round(accuracy_score(y_test,predknn)*100,2))\n",
    "print(\"Classification Report:\")\n",
    "print(classification_report(y_test,predknn))"
   ]
  },
  {
   "cell_type": "markdown",
   "metadata": {
    "colab_type": "text",
    "id": "0rL32ClAkZ1J"
   },
   "source": [
    "# Prediction\n"
   ]
  },
  {
   "cell_type": "code",
   "execution_count": 0,
   "metadata": {
    "colab": {},
    "colab_type": "code",
    "id": "UuOA7zw6evnF"
   },
   "outputs": [],
   "source": [
    "pred = knn.predict(bow_t)\n",
    "pred_final = knn.predict(bow_final)"
   ]
  },
  {
   "cell_type": "code",
   "execution_count": 0,
   "metadata": {
    "colab": {},
    "colab_type": "code",
    "id": "M325rgjSoZhg"
   },
   "outputs": [],
   "source": []
  },
  {
   "cell_type": "code",
   "execution_count": 0,
   "metadata": {
    "colab": {},
    "colab_type": "code",
    "id": "qYSe0P72fGYn"
   },
   "outputs": [],
   "source": [
    "s = pd.DataFrame()\n",
    "s['LineNumber'] = test['LineNumber']\n",
    "s['Class'] = pred\n",
    "s['Class'] = s['Class'].map({0:\"C1\", 1:\"C2\", 2:'C3', 3:'C4', 4:'C5', 5:\"C6\", 6:\"C7\", 7:\"C8\", 8:\"C9\", 9:'C10', 10:'C11', 11:'C12', 12:'C13', 13:'C14', 14:'C15',\n",
    "                             15:'C16', 16:'C17'})\n",
    "                             #15:'C16', 16:'C17', 17:'C18', 18:'C19', 19:'C20'})"
   ]
  },
  {
   "cell_type": "code",
   "execution_count": 0,
   "metadata": {
    "colab": {},
    "colab_type": "code",
    "id": "HpqQmgyhnlLj"
   },
   "outputs": [],
   "source": [
    "s = pd.DataFrame()\n",
    "s['LineNumber'] = final['LineNumber']\n",
    "s['Class'] = pred_final\n",
    "s['Class'] = s['Class'].map({0:\"C1\", 1:\"C2\", 2:'C3', 3:'C4', 4:'C5', 5:\"C6\", 6:\"C7\", 7:\"C8\", 8:\"C9\", 9:'C10', 10:'C11', 11:'C12', 12:'C13', 13:'C14', 14:'C15'})\n",
    "                             #15:'C16', 16:'C17', 17:'C18', 18:'C19', 19:'C20'})"
   ]
  },
  {
   "cell_type": "code",
   "execution_count": 47,
   "metadata": {
    "colab": {
     "base_uri": "https://localhost:8080/",
     "height": 197
    },
    "colab_type": "code",
    "id": "1MeUMoGLUMvh",
    "outputId": "28dee1bb-08cd-48bd-80be-d1155f46f957"
   },
   "outputs": [
    {
     "data": {
      "text/html": [
       "<div>\n",
       "<style scoped>\n",
       "    .dataframe tbody tr th:only-of-type {\n",
       "        vertical-align: middle;\n",
       "    }\n",
       "\n",
       "    .dataframe tbody tr th {\n",
       "        vertical-align: top;\n",
       "    }\n",
       "\n",
       "    .dataframe thead th {\n",
       "        text-align: right;\n",
       "    }\n",
       "</style>\n",
       "<table border=\"1\" class=\"dataframe\">\n",
       "  <thead>\n",
       "    <tr style=\"text-align: right;\">\n",
       "      <th></th>\n",
       "      <th>LineNumber</th>\n",
       "      <th>Class</th>\n",
       "    </tr>\n",
       "  </thead>\n",
       "  <tbody>\n",
       "    <tr>\n",
       "      <th>0</th>\n",
       "      <td>L0</td>\n",
       "      <td>C11</td>\n",
       "    </tr>\n",
       "    <tr>\n",
       "      <th>1</th>\n",
       "      <td>L1</td>\n",
       "      <td>C15</td>\n",
       "    </tr>\n",
       "    <tr>\n",
       "      <th>2</th>\n",
       "      <td>L2</td>\n",
       "      <td>C4</td>\n",
       "    </tr>\n",
       "    <tr>\n",
       "      <th>3</th>\n",
       "      <td>L3</td>\n",
       "      <td>C12</td>\n",
       "    </tr>\n",
       "    <tr>\n",
       "      <th>4</th>\n",
       "      <td>L4</td>\n",
       "      <td>C11</td>\n",
       "    </tr>\n",
       "  </tbody>\n",
       "</table>\n",
       "</div>"
      ],
      "text/plain": [
       "  LineNumber Class\n",
       "0         L0   C11\n",
       "1         L1   C15\n",
       "2         L2    C4\n",
       "3         L3   C12\n",
       "4         L4   C11"
      ]
     },
     "execution_count": 47,
     "metadata": {
      "tags": []
     },
     "output_type": "execute_result"
    }
   ],
   "source": [
    "s.head()"
   ]
  },
  {
   "cell_type": "code",
   "execution_count": 0,
   "metadata": {
    "colab": {},
    "colab_type": "code",
    "id": "dCkq3BDKflNp"
   },
   "outputs": [],
   "source": [
    "s.to_csv('Knn_public.csv', index = False)"
   ]
  },
  {
   "cell_type": "code",
   "execution_count": 0,
   "metadata": {
    "colab": {},
    "colab_type": "code",
    "id": "UGBAlkYcUMy9"
   },
   "outputs": [],
   "source": [
    "tr = df[['LineNumber', \"Tfidf_Clus_Label_17\"]]\n",
    "tr['Class'] = train['Tfidf_Clus_Label_17'].map({0:\"C1\", 1:\"C2\", 2:'C3', 3:'C4', 4:'C5', 5:\"C6\", 6:\"C7\", 7:\"C8\", 8:\"C9\", 9:'C10', 10:'C11', 11:'C12', 12:'C13', 13:'C14', 14:'C15',\n",
    "                             15:'C16', 16:'C17'})"
   ]
  },
  {
   "cell_type": "code",
   "execution_count": 0,
   "metadata": {
    "colab": {},
    "colab_type": "code",
    "id": "T42bqXvKwSCr"
   },
   "outputs": [],
   "source": [
    "tr.to_csv(\"Training_best_cluster.csv\", index = False)"
   ]
  }
 ],
 "metadata": {
  "accelerator": "GPU",
  "colab": {
   "collapsed_sections": [],
   "name": "Code_final.ipynb",
   "provenance": []
  },
  "kernelspec": {
   "display_name": "Python 3",
   "language": "python",
   "name": "python3"
  },
  "language_info": {
   "codemirror_mode": {
    "name": "ipython",
    "version": 3
   },
   "file_extension": ".py",
   "mimetype": "text/x-python",
   "name": "python",
   "nbconvert_exporter": "python",
   "pygments_lexer": "ipython3",
   "version": "3.7.1"
  }
 },
 "nbformat": 4,
 "nbformat_minor": 1
}
